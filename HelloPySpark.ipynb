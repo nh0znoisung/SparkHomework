{
 "cells": [
  {
   "cell_type": "markdown",
   "id": "59df7777",
   "metadata": {},
   "source": [
    "### Spark Setup"
   ]
  },
  {
   "cell_type": "code",
   "execution_count": 1,
   "id": "bb7f21ca",
   "metadata": {
    "scrolled": false
   },
   "outputs": [
    {
     "name": "stdout",
     "output_type": "stream",
     "text": [
      "/home/lap15383/anaconda3/envs/hello-spark/bin/python\n"
     ]
    }
   ],
   "source": [
    "import sys\n",
    "print(sys.executable)"
   ]
  },
  {
   "cell_type": "code",
   "execution_count": 2,
   "id": "92c0c286",
   "metadata": {},
   "outputs": [
    {
     "name": "stdout",
     "output_type": "stream",
     "text": [
      "     active environment : hello-spark\n"
     ]
    }
   ],
   "source": [
    "!conda info | grep \"active environment\""
   ]
  },
  {
   "cell_type": "code",
   "execution_count": 3,
   "id": "67df7c40",
   "metadata": {},
   "outputs": [
    {
     "name": "stdout",
     "output_type": "stream",
     "text": [
      "22/08/19 15:00:35 WARN Utils: Your hostname, lap15383-ThinkPad-T14-Gen-2i resolves to a loopback address: 127.0.1.1; using 192.168.1.9 instead (on interface wlp0s20f3)\n",
      "22/08/19 15:00:35 WARN Utils: Set SPARK_LOCAL_IP if you need to bind to another address\n",
      "Welcome to\n",
      "      ____              __\n",
      "     / __/__  ___ _____/ /__\n",
      "    _\\ \\/ _ \\/ _ `/ __/  '_/\n",
      "   /___/ .__/\\_,_/_/ /_/\\_\\   version 3.3.0\n",
      "      /_/\n",
      "                        \n",
      "Using Scala version 2.12.15, OpenJDK 64-Bit Server VM, 11.0.16\n",
      "Branch HEAD\n",
      "Compiled by user ubuntu on 2022-06-09T19:58:58Z\n",
      "Revision f74867bddfbcdd4d08076db36851e88b15e66556\n",
      "Url https://github.com/apache/spark\n",
      "Type --help for more information.\n"
     ]
    }
   ],
   "source": [
    "!pyspark --version # 2.12.15"
   ]
  },
  {
   "cell_type": "code",
   "execution_count": 4,
   "id": "a9a361f9",
   "metadata": {},
   "outputs": [],
   "source": [
    "import pyspark\n",
    "from pyspark.sql import SparkSession\n",
    "# from pyspark.sql.functions import sum, min, max, avg, count\n",
    "from pyspark.sql import functions as F"
   ]
  },
  {
   "cell_type": "code",
   "execution_count": 5,
   "id": "b1391073",
   "metadata": {},
   "outputs": [
    {
     "name": "stdout",
     "output_type": "stream",
     "text": [
      "22/08/19 15:00:39 WARN Utils: Your hostname, lap15383-ThinkPad-T14-Gen-2i resolves to a loopback address: 127.0.1.1; using 192.168.1.9 instead (on interface wlp0s20f3)\n",
      "22/08/19 15:00:39 WARN Utils: Set SPARK_LOCAL_IP if you need to bind to another address\n"
     ]
    },
    {
     "name": "stderr",
     "output_type": "stream",
     "text": [
      "Setting default log level to \"WARN\".\n",
      "To adjust logging level use sc.setLogLevel(newLevel). For SparkR, use setLogLevel(newLevel).\n"
     ]
    },
    {
     "name": "stdout",
     "output_type": "stream",
     "text": [
      "22/08/19 15:00:40 WARN NativeCodeLoader: Unable to load native-hadoop library for your platform... using builtin-java classes where applicable\n"
     ]
    }
   ],
   "source": [
    "spark = SparkSession.builder.appName(\"HelloPySpark\").getOrCreate()"
   ]
  },
  {
   "cell_type": "code",
   "execution_count": 6,
   "id": "5f0132f1",
   "metadata": {},
   "outputs": [
    {
     "data": {
      "text/html": [
       "\n",
       "            <div>\n",
       "                <p><b>SparkSession - in-memory</b></p>\n",
       "                \n",
       "        <div>\n",
       "            <p><b>SparkContext</b></p>\n",
       "\n",
       "            <p><a href=\"http://192.168.1.9:4040\">Spark UI</a></p>\n",
       "\n",
       "            <dl>\n",
       "              <dt>Version</dt>\n",
       "                <dd><code>v3.3.0</code></dd>\n",
       "              <dt>Master</dt>\n",
       "                <dd><code>local[*]</code></dd>\n",
       "              <dt>AppName</dt>\n",
       "                <dd><code>HelloPySpark</code></dd>\n",
       "            </dl>\n",
       "        </div>\n",
       "        \n",
       "            </div>\n",
       "        "
      ],
      "text/plain": [
       "<pyspark.sql.session.SparkSession at 0x7f8f204c86a0>"
      ]
     },
     "execution_count": 6,
     "metadata": {},
     "output_type": "execute_result"
    }
   ],
   "source": [
    "spark # only 1 cluster. On cloud => Cluster 1 2 3"
   ]
  },
  {
   "cell_type": "markdown",
   "id": "04e565f6",
   "metadata": {},
   "source": [
    "### Data Proprocessing"
   ]
  },
  {
   "cell_type": "code",
   "execution_count": 7,
   "id": "5c5e8c4d",
   "metadata": {},
   "outputs": [],
   "source": [
    "IMPORT_DATA = \"data/2018-2010_import.csv\"\n",
    "EXPORT_DATA = \"data/2018-2010_export.csv\""
   ]
  },
  {
   "cell_type": "code",
   "execution_count": 8,
   "id": "6214f435",
   "metadata": {},
   "outputs": [
    {
     "name": "stderr",
     "output_type": "stream",
     "text": [
      "                                                                                \r"
     ]
    }
   ],
   "source": [
    "df_import = spark.read.csv(IMPORT_DATA, header=True, inferSchema=True)\n",
    "df_export = spark.read.options(header=True, inferSchema=True). \\\n",
    "                        csv(EXPORT_DATA)"
   ]
  },
  {
   "cell_type": "code",
   "execution_count": 9,
   "id": "b4870e0a",
   "metadata": {},
   "outputs": [
    {
     "data": {
      "text/plain": [
       "pyspark.sql.dataframe.DataFrame"
      ]
     },
     "execution_count": 9,
     "metadata": {},
     "output_type": "execute_result"
    }
   ],
   "source": [
    "type(df_import)"
   ]
  },
  {
   "cell_type": "code",
   "execution_count": 10,
   "id": "c82da571",
   "metadata": {},
   "outputs": [
    {
     "data": {
      "text/plain": [
       "DataFrame[HSCode: int, Commodity: string, value: double, country: string, year: int]"
      ]
     },
     "execution_count": 10,
     "metadata": {},
     "output_type": "execute_result"
    }
   ],
   "source": [
    "df_import"
   ]
  },
  {
   "cell_type": "code",
   "execution_count": 11,
   "id": "280d2cf2",
   "metadata": {},
   "outputs": [
    {
     "data": {
      "text/plain": [
       "DataFrame[HSCode: int, Commodity: string, value: double, country: string, year: int]"
      ]
     },
     "execution_count": 11,
     "metadata": {},
     "output_type": "execute_result"
    }
   ],
   "source": [
    "df_export"
   ]
  },
  {
   "cell_type": "code",
   "execution_count": 12,
   "id": "3712be57",
   "metadata": {},
   "outputs": [
    {
     "name": "stdout",
     "output_type": "stream",
     "text": [
      "+------+--------------------+------+---------------+----+\n",
      "|HSCode|           Commodity| value|        country|year|\n",
      "+------+--------------------+------+---------------+----+\n",
      "|     5|PRODUCTS OF ANIMA...|   0.0|AFGHANISTAN TIS|2018|\n",
      "|     7|EDIBLE VEGETABLES...| 12.38|AFGHANISTAN TIS|2018|\n",
      "|     8|EDIBLE FRUIT AND ...| 268.6|AFGHANISTAN TIS|2018|\n",
      "|     9|COFFEE, TEA, MATE...| 35.48|AFGHANISTAN TIS|2018|\n",
      "|    11|PRODUCTS OF THE M...|  null|AFGHANISTAN TIS|2018|\n",
      "|    12|OIL SEEDS AND OLE...|  8.32|AFGHANISTAN TIS|2018|\n",
      "|    13|LAC; GUMS, RESINS...|108.78|AFGHANISTAN TIS|2018|\n",
      "|    20|PREPARATIONS OF V...|  0.65|AFGHANISTAN TIS|2018|\n",
      "|    25|SALT; SULPHUR; EA...|  0.05|AFGHANISTAN TIS|2018|\n",
      "|    27|MINERAL FUELS, MI...|   0.0|AFGHANISTAN TIS|2018|\n",
      "|    39|PLASTIC AND ARTIC...|  null|AFGHANISTAN TIS|2018|\n",
      "|    41|RAW HIDES AND SKI...|   0.0|AFGHANISTAN TIS|2018|\n",
      "|    49|PRINTED BOOKDS, N...|  null|AFGHANISTAN TIS|2018|\n",
      "|    51|WOOL, FINE OR COA...|  0.17|AFGHANISTAN TIS|2018|\n",
      "|    52|             COTTON.|  0.01|AFGHANISTAN TIS|2018|\n",
      "|    57|CARPETS AND OTHER...|  0.02|AFGHANISTAN TIS|2018|\n",
      "|    68|ARTICLES OF STONE...|  0.01|AFGHANISTAN TIS|2018|\n",
      "|    71|NATURAL OR CULTUR...|  0.01|AFGHANISTAN TIS|2018|\n",
      "|    72|      IRON AND STEEL|  0.02|AFGHANISTAN TIS|2018|\n",
      "|    74|COPPER AND ARTICL...|  0.36|AFGHANISTAN TIS|2018|\n",
      "+------+--------------------+------+---------------+----+\n",
      "only showing top 20 rows\n",
      "\n"
     ]
    }
   ],
   "source": [
    "df_import.show()"
   ]
  },
  {
   "cell_type": "code",
   "execution_count": 13,
   "id": "a9fd6344",
   "metadata": {},
   "outputs": [
    {
     "name": "stdout",
     "output_type": "stream",
     "text": [
      "-RECORD 0-------------------------\n",
      " HSCode    | 2                    \n",
      " Commodity | MEAT AND EDIBLE M... \n",
      " value     | 0.18                 \n",
      " country   | AFGHANISTAN TIS      \n",
      " year      | 2018                 \n",
      "-RECORD 1-------------------------\n",
      " HSCode    | 3                    \n",
      " Commodity | FISH AND CRUSTACE... \n",
      " value     | 0.0                  \n",
      " country   | AFGHANISTAN TIS      \n",
      " year      | 2018                 \n",
      "-RECORD 2-------------------------\n",
      " HSCode    | 4                    \n",
      " Commodity | DAIRY PRODUCE; BI... \n",
      " value     | 12.48                \n",
      " country   | AFGHANISTAN TIS      \n",
      " year      | 2018                 \n",
      "-RECORD 3-------------------------\n",
      " HSCode    | 6                    \n",
      " Commodity | LIVE TREES AND OT... \n",
      " value     | 0.0                  \n",
      " country   | AFGHANISTAN TIS      \n",
      " year      | 2018                 \n",
      "-RECORD 4-------------------------\n",
      " HSCode    | 7                    \n",
      " Commodity | EDIBLE VEGETABLES... \n",
      " value     | 1.89                 \n",
      " country   | AFGHANISTAN TIS      \n",
      " year      | 2018                 \n",
      "-RECORD 5-------------------------\n",
      " HSCode    | 8                    \n",
      " Commodity | EDIBLE FRUIT AND ... \n",
      " value     | 25.01                \n",
      " country   | AFGHANISTAN TIS      \n",
      " year      | 2018                 \n",
      "-RECORD 6-------------------------\n",
      " HSCode    | 9                    \n",
      " Commodity | COFFEE, TEA, MATE... \n",
      " value     | 13.75                \n",
      " country   | AFGHANISTAN TIS      \n",
      " year      | 2018                 \n",
      "-RECORD 7-------------------------\n",
      " HSCode    | 10                   \n",
      " Commodity | CEREALS.             \n",
      " value     | 0.75                 \n",
      " country   | AFGHANISTAN TIS      \n",
      " year      | 2018                 \n",
      "-RECORD 8-------------------------\n",
      " HSCode    | 11                   \n",
      " Commodity | PRODUCTS OF THE M... \n",
      " value     | 0.01                 \n",
      " country   | AFGHANISTAN TIS      \n",
      " year      | 2018                 \n",
      "-RECORD 9-------------------------\n",
      " HSCode    | 12                   \n",
      " Commodity | OIL SEEDS AND OLE... \n",
      " value     | 10.02                \n",
      " country   | AFGHANISTAN TIS      \n",
      " year      | 2018                 \n",
      "-RECORD 10------------------------\n",
      " HSCode    | 13                   \n",
      " Commodity | LAC; GUMS, RESINS... \n",
      " value     | 0.04                 \n",
      " country   | AFGHANISTAN TIS      \n",
      " year      | 2018                 \n",
      "-RECORD 11------------------------\n",
      " HSCode    | 14                   \n",
      " Commodity | VEGETABLE PLAITIN... \n",
      " value     | null                 \n",
      " country   | AFGHANISTAN TIS      \n",
      " year      | 2018                 \n",
      "-RECORD 12------------------------\n",
      " HSCode    | 15                   \n",
      " Commodity | ANIMAL OR VEGETAB... \n",
      " value     | 0.37                 \n",
      " country   | AFGHANISTAN TIS      \n",
      " year      | 2018                 \n",
      "-RECORD 13------------------------\n",
      " HSCode    | 17                   \n",
      " Commodity | SUGARS AND SUGAR ... \n",
      " value     | 15.92                \n",
      " country   | AFGHANISTAN TIS      \n",
      " year      | 2018                 \n",
      "-RECORD 14------------------------\n",
      " HSCode    | 18                   \n",
      " Commodity | COCOA AND COCOA P... \n",
      " value     | 0.0                  \n",
      " country   | AFGHANISTAN TIS      \n",
      " year      | 2018                 \n",
      "-RECORD 15------------------------\n",
      " HSCode    | 19                   \n",
      " Commodity | PREPARATIONS OF C... \n",
      " value     | 0.63                 \n",
      " country   | AFGHANISTAN TIS      \n",
      " year      | 2018                 \n",
      "-RECORD 16------------------------\n",
      " HSCode    | 20                   \n",
      " Commodity | PREPARATIONS OF V... \n",
      " value     | 5.04                 \n",
      " country   | AFGHANISTAN TIS      \n",
      " year      | 2018                 \n",
      "-RECORD 17------------------------\n",
      " HSCode    | 21                   \n",
      " Commodity | MISCELLANEOUS EDI... \n",
      " value     | 3.08                 \n",
      " country   | AFGHANISTAN TIS      \n",
      " year      | 2018                 \n",
      "-RECORD 18------------------------\n",
      " HSCode    | 22                   \n",
      " Commodity | BEVERAGES, SPIRIT... \n",
      " value     | 0.01                 \n",
      " country   | AFGHANISTAN TIS      \n",
      " year      | 2018                 \n",
      "-RECORD 19------------------------\n",
      " HSCode    | 23                   \n",
      " Commodity | RESIDUES AND WAST... \n",
      " value     | 0.22                 \n",
      " country   | AFGHANISTAN TIS      \n",
      " year      | 2018                 \n",
      "only showing top 20 rows\n",
      "\n"
     ]
    }
   ],
   "source": [
    "df_export.show(vertical=True)"
   ]
  },
  {
   "cell_type": "code",
   "execution_count": 14,
   "id": "4d2b8fc1",
   "metadata": {},
   "outputs": [
    {
     "name": "stdout",
     "output_type": "stream",
     "text": [
      "76124\n",
      "137023\n"
     ]
    }
   ],
   "source": [
    "print(df_import.count())\n",
    "print(df_export.count())"
   ]
  },
  {
   "cell_type": "code",
   "execution_count": 15,
   "id": "0bb61b55",
   "metadata": {},
   "outputs": [
    {
     "name": "stdout",
     "output_type": "stream",
     "text": [
      "root\n",
      " |-- HSCode: integer (nullable = true)\n",
      " |-- Commodity: string (nullable = true)\n",
      " |-- value: double (nullable = true)\n",
      " |-- country: string (nullable = true)\n",
      " |-- year: integer (nullable = true)\n",
      "\n",
      "root\n",
      " |-- HSCode: integer (nullable = true)\n",
      " |-- Commodity: string (nullable = true)\n",
      " |-- value: double (nullable = true)\n",
      " |-- country: string (nullable = true)\n",
      " |-- year: integer (nullable = true)\n",
      "\n"
     ]
    }
   ],
   "source": [
    "df_import.printSchema()\n",
    "df_export.printSchema()"
   ]
  },
  {
   "cell_type": "code",
   "execution_count": 16,
   "id": "bdb47ac7",
   "metadata": {},
   "outputs": [
    {
     "name": "stderr",
     "output_type": "stream",
     "text": [
      "[Stage 12:=============================>                            (1 + 1) / 2]\r"
     ]
    },
    {
     "name": "stdout",
     "output_type": "stream",
     "text": [
      "+-------+------------------+--------------------+------------------+---------------+------------------+\n",
      "|summary|            HSCode|           Commodity|             value|        country|              year|\n",
      "+-------+------------------+--------------------+------------------+---------------+------------------+\n",
      "|  count|             76124|               76124|             64536|          76124|             76124|\n",
      "|   mean| 53.90502338290158|                null|62.361424941119346|           null|2014.0182990909568|\n",
      "| stddev|27.546852275859635|                null| 666.3271770956131|           null| 2.579384776170248|\n",
      "|    min|                 1|AIRCRAFT, SPACECR...|               0.0|AFGHANISTAN TIS|              2010|\n",
      "|    max|                99|ZINC AND ARTICLES...|          32781.57|       ZIMBABWE|              2018|\n",
      "+-------+------------------+--------------------+------------------+---------------+------------------+\n",
      "\n"
     ]
    },
    {
     "name": "stderr",
     "output_type": "stream",
     "text": [
      "                                                                                \r"
     ]
    }
   ],
   "source": [
    "df_import.describe().show()"
   ]
  },
  {
   "cell_type": "code",
   "execution_count": 17,
   "id": "1fd86a66",
   "metadata": {},
   "outputs": [
    {
     "name": "stderr",
     "output_type": "stream",
     "text": [
      "[Stage 15:===================>                                      (1 + 2) / 3]\r"
     ]
    },
    {
     "name": "stdout",
     "output_type": "stream",
     "text": [
      "+-------+------------------+--------------------+------------------+---------------+------------------+\n",
      "|summary|            HSCode|           Commodity|             value|        country|              year|\n",
      "+-------+------------------+--------------------+------------------+---------------+------------------+\n",
      "|  count|            137023|              137023|            122985|         137023|            137023|\n",
      "|   mean|51.330302212037395|                null|21.567829166160198|           null| 2014.056304416047|\n",
      "| stddev|28.018025954244337|                null|229.70127859467328|           null|2.5801603419089547|\n",
      "|    min|                 1|AIRCRAFT, SPACECR...|               0.0|AFGHANISTAN TIS|              2010|\n",
      "|    max|                99|ZINC AND ARTICLES...|          19805.17|       ZIMBABWE|              2018|\n",
      "+-------+------------------+--------------------+------------------+---------------+------------------+\n",
      "\n"
     ]
    },
    {
     "name": "stderr",
     "output_type": "stream",
     "text": [
      "                                                                                \r"
     ]
    }
   ],
   "source": [
    "df_export.describe().show()"
   ]
  },
  {
   "cell_type": "markdown",
   "id": "97bb5f17",
   "metadata": {},
   "source": [
    "#### Remove duplicate records"
   ]
  },
  {
   "cell_type": "code",
   "execution_count": 18,
   "id": "c8208413",
   "metadata": {},
   "outputs": [
    {
     "name": "stderr",
     "output_type": "stream",
     "text": [
      "                                                                                \r"
     ]
    },
    {
     "name": "stdout",
     "output_type": "stream",
     "text": [
      "Import Df distinct values: 75093\n",
      "Import Df total values: 76124\n"
     ]
    },
    {
     "name": "stderr",
     "output_type": "stream",
     "text": [
      "                                                                                \r"
     ]
    },
    {
     "name": "stdout",
     "output_type": "stream",
     "text": [
      "Export Df distinct values: 137023\n",
      "Export Df total values: 137023\n"
     ]
    }
   ],
   "source": [
    "print(\"Import Df distinct values:\",df_import.distinct().count())\n",
    "print(\"Import Df total values:\",df_import.count())\n",
    "print(\"Export Df distinct values:\",df_export.distinct().count())\n",
    "print(\"Export Df total values:\",df_export.count())"
   ]
  },
  {
   "cell_type": "markdown",
   "id": "90f8f6bf",
   "metadata": {},
   "source": [
    "In Import Df, there are some duplicate records"
   ]
  },
  {
   "cell_type": "code",
   "execution_count": 19,
   "id": "19b45631",
   "metadata": {},
   "outputs": [],
   "source": [
    "df_import = df_import.dropDuplicates()"
   ]
  },
  {
   "cell_type": "code",
   "execution_count": 20,
   "id": "5b885902",
   "metadata": {},
   "outputs": [
    {
     "name": "stderr",
     "output_type": "stream",
     "text": [
      "                                                                                \r"
     ]
    },
    {
     "name": "stdout",
     "output_type": "stream",
     "text": [
      "True\n",
      "True\n"
     ]
    }
   ],
   "source": [
    "print(df_import.dropDuplicates(['Commodity', 'country', 'year']).count() == df_import.count())\n",
    "print(df_export.dropDuplicates(['Commodity', 'country', 'year']).count() == df_export.count())"
   ]
  },
  {
   "cell_type": "markdown",
   "id": "d74a1982",
   "metadata": {},
   "source": [
    "(commodity, country, year) is the primary keys of Import and Export Dataframe"
   ]
  },
  {
   "cell_type": "markdown",
   "id": "18eccf97",
   "metadata": {},
   "source": [
    "#### Clean Data"
   ]
  },
  {
   "cell_type": "code",
   "execution_count": 21,
   "id": "c6854dfc",
   "metadata": {},
   "outputs": [
    {
     "name": "stdout",
     "output_type": "stream",
     "text": [
      "Number of record in Import DataFrame: 75093\n"
     ]
    },
    {
     "name": "stderr",
     "output_type": "stream",
     "text": [
      "                                                                                \r"
     ]
    },
    {
     "name": "stdout",
     "output_type": "stream",
     "text": [
      "+------+---------+-----+-------+----+\n",
      "|HSCode|Commodity|value|country|year|\n",
      "+------+---------+-----+-------+----+\n",
      "|     0|        0|11416|      0|   0|\n",
      "+------+---------+-----+-------+----+\n",
      "\n",
      "Number of record in Export DataFrame: 137023\n"
     ]
    },
    {
     "name": "stderr",
     "output_type": "stream",
     "text": [
      "[Stage 72:>                                                         (0 + 3) / 3]\r"
     ]
    },
    {
     "name": "stdout",
     "output_type": "stream",
     "text": [
      "+------+---------+-----+-------+----+\n",
      "|HSCode|Commodity|value|country|year|\n",
      "+------+---------+-----+-------+----+\n",
      "|     0|        0|14038|      0|   0|\n",
      "+------+---------+-----+-------+----+\n",
      "\n"
     ]
    },
    {
     "name": "stderr",
     "output_type": "stream",
     "text": [
      "                                                                                \r"
     ]
    }
   ],
   "source": [
    "# Null, Empty\n",
    "def check_na(df: pyspark.sql.DataFrame) -> pyspark.sql.DataFrame:\n",
    "    return df.select([F.count(F.when(F.isnan(c) | F.col(c).isNull(), c)).alias(c) for c in df.columns])\n",
    "\n",
    "print(\"Number of record in Import DataFrame:\", df_import.count())\n",
    "check_na(df_import).show()\n",
    "# df_import.select([F.count(F.when(F.isnan(c) | F.col(c).isNull(), c)).alias(c) for c in df_import.columns]).show()\n",
    "\n",
    "print(\"Number of record in Export DataFrame:\", df_export.count())\n",
    "check_na(df_export).show()\n",
    "# df_export.select([F.count(F.when(F.isnan(c) | F.col(c).isNull(), c)).alias(c) for c in df_export.columns]).show()"
   ]
  },
  {
   "cell_type": "code",
   "execution_count": 22,
   "id": "903dd747",
   "metadata": {},
   "outputs": [],
   "source": [
    "from pyspark.ml.feature import Imputer\n",
    "\n",
    "na_columns = ['value'] #int type\n",
    "def fill_na_with_median(df: pyspark.sql.dataframe.DataFrame, na_columns: list) -> pyspark.sql.dataframe.DataFrame:\n",
    "    imputer = Imputer(inputCols=na_columns, outputCols=[c for c in na_columns])\n",
    "    tmp_df =  imputer.setStrategy(\"median\").fit(df).transform(df)\n",
    "    # tmp_df = tmp_df.drop(*na_columns)\n",
    "    # for item in na_columns:\n",
    "    #     tmp_df = tmp_df.withColumnRenamed('{}_imputed'.format(item), item)\n",
    "    return tmp_df\n",
    "\n",
    "# fill_na_with_median(df_import, na_columns).show()"
   ]
  },
  {
   "cell_type": "code",
   "execution_count": 23,
   "id": "26954d2c",
   "metadata": {},
   "outputs": [
    {
     "name": "stderr",
     "output_type": "stream",
     "text": [
      "                                                                                \r"
     ]
    }
   ],
   "source": [
    "df_import = fill_na_with_median(df_import, na_columns)\n",
    "df_export = fill_na_with_median(df_export, na_columns)"
   ]
  },
  {
   "cell_type": "code",
   "execution_count": 24,
   "id": "29cc1688",
   "metadata": {},
   "outputs": [
    {
     "name": "stderr",
     "output_type": "stream",
     "text": [
      "                                                                                \r"
     ]
    },
    {
     "name": "stdout",
     "output_type": "stream",
     "text": [
      "+------+---------+-----+-------+----+\n",
      "|HSCode|Commodity|value|country|year|\n",
      "+------+---------+-----+-------+----+\n",
      "|     0|        0|    0|      0|   0|\n",
      "+------+---------+-----+-------+----+\n",
      "\n"
     ]
    },
    {
     "name": "stderr",
     "output_type": "stream",
     "text": [
      "[Stage 91:>                                                         (0 + 3) / 3]\r"
     ]
    },
    {
     "name": "stdout",
     "output_type": "stream",
     "text": [
      "+------+---------+-----+-------+----+\n",
      "|HSCode|Commodity|value|country|year|\n",
      "+------+---------+-----+-------+----+\n",
      "|     0|        0|    0|      0|   0|\n",
      "+------+---------+-----+-------+----+\n",
      "\n"
     ]
    },
    {
     "name": "stderr",
     "output_type": "stream",
     "text": [
      "                                                                                \r"
     ]
    }
   ],
   "source": [
    "check_na(df_import).show()\n",
    "check_na(df_export).show()"
   ]
  },
  {
   "cell_type": "markdown",
   "id": "f4b5c4b8",
   "metadata": {},
   "source": [
    "#### Setup function Longest Consecutive Year"
   ]
  },
  {
   "cell_type": "code",
   "execution_count": 25,
   "id": "cd49ad1e",
   "metadata": {},
   "outputs": [
    {
     "name": "stdout",
     "output_type": "stream",
     "text": [
      "9\n"
     ]
    }
   ],
   "source": [
    "# Write unittest\n",
    "def longest_consecutive_year(lst: list) -> int:\n",
    "    lst.sort()\n",
    "    # print(lst)\n",
    "    n = len(lst)\n",
    "    consecutive_year = 1\n",
    "    ans = 1\n",
    "    for i in range(1,n):\n",
    "        if lst[i] == lst[i-1] + 1:\n",
    "            consecutive_year += 1\n",
    "        else:\n",
    "            ans = max(ans, consecutive_year)\n",
    "            consecutive_year = 1\n",
    "    ans = max(ans, consecutive_year)\n",
    "    return ans\n",
    "\n",
    "lst = [2014, 2017, 2016, 2018, 2015, 2013, 2010, 2012, 2011] \n",
    "print(longest_consecutive_year(lst))\n",
    "# [2014, 2017, 2016, 2018, 2015, 2013, 2010, 2012, 2011]"
   ]
  },
  {
   "cell_type": "code",
   "execution_count": 26,
   "id": "b03dbbb2",
   "metadata": {},
   "outputs": [],
   "source": [
    "# Convert a Python unction to Pyspark UDF (User Defined Function)\n",
    "from pyspark.sql.types import IntegerType, StringType, ArrayType, FloatType, StructField, StructType\n",
    "longest_consecutive_year_udf = F.udf(lambda lst: longest_consecutive_year(lst))"
   ]
  },
  {
   "cell_type": "markdown",
   "id": "2c39f417",
   "metadata": {},
   "source": [
    "## Problem 1: Calculate total import and export values for each product"
   ]
  },
  {
   "cell_type": "markdown",
   "id": "52c0b0c1",
   "metadata": {},
   "source": [
    "### Processing in Import DataFrame"
   ]
  },
  {
   "cell_type": "markdown",
   "id": "7dfd77fd",
   "metadata": {},
   "source": [
    "1. Total import value and number of countries import from"
   ]
  },
  {
   "cell_type": "code",
   "execution_count": 27,
   "id": "aeb598f3",
   "metadata": {},
   "outputs": [
    {
     "name": "stdout",
     "output_type": "stream",
     "text": [
      "+--------------------+------------------+-------------------+\n",
      "|           Commodity|  sum_value_import|nums_country_import|\n",
      "+--------------------+------------------+-------------------+\n",
      "|       LIVE ANIMALS.|149.68999999999994|                485|\n",
      "|                SILK|2367.4499999999985|                353|\n",
      "| MAN-MADE FILAMENTS.| 7126.429999999997|                720|\n",
      "|PROJECT GOODS; SO...| 39179.01999999996|                951|\n",
      "|SHIPS, BOATS AND ...| 47597.75000000002|                543|\n",
      "|ARMS AND AMMUNITI...|326.37000000000023|                313|\n",
      "|PREPARATIONS OF M...|51.449999999999996|                229|\n",
      "|OTHER MADE UP TEX...|3937.5699999999915|                894|\n",
      "|MISCELLANEOUS EDI...|           1303.26|                736|\n",
      "|ARTICLES OF LEATH...| 2865.159999999998|                795|\n",
      "|ARTICLES OF IRON ...| 36412.63000000003|               1307|\n",
      "|COPPER AND ARTICL...| 30108.51000000003|               1227|\n",
      "|ARTICLES OF APPAR...|2089.7899999999986|                852|\n",
      "|OTHER VEGETABLE T...| 2737.029999999998|                452|\n",
      "|MISCELLANEOUS CHE...|38863.820000000036|               1064|\n",
      "|CARPETS AND OTHER...| 833.1100000000004|                565|\n",
      "|PREPARED FEATHERS...|154.85000000000014|                381|\n",
      "|RAW HIDES AND SKI...|  5369.93999999999|               1143|\n",
      "|MISCELLANEOUS ART...| 6449.509999999991|                932|\n",
      "|ALUMINIUM AND ART...|32144.880000000034|               1388|\n",
      "+--------------------+------------------+-------------------+\n",
      "only showing top 20 rows\n",
      "\n"
     ]
    }
   ],
   "source": [
    "new_df_import = df_import.groupBy(\"Commodity\") \\\n",
    "            .agg(F.sum(\"value\").alias(\"sum_value_import\"), \\\n",
    "                F.count(\"country\").alias(\"nums_country_import\"))\n",
    "# print(new_df_import.count())\n",
    "new_df_import.show()"
   ]
  },
  {
   "cell_type": "markdown",
   "id": "afd028bb",
   "metadata": {},
   "source": [
    "2. Max value and Country that this product has the highest value"
   ]
  },
  {
   "cell_type": "code",
   "execution_count": 28,
   "id": "940a9a22",
   "metadata": {},
   "outputs": [
    {
     "name": "stderr",
     "output_type": "stream",
     "text": [
      "                                                                                \r"
     ]
    },
    {
     "name": "stdout",
     "output_type": "stream",
     "text": [
      "+--------------------+-----------------------------+----------------+\n",
      "|           Commodity|country_with_max_value_import|max_value_import|\n",
      "+--------------------+-----------------------------+----------------+\n",
      "|ARTICLES OF LEATH...|                   CHINA P RP|          377.04|\n",
      "|FURNITURE; BEDDIN...|                   CHINA P RP|          1200.9|\n",
      "|   ORGANIC CHEMICALS|                   CHINA P RP|         8596.25|\n",
      "|PREPARED FEATHERS...|                   CHINA P RP|           22.14|\n",
      "|TOYS, GAMES AND S...|                   CHINA P RP|          488.54|\n",
      "|LIVE TREES AND OT...|                     THAILAND|            7.43|\n",
      "|MAN-MADE STAPLE F...|                   CHINA P RP|           326.8|\n",
      "|TANNING OR DYEING...|                   CHINA P RP|          524.89|\n",
      "|OIL SEEDS AND OLE...|                        SUDAN|          123.13|\n",
      "|ZINC AND ARTICLES...|                     KOREA RP|          432.19|\n",
      "|      IRON AND STEEL|                   CHINA P RP|         2713.34|\n",
      "|CORK AND ARTICLES...|                     PORTUGAL|            3.68|\n",
      "|MISCELLANEOUS ART...|                   CHINA P RP|           420.6|\n",
      "|MISCELLANEOUS GOODS.|                  UNSPECIFIED|         7349.64|\n",
      "|SOAP, ORGANIC SUR...|                      GERMANY|          131.61|\n",
      "|RAILWAY OR TRAMWA...|                        U S A|          281.18|\n",
      "|ARTICLES OF STONE...|                   CHINA P RP|          539.19|\n",
      "|MEAT AND EDIBLE M...|                      BELGIUM|            1.35|\n",
      "|            CEREALS.|                      UKRAINE|          619.23|\n",
      "|OPTICAL, PHOTOGRA...|                   CHINA P RP|         1663.23|\n",
      "+--------------------+-----------------------------+----------------+\n",
      "only showing top 20 rows\n",
      "\n"
     ]
    }
   ],
   "source": [
    "# Note: Uppercase and lowercase when groupBy._df_import groupBy accept and auto convert flexible upper and lower while select column not accept.\n",
    "max_value_import = df_import.groupBy(\"Commodity\").max(\"value\").withColumnRenamed(\"max(value)\", \"max_value\")\n",
    "tmp_import = df_import.join(max_value_import, \"Commodity\", \"left\")\n",
    "tmp_import = tmp_import.filter(tmp_import.value == tmp_import.max_value).select('Commodity', 'country', 'value') \\\n",
    "                        .withColumnRenamed(\"country\", \"country_with_max_value_import\") \\\n",
    "                        .withColumnRenamed(\"value\", \"max_value_import\")\n",
    "# print(tmp_import.count())\n",
    "tmp_import.show()"
   ]
  },
  {
   "cell_type": "code",
   "execution_count": 29,
   "id": "6d136a34",
   "metadata": {},
   "outputs": [
    {
     "name": "stderr",
     "output_type": "stream",
     "text": [
      "                                                                                \r"
     ]
    },
    {
     "name": "stdout",
     "output_type": "stream",
     "text": [
      "+--------------------+------------------+-------------------+-----------------------------+----------------+\n",
      "|           Commodity|  sum_value_import|nums_country_import|country_with_max_value_import|max_value_import|\n",
      "+--------------------+------------------+-------------------+-----------------------------+----------------+\n",
      "|ARTICLES OF LEATH...| 2865.159999999998|                795|                   CHINA P RP|          377.04|\n",
      "|FURNITURE; BEDDIN...|12161.890000000003|               1003|                   CHINA P RP|          1200.9|\n",
      "|   ORGANIC CHEMICALS|150312.66999999993|               1086|                   CHINA P RP|         8596.25|\n",
      "|PREPARED FEATHERS...|154.85000000000014|                381|                   CHINA P RP|           22.14|\n",
      "|TOYS, GAMES AND S...| 4530.969999999992|                742|                   CHINA P RP|          488.54|\n",
      "|LIVE TREES AND OT...|187.04999999999995|                459|                     THAILAND|            7.43|\n",
      "|MAN-MADE STAPLE F...| 5801.739999999996|                656|                   CHINA P RP|           326.8|\n",
      "|TANNING OR DYEING...|14828.799999999992|                955|                   CHINA P RP|          524.89|\n",
      "|OIL SEEDS AND OLE...| 2962.869999999999|                870|                        SUDAN|          123.13|\n",
      "|ZINC AND ARTICLES...|4540.2899999999945|                933|                     KOREA RP|          432.19|\n",
      "|      IRON AND STEEL|102271.82000000002|               1482|                   CHINA P RP|         2713.34|\n",
      "|CORK AND ARTICLES...| 73.88000000000001|                272|                     PORTUGAL|            3.68|\n",
      "|MISCELLANEOUS ART...| 6449.509999999991|                932|                   CHINA P RP|           420.6|\n",
      "|MISCELLANEOUS GOODS.|41979.390000000014|               1505|                  UNSPECIFIED|         7349.64|\n",
      "|SOAP, ORGANIC SUR...| 5791.259999999991|                897|                      GERMANY|          131.61|\n",
      "|RAILWAY OR TRAMWA...| 3671.769999999996|                627|                        U S A|          281.18|\n",
      "|ARTICLES OF STONE...| 5749.239999999992|                837|                   CHINA P RP|          539.19|\n",
      "|MEAT AND EDIBLE M...| 38.62999999999998|                156|                      BELGIUM|            1.35|\n",
      "|            CEREALS.|2206.8599999999997|                278|                      UKRAINE|          619.23|\n",
      "|OPTICAL, PHOTOGRA...| 65627.79999999997|               1392|                   CHINA P RP|         1663.23|\n",
      "+--------------------+------------------+-------------------+-----------------------------+----------------+\n",
      "only showing top 20 rows\n",
      "\n"
     ]
    }
   ],
   "source": [
    "new_df_import = new_df_import.join(tmp_import, 'Commodity', 'inner')\n",
    "new_df_import.show()"
   ]
  },
  {
   "cell_type": "markdown",
   "id": "a461086d",
   "metadata": {},
   "source": [
    "3. Longest Consecutive Year"
   ]
  },
  {
   "cell_type": "code",
   "execution_count": 30,
   "id": "c3beb166",
   "metadata": {},
   "outputs": [
    {
     "name": "stdout",
     "output_type": "stream",
     "text": [
      "+--------------------+--------------------+\n",
      "|           Commodity|           year_list|\n",
      "+--------------------+--------------------+\n",
      "|       LIVE ANIMALS.|[2014, 2017, 2016...|\n",
      "|                SILK|[2018, 2014, 2017...|\n",
      "| MAN-MADE FILAMENTS.|[2014, 2015, 2016...|\n",
      "|SHIPS, BOATS AND ...|[2014, 2018, 2013...|\n",
      "|PROJECT GOODS; SO...|[2017, 2013, 2016...|\n",
      "|ARMS AND AMMUNITI...|[2018, 2017, 2016...|\n",
      "|PREPARATIONS OF M...|[2015, 2018, 2014...|\n",
      "|OTHER MADE UP TEX...|[2014, 2018, 2017...|\n",
      "|MISCELLANEOUS EDI...|[2013, 2016, 2018...|\n",
      "|ARTICLES OF IRON ...|[2017, 2013, 2015...|\n",
      "|ARTICLES OF LEATH...|[2014, 2017, 2016...|\n",
      "|COPPER AND ARTICL...|[2017, 2015, 2016...|\n",
      "|ARTICLES OF APPAR...|[2017, 2015, 2013...|\n",
      "|OTHER VEGETABLE T...|[2014, 2018, 2017...|\n",
      "|CARPETS AND OTHER...|[2013, 2014, 2016...|\n",
      "|PREPARED FEATHERS...|[2016, 2014, 2015...|\n",
      "|MISCELLANEOUS CHE...|[2017, 2013, 2014...|\n",
      "|RAW HIDES AND SKI...|[2014, 2013, 2016...|\n",
      "|MISCELLANEOUS ART...|[2015, 2014, 2013...|\n",
      "|ALUMINIUM AND ART...|[2018, 2016, 2013...|\n",
      "+--------------------+--------------------+\n",
      "only showing top 20 rows\n",
      "\n"
     ]
    }
   ],
   "source": [
    "year_import = df_import.select(\"Commodity\", \"year\") \\\n",
    "                    .distinct() \\\n",
    "                    .groupBy(\"Commodity\") \\\n",
    "                    .agg(F.collect_list('year')) \\\n",
    "                    .withColumnRenamed(\"collect_list(year)\", \"year_list\")\n",
    "year_import.show()"
   ]
  },
  {
   "cell_type": "code",
   "execution_count": 31,
   "id": "fec70492",
   "metadata": {},
   "outputs": [
    {
     "name": "stderr",
     "output_type": "stream",
     "text": [
      "[Stage 129:>                                                        (0 + 1) / 1]\r"
     ]
    },
    {
     "name": "stdout",
     "output_type": "stream",
     "text": [
      "+--------------------+-------------------------------+\n",
      "|           Commodity|longest_consecutive_year_import|\n",
      "+--------------------+-------------------------------+\n",
      "|       LIVE ANIMALS.|                              9|\n",
      "|                SILK|                              9|\n",
      "| MAN-MADE FILAMENTS.|                              9|\n",
      "|SHIPS, BOATS AND ...|                              9|\n",
      "|PROJECT GOODS; SO...|                              9|\n",
      "|ARMS AND AMMUNITI...|                              9|\n",
      "|PREPARATIONS OF M...|                              9|\n",
      "|OTHER MADE UP TEX...|                              9|\n",
      "|MISCELLANEOUS EDI...|                              9|\n",
      "|ARTICLES OF IRON ...|                              9|\n",
      "|ARTICLES OF LEATH...|                              9|\n",
      "|COPPER AND ARTICL...|                              9|\n",
      "|ARTICLES OF APPAR...|                              9|\n",
      "|OTHER VEGETABLE T...|                              9|\n",
      "|CARPETS AND OTHER...|                              9|\n",
      "|PREPARED FEATHERS...|                              9|\n",
      "|MISCELLANEOUS CHE...|                              9|\n",
      "|RAW HIDES AND SKI...|                              9|\n",
      "|MISCELLANEOUS ART...|                              9|\n",
      "|ALUMINIUM AND ART...|                              9|\n",
      "+--------------------+-------------------------------+\n",
      "only showing top 20 rows\n",
      "\n"
     ]
    },
    {
     "name": "stderr",
     "output_type": "stream",
     "text": [
      "                                                                                \r"
     ]
    }
   ],
   "source": [
    "longest_consecutive_year_import = year_import.withColumn('longest_consecutive_year_import', longest_consecutive_year_udf(F.col(\"year_list\"))) \\\n",
    "                    .drop(\"year_list\")\n",
    "longest_consecutive_year_import.show()"
   ]
  },
  {
   "cell_type": "code",
   "execution_count": 32,
   "id": "c2fa6f95",
   "metadata": {},
   "outputs": [
    {
     "name": "stderr",
     "output_type": "stream",
     "text": [
      "                                                                                \r"
     ]
    },
    {
     "name": "stdout",
     "output_type": "stream",
     "text": [
      "+--------------------+------------------+-------------------+-----------------------------+----------------+-------------------------------+\n",
      "|           Commodity|  sum_value_import|nums_country_import|country_with_max_value_import|max_value_import|longest_consecutive_year_import|\n",
      "+--------------------+------------------+-------------------+-----------------------------+----------------+-------------------------------+\n",
      "|ARTICLES OF LEATH...| 2865.159999999998|                795|                   CHINA P RP|          377.04|                              9|\n",
      "|FURNITURE; BEDDIN...|12161.890000000003|               1003|                   CHINA P RP|          1200.9|                              9|\n",
      "|   ORGANIC CHEMICALS|150312.66999999993|               1086|                   CHINA P RP|         8596.25|                              9|\n",
      "|PREPARED FEATHERS...|154.85000000000014|                381|                   CHINA P RP|           22.14|                              9|\n",
      "|TOYS, GAMES AND S...| 4530.969999999992|                742|                   CHINA P RP|          488.54|                              9|\n",
      "|LIVE TREES AND OT...|187.04999999999995|                459|                     THAILAND|            7.43|                              9|\n",
      "|MAN-MADE STAPLE F...| 5801.739999999996|                656|                   CHINA P RP|           326.8|                              9|\n",
      "|TANNING OR DYEING...|14828.799999999992|                955|                   CHINA P RP|          524.89|                              9|\n",
      "|OIL SEEDS AND OLE...| 2962.869999999999|                870|                        SUDAN|          123.13|                              9|\n",
      "|ZINC AND ARTICLES...|4540.2899999999945|                933|                     KOREA RP|          432.19|                              9|\n",
      "|      IRON AND STEEL|102271.82000000002|               1482|                   CHINA P RP|         2713.34|                              9|\n",
      "|CORK AND ARTICLES...| 73.88000000000001|                272|                     PORTUGAL|            3.68|                              9|\n",
      "|MISCELLANEOUS ART...| 6449.509999999991|                932|                   CHINA P RP|           420.6|                              9|\n",
      "|MISCELLANEOUS GOODS.|41979.390000000014|               1505|                  UNSPECIFIED|         7349.64|                              9|\n",
      "|SOAP, ORGANIC SUR...| 5791.259999999991|                897|                      GERMANY|          131.61|                              9|\n",
      "|RAILWAY OR TRAMWA...| 3671.769999999996|                627|                        U S A|          281.18|                              9|\n",
      "|ARTICLES OF STONE...| 5749.239999999992|                837|                   CHINA P RP|          539.19|                              9|\n",
      "|MEAT AND EDIBLE M...| 38.62999999999998|                156|                      BELGIUM|            1.35|                              9|\n",
      "|            CEREALS.|2206.8599999999997|                278|                      UKRAINE|          619.23|                              9|\n",
      "|OPTICAL, PHOTOGRA...| 65627.79999999997|               1392|                   CHINA P RP|         1663.23|                              9|\n",
      "+--------------------+------------------+-------------------+-----------------------------+----------------+-------------------------------+\n",
      "only showing top 20 rows\n",
      "\n"
     ]
    }
   ],
   "source": [
    "new_df_import = new_df_import.join(longest_consecutive_year_import, \"Commodity\", \"inner\") \n",
    "new_df_import.show()"
   ]
  },
  {
   "cell_type": "markdown",
   "id": "c89738a9",
   "metadata": {},
   "source": [
    "### Processing in Export DataFrame"
   ]
  },
  {
   "cell_type": "markdown",
   "id": "7dfd77fd",
   "metadata": {},
   "source": [
    "1. Total export value and number of countries export from"
   ]
  },
  {
   "cell_type": "code",
   "execution_count": 33,
   "id": "aeb598f3",
   "metadata": {},
   "outputs": [
    {
     "name": "stdout",
     "output_type": "stream",
     "text": [
      "+--------------------+------------------+-------------------+\n",
      "|           Commodity|  sum_value_export|nums_country_export|\n",
      "+--------------------+------------------+-------------------+\n",
      "|       LIVE ANIMALS.|386.19000000000005|                457|\n",
      "|                SILK|1432.0000000000002|               1190|\n",
      "| MAN-MADE FILAMENTS.|20649.139999999996|               1658|\n",
      "|PROJECT GOODS; SO...| 838.4200000000008|               1447|\n",
      "|SHIPS, BOATS AND ...|43183.310000000056|                615|\n",
      "|ARMS AND AMMUNITI...| 728.0800000000011|                741|\n",
      "|PREPARATIONS OF M...|           2204.54|                771|\n",
      "|OTHER MADE UP TEX...|39782.380000000056|               1865|\n",
      "|MISCELLANEOUS EDI...| 5178.789999999991|               1530|\n",
      "|ARTICLES OF LEATH...|20343.830000000024|               1840|\n",
      "|ARTICLES OF IRON ...|61659.530000000064|               1880|\n",
      "|COPPER AND ARTICL...|24569.900000000016|               1687|\n",
      "|ARTICLES OF APPAR...|62335.470000000016|               1841|\n",
      "|OTHER VEGETABLE T...| 3534.729999999995|               1354|\n",
      "|MISCELLANEOUS CHE...|28635.830000000005|               1706|\n",
      "|CARPETS AND OTHER...|14488.630000000025|               1649|\n",
      "|PREPARED FEATHERS...|2408.5899999999997|               1156|\n",
      "|RAW HIDES AND SKI...| 9178.040000000014|               1068|\n",
      "|MISCELLANEOUS ART...|4594.9999999999945|               1696|\n",
      "|ALUMINIUM AND ART...| 25444.20000000004|               1708|\n",
      "+--------------------+------------------+-------------------+\n",
      "only showing top 20 rows\n",
      "\n"
     ]
    }
   ],
   "source": [
    "new_df_export = df_export.groupBy(\"Commodity\") \\\n",
    "            .agg(F.sum(\"value\").alias(\"sum_value_export\"), \\\n",
    "                F.count(\"country\").alias(\"nums_country_export\"))\n",
    "# print(new_df_export.count())\n",
    "new_df_export.show()"
   ]
  },
  {
   "cell_type": "markdown",
   "id": "afd028bb",
   "metadata": {},
   "source": [
    "2. Max value and Country that this product has the highest value"
   ]
  },
  {
   "cell_type": "code",
   "execution_count": 34,
   "id": "6627b5ec",
   "metadata": {},
   "outputs": [
    {
     "name": "stdout",
     "output_type": "stream",
     "text": [
      "+--------------------+-----------------------------+----------------+\n",
      "|           Commodity|country_with_max_value_export|max_value_export|\n",
      "+--------------------+-----------------------------+----------------+\n",
      "|RAILWAY OR TRAMWA...|                    AUSTRALIA|          350.07|\n",
      "|SALT; SULPHUR; EA...|                   CHINA P RP|          680.83|\n",
      "|   ORGANIC CHEMICALS|                   CHINA P RP|         3249.21|\n",
      "|PLASTIC AND ARTIC...|                   CHINA P RP|         1104.52|\n",
      "|LEAD AND ARTICLES...|                     KOREA RP|          158.82|\n",
      "|ALUMINIUM AND ART...|                     MALAYSIA|          909.65|\n",
      "|        FERTILISERS.|                        NEPAL|           67.88|\n",
      "|      IRON AND STEEL|                        NEPAL|         1140.02|\n",
      "|KNITTED OR CROCHE...|                SRI LANKA DSR|          173.66|\n",
      "|CLOCKS AND WATCHE...|                  SWITZERLAND|           26.47|\n",
      "|BEVERAGES, SPIRIT...|                  U ARAB EMTS|            85.6|\n",
      "|INORGANIC CHEMICA...|                  U ARAB EMTS|          362.88|\n",
      "|PAPER AND PAPERBO...|                  U ARAB EMTS|           286.1|\n",
      "|LIVE TREES AND OT...|                        U S A|           21.03|\n",
      "|PRODUCTS OF THE M...|                        U S A|           60.17|\n",
      "|PREPARATIONS OF M...|                        U S A|          326.71|\n",
      "|COCOA AND COCOA P...|                        U S A|           52.03|\n",
      "|PREPARATIONS OF V...|                        U S A|          109.11|\n",
      "|MISCELLANEOUS EDI...|                        U S A|          159.29|\n",
      "|PHARMACEUTICAL PR...|                        U S A|         5389.73|\n",
      "+--------------------+-----------------------------+----------------+\n",
      "only showing top 20 rows\n",
      "\n"
     ]
    }
   ],
   "source": [
    "# Note: Uppercase and lowercase when groupBy._df_export groupBy accept and auto convert flexible upper and lower while select column not accept.\n",
    "max_value_export = df_export.groupBy(\"Commodity\").max(\"value\").withColumnRenamed(\"max(value)\", \"max_value\")\n",
    "tmp_export = df_export.join(max_value_export, \"Commodity\", \"left\")\n",
    "tmp_export = tmp_export.filter(tmp_export.value == tmp_export.max_value).select('Commodity', 'country', 'value') \\\n",
    "                        .withColumnRenamed(\"country\", \"country_with_max_value_export\") \\\n",
    "                        .withColumnRenamed(\"value\", \"max_value_export\")\n",
    "# print(tmp_export.count())\n",
    "tmp_export.show()"
   ]
  },
  {
   "cell_type": "code",
   "execution_count": 35,
   "id": "6d136a34",
   "metadata": {},
   "outputs": [
    {
     "name": "stdout",
     "output_type": "stream",
     "text": [
      "+--------------------+------------------+-------------------+-----------------------------+----------------+\n",
      "|           Commodity|  sum_value_export|nums_country_export|country_with_max_value_export|max_value_export|\n",
      "+--------------------+------------------+-------------------+-----------------------------+----------------+\n",
      "|RAILWAY OR TRAMWA...|1920.7399999999984|                967|                    AUSTRALIA|          350.07|\n",
      "|SALT; SULPHUR; EA...| 16893.19000000002|               1675|                   CHINA P RP|          680.83|\n",
      "|   ORGANIC CHEMICALS| 113042.4600000001|               1758|                   CHINA P RP|         3249.21|\n",
      "|PLASTIC AND ARTIC...|50079.310000000034|               1872|                   CHINA P RP|         1104.52|\n",
      "|LEAD AND ARTICLES...|2067.0900000000006|                766|                     KOREA RP|          158.82|\n",
      "|ALUMINIUM AND ART...| 25444.20000000004|               1708|                     MALAYSIA|          909.65|\n",
      "|        FERTILISERS.| 910.4000000000018|               1034|                        NEPAL|           67.88|\n",
      "|      IRON AND STEEL| 76627.84000000001|               1665|                        NEPAL|         1140.02|\n",
      "|KNITTED OR CROCHE...|2504.2799999999997|               1115|                SRI LANKA DSR|          173.66|\n",
      "|CLOCKS AND WATCHE...| 833.7100000000012|               1389|                  SWITZERLAND|           26.47|\n",
      "|BEVERAGES, SPIRIT...| 3009.989999999997|               1233|                  U ARAB EMTS|            85.6|\n",
      "|INORGANIC CHEMICA...|14107.700000000013|               1600|                  U ARAB EMTS|          362.88|\n",
      "|PAPER AND PAPERBO...| 10684.29000000001|               1842|                  U ARAB EMTS|           286.1|\n",
      "|LIVE TREES AND OT...|  748.580000000001|               1125|                        U S A|           21.03|\n",
      "|PRODUCTS OF THE M...| 2222.759999999999|               1341|                        U S A|           60.17|\n",
      "|PREPARATIONS OF M...|           2204.54|                771|                        U S A|          326.71|\n",
      "|COCOA AND COCOA P...|1136.4700000000005|                961|                        U S A|           52.03|\n",
      "|PREPARATIONS OF V...| 4192.489999999992|               1440|                        U S A|          109.11|\n",
      "|MISCELLANEOUS EDI...| 5178.789999999991|               1530|                        U S A|          159.29|\n",
      "|PHARMACEUTICAL PR...|101807.09000000005|               1916|                        U S A|         5389.73|\n",
      "+--------------------+------------------+-------------------+-----------------------------+----------------+\n",
      "only showing top 20 rows\n",
      "\n"
     ]
    }
   ],
   "source": [
    "new_df_export = new_df_export.join(tmp_export, 'Commodity', 'inner')\n",
    "new_df_export.show()"
   ]
  },
  {
   "cell_type": "markdown",
   "id": "a461086d",
   "metadata": {},
   "source": [
    "3. Longest Consecutive Year"
   ]
  },
  {
   "cell_type": "code",
   "execution_count": 36,
   "id": "c3beb166",
   "metadata": {},
   "outputs": [
    {
     "name": "stdout",
     "output_type": "stream",
     "text": [
      "+--------------------+--------------------+\n",
      "|           Commodity|           year_list|\n",
      "+--------------------+--------------------+\n",
      "|       LIVE ANIMALS.|[2017, 2016, 2018...|\n",
      "|                SILK|[2018, 2017, 2015...|\n",
      "| MAN-MADE FILAMENTS.|[2015, 2016, 2018...|\n",
      "|PROJECT GOODS; SO...|[2017, 2016, 2018...|\n",
      "|SHIPS, BOATS AND ...|[2018, 2016, 2015...|\n",
      "|ARMS AND AMMUNITI...|[2018, 2017, 2016...|\n",
      "|PREPARATIONS OF M...|[2015, 2018, 2016...|\n",
      "|OTHER MADE UP TEX...|[2018, 2017, 2015...|\n",
      "|MISCELLANEOUS EDI...|[2016, 2018, 2015...|\n",
      "|ARTICLES OF IRON ...|[2017, 2015, 2016...|\n",
      "|ARTICLES OF LEATH...|[2017, 2016, 2018...|\n",
      "|COPPER AND ARTICL...|[2017, 2015, 2016...|\n",
      "|ARTICLES OF APPAR...|[2017, 2015, 2016...|\n",
      "|OTHER VEGETABLE T...|[2018, 2017, 2016...|\n",
      "|PREPARED FEATHERS...|[2016, 2015, 2017...|\n",
      "|CARPETS AND OTHER...|[2016, 2015, 2017...|\n",
      "|MISCELLANEOUS CHE...|[2017, 2016, 2015...|\n",
      "|RAW HIDES AND SKI...|[2016, 2017, 2015...|\n",
      "|MISCELLANEOUS ART...|[2015, 2017, 2018...|\n",
      "|ALUMINIUM AND ART...|[2018, 2016, 2015...|\n",
      "+--------------------+--------------------+\n",
      "only showing top 20 rows\n",
      "\n"
     ]
    }
   ],
   "source": [
    "year_export = df_export.select(\"Commodity\", \"year\") \\\n",
    "                    .distinct() \\\n",
    "                    .groupBy(\"Commodity\") \\\n",
    "                    .agg(F.collect_list('year')) \\\n",
    "                    .withColumnRenamed(\"collect_list(year)\", \"year_list\")\n",
    "year_export.show()"
   ]
  },
  {
   "cell_type": "code",
   "execution_count": 37,
   "id": "fec70492",
   "metadata": {},
   "outputs": [
    {
     "name": "stdout",
     "output_type": "stream",
     "text": [
      "+--------------------+-------------------------------+\n",
      "|           Commodity|longest_consecutive_year_export|\n",
      "+--------------------+-------------------------------+\n",
      "|       LIVE ANIMALS.|                              9|\n",
      "|                SILK|                              9|\n",
      "| MAN-MADE FILAMENTS.|                              9|\n",
      "|PROJECT GOODS; SO...|                              9|\n",
      "|SHIPS, BOATS AND ...|                              9|\n",
      "|ARMS AND AMMUNITI...|                              9|\n",
      "|PREPARATIONS OF M...|                              9|\n",
      "|OTHER MADE UP TEX...|                              9|\n",
      "|MISCELLANEOUS EDI...|                              9|\n",
      "|ARTICLES OF IRON ...|                              9|\n",
      "|ARTICLES OF LEATH...|                              9|\n",
      "|COPPER AND ARTICL...|                              9|\n",
      "|ARTICLES OF APPAR...|                              9|\n",
      "|OTHER VEGETABLE T...|                              9|\n",
      "|PREPARED FEATHERS...|                              9|\n",
      "|CARPETS AND OTHER...|                              9|\n",
      "|MISCELLANEOUS CHE...|                              9|\n",
      "|RAW HIDES AND SKI...|                              9|\n",
      "|MISCELLANEOUS ART...|                              9|\n",
      "|ALUMINIUM AND ART...|                              9|\n",
      "+--------------------+-------------------------------+\n",
      "only showing top 20 rows\n",
      "\n"
     ]
    }
   ],
   "source": [
    "longest_consecutive_year_export = year_export.withColumn('longest_consecutive_year_export', longest_consecutive_year_udf(F.col(\"year_list\"))) \\\n",
    "                    .drop(\"year_list\")\n",
    "longest_consecutive_year_export.show()\n"
   ]
  },
  {
   "cell_type": "code",
   "execution_count": 38,
   "id": "c2fa6f95",
   "metadata": {},
   "outputs": [
    {
     "name": "stderr",
     "output_type": "stream",
     "text": [
      "                                                                                \r"
     ]
    },
    {
     "name": "stdout",
     "output_type": "stream",
     "text": [
      "+--------------------+------------------+-------------------+-----------------------------+----------------+-------------------------------+\n",
      "|           Commodity|  sum_value_export|nums_country_export|country_with_max_value_export|max_value_export|longest_consecutive_year_export|\n",
      "+--------------------+------------------+-------------------+-----------------------------+----------------+-------------------------------+\n",
      "|RAILWAY OR TRAMWA...|1920.7399999999984|                967|                    AUSTRALIA|          350.07|                              9|\n",
      "|SALT; SULPHUR; EA...| 16893.19000000002|               1675|                   CHINA P RP|          680.83|                              9|\n",
      "|   ORGANIC CHEMICALS| 113042.4600000001|               1758|                   CHINA P RP|         3249.21|                              9|\n",
      "|PLASTIC AND ARTIC...|50079.310000000034|               1872|                   CHINA P RP|         1104.52|                              9|\n",
      "|LEAD AND ARTICLES...|2067.0900000000006|                766|                     KOREA RP|          158.82|                              9|\n",
      "|ALUMINIUM AND ART...| 25444.20000000004|               1708|                     MALAYSIA|          909.65|                              9|\n",
      "|        FERTILISERS.| 910.4000000000018|               1034|                        NEPAL|           67.88|                              9|\n",
      "|      IRON AND STEEL| 76627.84000000001|               1665|                        NEPAL|         1140.02|                              9|\n",
      "|KNITTED OR CROCHE...|2504.2799999999997|               1115|                SRI LANKA DSR|          173.66|                              9|\n",
      "|CLOCKS AND WATCHE...| 833.7100000000012|               1389|                  SWITZERLAND|           26.47|                              9|\n",
      "|BEVERAGES, SPIRIT...| 3009.989999999997|               1233|                  U ARAB EMTS|            85.6|                              9|\n",
      "|INORGANIC CHEMICA...|14107.700000000013|               1600|                  U ARAB EMTS|          362.88|                              9|\n",
      "|PAPER AND PAPERBO...| 10684.29000000001|               1842|                  U ARAB EMTS|           286.1|                              9|\n",
      "|LIVE TREES AND OT...|  748.580000000001|               1125|                        U S A|           21.03|                              9|\n",
      "|PRODUCTS OF THE M...| 2222.759999999999|               1341|                        U S A|           60.17|                              9|\n",
      "|PREPARATIONS OF M...|           2204.54|                771|                        U S A|          326.71|                              9|\n",
      "|COCOA AND COCOA P...|1136.4700000000005|                961|                        U S A|           52.03|                              9|\n",
      "|PREPARATIONS OF V...| 4192.489999999992|               1440|                        U S A|          109.11|                              9|\n",
      "|MISCELLANEOUS EDI...| 5178.789999999991|               1530|                        U S A|          159.29|                              9|\n",
      "|PHARMACEUTICAL PR...|101807.09000000005|               1916|                        U S A|         5389.73|                              9|\n",
      "+--------------------+------------------+-------------------+-----------------------------+----------------+-------------------------------+\n",
      "only showing top 20 rows\n",
      "\n"
     ]
    }
   ],
   "source": [
    "new_df_export = new_df_export.join(longest_consecutive_year_export, \"Commodity\", \"inner\") \n",
    "new_df_export.show()"
   ]
  },
  {
   "cell_type": "markdown",
   "id": "0b619fc1",
   "metadata": {},
   "source": [
    "### Combine 2 DataFrame: Import and Export"
   ]
  },
  {
   "cell_type": "markdown",
   "id": "9ea2d6b9",
   "metadata": {},
   "source": [
    "1. Make sure the list of commodity of import and export is the same"
   ]
  },
  {
   "cell_type": "code",
   "execution_count": 39,
   "id": "d0871766",
   "metadata": {},
   "outputs": [
    {
     "name": "stderr",
     "output_type": "stream",
     "text": [
      "                                                                                \r"
     ]
    },
    {
     "name": "stdout",
     "output_type": "stream",
     "text": [
      "0\n",
      "0\n",
      "+--------------------+\n",
      "|           commodity|\n",
      "+--------------------+\n",
      "|ARTICLES OF LEATH...|\n",
      "|FURNITURE; BEDDIN...|\n",
      "|   ORGANIC CHEMICALS|\n",
      "|PREPARED FEATHERS...|\n",
      "|TOYS, GAMES AND S...|\n",
      "|LIVE TREES AND OT...|\n",
      "|MAN-MADE STAPLE F...|\n",
      "|TANNING OR DYEING...|\n",
      "|OIL SEEDS AND OLE...|\n",
      "|ZINC AND ARTICLES...|\n",
      "|      IRON AND STEEL|\n",
      "|CORK AND ARTICLES...|\n",
      "|MISCELLANEOUS ART...|\n",
      "|MISCELLANEOUS GOODS.|\n",
      "|SOAP, ORGANIC SUR...|\n",
      "|RAILWAY OR TRAMWA...|\n",
      "|ARTICLES OF STONE...|\n",
      "|MEAT AND EDIBLE M...|\n",
      "|            CEREALS.|\n",
      "|OPTICAL, PHOTOGRA...|\n",
      "+--------------------+\n",
      "only showing top 20 rows\n",
      "\n"
     ]
    }
   ],
   "source": [
    "commodity_import = new_df_import.select(\"commodity\")\n",
    "commodity_export = new_df_export.select(\"commodity\")\n",
    "print(commodity_import.subtract(commodity_export).count())\n",
    "print(commodity_export.subtract(commodity_import).count())\n",
    "commodity_import.show()"
   ]
  },
  {
   "cell_type": "markdown",
   "id": "1cf9afd5",
   "metadata": {},
   "source": [
    "Because subtract = 0 means the list of import is covered the list of export and vice versa. So 2 list is equivalent. We can do this by convert to set (hashmap) or sort it as the same order and compare one the whole dataframe."
   ]
  },
  {
   "cell_type": "markdown",
   "id": "ea552854",
   "metadata": {},
   "source": [
    "2. Combine 2 DataFrame results"
   ]
  },
  {
   "cell_type": "code",
   "execution_count": 40,
   "id": "68ea240d",
   "metadata": {},
   "outputs": [
    {
     "name": "stderr",
     "output_type": "stream",
     "text": [
      "                                                                                \r"
     ]
    },
    {
     "name": "stdout",
     "output_type": "stream",
     "text": [
      "+--------------------+------------------+-------------------+-----------------------------+----------------+-------------------------------+------------------+-------------------+-----------------------------+----------------+-------------------------------+\n",
      "|           Commodity|  sum_value_import|nums_country_import|country_with_max_value_import|max_value_import|longest_consecutive_year_import|  sum_value_export|nums_country_export|country_with_max_value_export|max_value_export|longest_consecutive_year_export|\n",
      "+--------------------+------------------+-------------------+-----------------------------+----------------+-------------------------------+------------------+-------------------+-----------------------------+----------------+-------------------------------+\n",
      "|       LIVE ANIMALS.|149.68999999999994|                485|                        U S A|            4.07|                              9|386.19000000000005|                457|                  U ARAB EMTS|           55.18|                              9|\n",
      "|PREPARATIONS OF M...|51.449999999999996|                229|                SRI LANKA DSR|            2.19|                              9|           2204.54|                771|                        U S A|          326.71|                              9|\n",
      "|OTHER MADE UP TEX...|3937.5699999999915|                894|                   CHINA P RP|           225.5|                              9|39782.380000000056|               1865|                        U S A|         2472.97|                              9|\n",
      "|MISCELLANEOUS EDI...|           1303.26|                736|                        U S A|          106.81|                              9| 5178.789999999991|               1530|                        U S A|          159.29|                              9|\n",
      "|ARTICLES OF LEATH...| 2865.159999999998|                795|                   CHINA P RP|          377.04|                              9|20343.830000000024|               1840|                        U S A|          570.26|                              9|\n",
      "|ARTICLES OF APPAR...|2089.7899999999986|                852|                   CHINA P RP|          197.89|                              9|62335.470000000016|               1841|                  U ARAB EMTS|         2114.92|                              9|\n",
      "|OTHER VEGETABLE T...| 2737.029999999998|                452|                BANGLADESH PR|          195.79|                              9| 3534.729999999995|               1354|                   CHINA P RP|          117.17|                              9|\n",
      "|MISCELLANEOUS CHE...|38863.820000000036|               1064|                   CHINA P RP|         1348.97|                              9|28635.830000000005|               1706|                        U S A|          807.72|                              9|\n",
      "|CARPETS AND OTHER...| 833.1100000000004|                565|                   CHINA P RP|           37.89|                              9|14488.630000000025|               1649|                        U S A|          925.08|                              9|\n",
      "|MISCELLANEOUS ART...| 6449.509999999991|                932|                   CHINA P RP|           420.6|                              9|4594.9999999999945|               1696|                        U S A|          109.49|                              9|\n",
      "|ALUMINIUM AND ART...|32144.880000000034|               1388|                   CHINA P RP|         1174.62|                              9| 25444.20000000004|               1708|                     MALAYSIA|          909.65|                              9|\n",
      "|IMPREGNATED, COAT...| 6836.299999999993|                718|                   CHINA P RP|          576.66|                              9|2072.0499999999993|               1461|                        U S A|           74.06|                              9|\n",
      "|ARTICLES OF STONE...| 5749.239999999992|                837|                   CHINA P RP|          539.19|                              9|11624.250000000011|               1747|                        U S A|          538.83|                              9|\n",
      "|FURSKINS AND ARTI...| 64.35000000000001|                320|                   CHINA P RP|             2.9|                              9| 92.17999999999994|                574|                        U S A|            4.68|                              9|\n",
      "|   ORGANIC CHEMICALS|150312.66999999993|               1086|                   CHINA P RP|         8596.25|                              9| 113042.4600000001|               1758|                   CHINA P RP|         3249.21|                              9|\n",
      "|ZINC AND ARTICLES...|4540.2899999999945|                933|                     KOREA RP|          432.19|                              9| 5727.619999999992|                966|                   CHINA P RP|           288.4|                              9|\n",
      "|GLASS AND GLASSWARE.|  8233.07999999999|                931|                   CHINA P RP|          618.22|                              9| 5946.939999999991|               1730|                        U S A|          160.31|                              9|\n",
      "|ARTICLES OF APPAR...|2861.9599999999946|                809|                BANGLADESH PR|          285.13|                              9| 75154.45999999999|               1907|                        U S A|         2231.06|                              9|\n",
      "|ESSENTIAL OILS AN...|  6101.31999999999|                900|                  U ARAB EMTS|          290.08|                              9|13733.770000000017|               1780|                        U S A|           320.0|                              9|\n",
      "|MAN-MADE STAPLE F...| 5801.739999999996|                656|                   CHINA P RP|           326.8|                              9|18440.300000000007|               1517|                BANGLADESH PR|          256.84|                              9|\n",
      "+--------------------+------------------+-------------------+-----------------------------+----------------+-------------------------------+------------------+-------------------+-----------------------------+----------------+-------------------------------+\n",
      "only showing top 20 rows\n",
      "\n"
     ]
    }
   ],
   "source": [
    "combined_df = new_df_import.join(new_df_export, \"Commodity\", \"inner\")\n",
    "combined_df.show(truncate=True)"
   ]
  },
  {
   "cell_type": "markdown",
   "id": "f2c7c305",
   "metadata": {},
   "source": [
    "3. Calculate Balance: export - import"
   ]
  },
  {
   "cell_type": "code",
   "execution_count": 41,
   "id": "6c2ae2f2",
   "metadata": {},
   "outputs": [
    {
     "name": "stderr",
     "output_type": "stream",
     "text": [
      "                                                                                \r"
     ]
    },
    {
     "name": "stdout",
     "output_type": "stream",
     "text": [
      "+--------------------+------------------+-------------------+-----------------------------+----------------+-------------------------------+------------------+-------------------+-----------------------------+----------------+-------------------------------+-------------------+\n",
      "|           Commodity|  sum_value_import|nums_country_import|country_with_max_value_import|max_value_import|longest_consecutive_year_import|  sum_value_export|nums_country_export|country_with_max_value_export|max_value_export|longest_consecutive_year_export|            balance|\n",
      "+--------------------+------------------+-------------------+-----------------------------+----------------+-------------------------------+------------------+-------------------+-----------------------------+----------------+-------------------------------+-------------------+\n",
      "|       LIVE ANIMALS.|149.68999999999994|                485|                        U S A|            4.07|                              9|386.19000000000005|                457|                  U ARAB EMTS|           55.18|                              9|  236.5000000000001|\n",
      "|PREPARATIONS OF M...|51.449999999999996|                229|                SRI LANKA DSR|            2.19|                              9|           2204.54|                771|                        U S A|          326.71|                              9|            2153.09|\n",
      "|OTHER MADE UP TEX...|3937.5699999999915|                894|                   CHINA P RP|           225.5|                              9|39782.380000000056|               1865|                        U S A|         2472.97|                              9|  35844.81000000006|\n",
      "|MISCELLANEOUS EDI...|           1303.26|                736|                        U S A|          106.81|                              9| 5178.789999999991|               1530|                        U S A|          159.29|                              9| 3875.5299999999907|\n",
      "|ARTICLES OF LEATH...| 2865.159999999998|                795|                   CHINA P RP|          377.04|                              9|20343.830000000024|               1840|                        U S A|          570.26|                              9| 17478.670000000027|\n",
      "|ARTICLES OF APPAR...|2089.7899999999986|                852|                   CHINA P RP|          197.89|                              9|62335.470000000016|               1841|                  U ARAB EMTS|         2114.92|                              9| 60245.680000000015|\n",
      "|OTHER VEGETABLE T...| 2737.029999999998|                452|                BANGLADESH PR|          195.79|                              9| 3534.729999999995|               1354|                   CHINA P RP|          117.17|                              9|  797.6999999999971|\n",
      "|MISCELLANEOUS CHE...|38863.820000000036|               1064|                   CHINA P RP|         1348.97|                              9|28635.830000000005|               1706|                        U S A|          807.72|                              9| -10227.99000000003|\n",
      "|CARPETS AND OTHER...| 833.1100000000004|                565|                   CHINA P RP|           37.89|                              9|14488.630000000025|               1649|                        U S A|          925.08|                              9| 13655.520000000024|\n",
      "|MISCELLANEOUS ART...| 6449.509999999991|                932|                   CHINA P RP|           420.6|                              9|4594.9999999999945|               1696|                        U S A|          109.49|                              9|-1854.5099999999966|\n",
      "|ALUMINIUM AND ART...|32144.880000000034|               1388|                   CHINA P RP|         1174.62|                              9| 25444.20000000004|               1708|                     MALAYSIA|          909.65|                              9| -6700.679999999993|\n",
      "|IMPREGNATED, COAT...| 6836.299999999993|                718|                   CHINA P RP|          576.66|                              9|2072.0499999999993|               1461|                        U S A|           74.06|                              9| -4764.249999999994|\n",
      "|ARTICLES OF STONE...| 5749.239999999992|                837|                   CHINA P RP|          539.19|                              9|11624.250000000011|               1747|                        U S A|          538.83|                              9|  5875.010000000019|\n",
      "|FURSKINS AND ARTI...| 64.35000000000001|                320|                   CHINA P RP|             2.9|                              9| 92.17999999999994|                574|                        U S A|            4.68|                              9| 27.829999999999927|\n",
      "|   ORGANIC CHEMICALS|150312.66999999993|               1086|                   CHINA P RP|         8596.25|                              9| 113042.4600000001|               1758|                   CHINA P RP|         3249.21|                              9| -37270.20999999983|\n",
      "|ZINC AND ARTICLES...|4540.2899999999945|                933|                     KOREA RP|          432.19|                              9| 5727.619999999992|                966|                   CHINA P RP|           288.4|                              9| 1187.3299999999972|\n",
      "|GLASS AND GLASSWARE.|  8233.07999999999|                931|                   CHINA P RP|          618.22|                              9| 5946.939999999991|               1730|                        U S A|          160.31|                              9|-2286.1399999999994|\n",
      "|ARTICLES OF APPAR...|2861.9599999999946|                809|                BANGLADESH PR|          285.13|                              9| 75154.45999999999|               1907|                        U S A|         2231.06|                              9|            72292.5|\n",
      "|ESSENTIAL OILS AN...|  6101.31999999999|                900|                  U ARAB EMTS|          290.08|                              9|13733.770000000017|               1780|                        U S A|           320.0|                              9|  7632.450000000027|\n",
      "|MAN-MADE STAPLE F...| 5801.739999999996|                656|                   CHINA P RP|           326.8|                              9|18440.300000000007|               1517|                BANGLADESH PR|          256.84|                              9|  12638.56000000001|\n",
      "+--------------------+------------------+-------------------+-----------------------------+----------------+-------------------------------+------------------+-------------------+-----------------------------+----------------+-------------------------------+-------------------+\n",
      "only showing top 20 rows\n",
      "\n"
     ]
    }
   ],
   "source": [
    "balance_df = combined_df.withColumn(\"balance\", combined_df.sum_value_export - combined_df.sum_value_import)\n",
    "balance_df.show(truncate=True)"
   ]
  },
  {
   "cell_type": "markdown",
   "id": "42c6d599",
   "metadata": {},
   "source": [
    "4. Write to CSV file"
   ]
  },
  {
   "cell_type": "code",
   "execution_count": 42,
   "id": "18bd7d41",
   "metadata": {},
   "outputs": [
    {
     "name": "stderr",
     "output_type": "stream",
     "text": [
      "                                                                                \r"
     ]
    },
    {
     "name": "stdout",
     "output_type": "stream",
     "text": [
      "49\n"
     ]
    },
    {
     "name": "stderr",
     "output_type": "stream",
     "text": [
      "                                                                                \r"
     ]
    },
    {
     "name": "stdout",
     "output_type": "stream",
     "text": [
      "+--------------------+------------------+-------------------+-----------------------------+----------------+-------------------------------+------------------+-------------------+-----------------------------+----------------+-------------------------------+------------------+\n",
      "|           Commodity|  sum_value_import|nums_country_import|country_with_max_value_import|max_value_import|longest_consecutive_year_import|  sum_value_export|nums_country_export|country_with_max_value_export|max_value_export|longest_consecutive_year_export|           balance|\n",
      "+--------------------+------------------+-------------------+-----------------------------+----------------+-------------------------------+------------------+-------------------+-----------------------------+----------------+-------------------------------+------------------+\n",
      "|       LIVE ANIMALS.|149.68999999999994|                485|                        U S A|            4.07|                              9|386.19000000000005|                457|                  U ARAB EMTS|           55.18|                              9| 236.5000000000001|\n",
      "|PREPARATIONS OF M...|51.449999999999996|                229|                SRI LANKA DSR|            2.19|                              9|           2204.54|                771|                        U S A|          326.71|                              9|           2153.09|\n",
      "|OTHER MADE UP TEX...|3937.5699999999915|                894|                   CHINA P RP|           225.5|                              9|39782.380000000056|               1865|                        U S A|         2472.97|                              9| 35844.81000000006|\n",
      "|MISCELLANEOUS EDI...|           1303.26|                736|                        U S A|          106.81|                              9| 5178.789999999991|               1530|                        U S A|          159.29|                              9|3875.5299999999907|\n",
      "|ARTICLES OF LEATH...| 2865.159999999998|                795|                   CHINA P RP|          377.04|                              9|20343.830000000024|               1840|                        U S A|          570.26|                              9|17478.670000000027|\n",
      "|ARTICLES OF APPAR...|2089.7899999999986|                852|                   CHINA P RP|          197.89|                              9|62335.470000000016|               1841|                  U ARAB EMTS|         2114.92|                              9|60245.680000000015|\n",
      "|OTHER VEGETABLE T...| 2737.029999999998|                452|                BANGLADESH PR|          195.79|                              9| 3534.729999999995|               1354|                   CHINA P RP|          117.17|                              9| 797.6999999999971|\n",
      "|CARPETS AND OTHER...| 833.1100000000004|                565|                   CHINA P RP|           37.89|                              9|14488.630000000025|               1649|                        U S A|          925.08|                              9|13655.520000000024|\n",
      "|ARTICLES OF STONE...| 5749.239999999992|                837|                   CHINA P RP|          539.19|                              9|11624.250000000011|               1747|                        U S A|          538.83|                              9| 5875.010000000019|\n",
      "|FURSKINS AND ARTI...| 64.35000000000001|                320|                   CHINA P RP|             2.9|                              9| 92.17999999999994|                574|                        U S A|            4.68|                              9|27.829999999999927|\n",
      "|ZINC AND ARTICLES...|4540.2899999999945|                933|                     KOREA RP|          432.19|                              9| 5727.619999999992|                966|                   CHINA P RP|           288.4|                              9|1187.3299999999972|\n",
      "|ARTICLES OF APPAR...|2861.9599999999946|                809|                BANGLADESH PR|          285.13|                              9| 75154.45999999999|               1907|                        U S A|         2231.06|                              9|           72292.5|\n",
      "|ESSENTIAL OILS AN...|  6101.31999999999|                900|                  U ARAB EMTS|          290.08|                              9|13733.770000000017|               1780|                        U S A|           320.0|                              9| 7632.450000000027|\n",
      "|MAN-MADE STAPLE F...| 5801.739999999996|                656|                   CHINA P RP|           326.8|                              9|18440.300000000007|               1517|                BANGLADESH PR|          256.84|                              9| 12638.56000000001|\n",
      "|FISH AND CRUSTACE...| 701.5400000000002|                410|                BANGLADESH PR|           75.21|                              9|42140.250000000015|               1186|                        U S A|         2105.93|                              9|41438.710000000014|\n",
      "|HEADGEAR AND PART...|188.83999999999986|                607|                   CHINA P RP|            17.1|                              9| 422.5600000000006|               1561|                        U S A|            8.06|                              9|233.72000000000077|\n",
      "|MEAT AND EDIBLE M...| 38.62999999999998|                156|                      BELGIUM|            1.35|                              9|          33749.39|                743|              VIETNAM SOC REP|         2292.38|                              9|          33710.76|\n",
      "|PRODUCTS OF THE M...|            521.21|                417|                   CHINA P RP|           18.21|                              9| 2222.759999999999|               1341|                        U S A|           60.17|                              9|1701.5499999999988|\n",
      "|SPECIAL WOVEN FAB...|1581.3399999999992|                710|                   CHINA P RP|           88.79|                              9|3078.8699999999953|               1587|                        ITALY|           76.28|                              9| 1497.529999999996|\n",
      "|MANUFACTURES OF S...|             54.81|                314|                   CHINA P RP|            2.67|                              9|157.03000000000006|                723|                        U S A|           11.93|                              9|102.22000000000006|\n",
      "+--------------------+------------------+-------------------+-----------------------------+----------------+-------------------------------+------------------+-------------------+-----------------------------+----------------+-------------------------------+------------------+\n",
      "only showing top 20 rows\n",
      "\n"
     ]
    }
   ],
   "source": [
    "# Positive >= 0, Negative < 0\n",
    "positive_balance_df = balance_df.filter(balance_df.balance >= 0)\n",
    "print(positive_balance_df.count())\n",
    "positive_balance_df.show(truncate=True)"
   ]
  },
  {
   "cell_type": "code",
   "execution_count": 43,
   "id": "1f169d37",
   "metadata": {},
   "outputs": [
    {
     "name": "stderr",
     "output_type": "stream",
     "text": [
      "                                                                                \r"
     ]
    },
    {
     "name": "stdout",
     "output_type": "stream",
     "text": [
      "49\n"
     ]
    },
    {
     "name": "stderr",
     "output_type": "stream",
     "text": [
      "                                                                                \r"
     ]
    },
    {
     "name": "stdout",
     "output_type": "stream",
     "text": [
      "-RECORD 0------------------------------------------------------------------------------------------------------------------------------------------------------------------------\n",
      " Commodity                       | MISCELLANEOUS CHEMICAL PRODUCTS.                                                                                                              \n",
      " sum_value_import                | 38863.820000000036                                                                                                                            \n",
      " nums_country_import             | 1064                                                                                                                                          \n",
      " country_with_max_value_import   | CHINA P RP                                                                                                                                    \n",
      " max_value_import                | 1348.97                                                                                                                                       \n",
      " longest_consecutive_year_import | 9                                                                                                                                             \n",
      " sum_value_export                | 28635.830000000005                                                                                                                            \n",
      " nums_country_export             | 1706                                                                                                                                          \n",
      " country_with_max_value_export   | U S A                                                                                                                                         \n",
      " max_value_export                | 807.72                                                                                                                                        \n",
      " longest_consecutive_year_export | 9                                                                                                                                             \n",
      " balance                         | -10227.99000000003                                                                                                                            \n",
      "-RECORD 1------------------------------------------------------------------------------------------------------------------------------------------------------------------------\n",
      " Commodity                       | MISCELLANEOUS ARTICLES OF BASE METAL.                                                                                                         \n",
      " sum_value_import                | 6449.509999999991                                                                                                                             \n",
      " nums_country_import             | 932                                                                                                                                           \n",
      " country_with_max_value_import   | CHINA P RP                                                                                                                                    \n",
      " max_value_import                | 420.6                                                                                                                                         \n",
      " longest_consecutive_year_import | 9                                                                                                                                             \n",
      " sum_value_export                | 4594.9999999999945                                                                                                                            \n",
      " nums_country_export             | 1696                                                                                                                                          \n",
      " country_with_max_value_export   | U S A                                                                                                                                         \n",
      " max_value_export                | 109.49                                                                                                                                        \n",
      " longest_consecutive_year_export | 9                                                                                                                                             \n",
      " balance                         | -1854.5099999999966                                                                                                                           \n",
      "-RECORD 2------------------------------------------------------------------------------------------------------------------------------------------------------------------------\n",
      " Commodity                       | ALUMINIUM AND ARTICLES THEREOF.                                                                                                               \n",
      " sum_value_import                | 32144.880000000034                                                                                                                            \n",
      " nums_country_import             | 1388                                                                                                                                          \n",
      " country_with_max_value_import   | CHINA P RP                                                                                                                                    \n",
      " max_value_import                | 1174.62                                                                                                                                       \n",
      " longest_consecutive_year_import | 9                                                                                                                                             \n",
      " sum_value_export                | 25444.20000000004                                                                                                                             \n",
      " nums_country_export             | 1708                                                                                                                                          \n",
      " country_with_max_value_export   | MALAYSIA                                                                                                                                      \n",
      " max_value_export                | 909.65                                                                                                                                        \n",
      " longest_consecutive_year_export | 9                                                                                                                                             \n",
      " balance                         | -6700.679999999993                                                                                                                            \n",
      "-RECORD 3------------------------------------------------------------------------------------------------------------------------------------------------------------------------\n",
      " Commodity                       | IMPREGNATED, COATED, COVERED OR LAMINATED TEXTILE FABRICS; TEXTILE ARTICLES OF A KIND SUITABLE FOR INDUSTRIAL USE.                            \n",
      " sum_value_import                | 6836.299999999993                                                                                                                             \n",
      " nums_country_import             | 718                                                                                                                                           \n",
      " country_with_max_value_import   | CHINA P RP                                                                                                                                    \n",
      " max_value_import                | 576.66                                                                                                                                        \n",
      " longest_consecutive_year_import | 9                                                                                                                                             \n",
      " sum_value_export                | 2072.0499999999993                                                                                                                            \n",
      " nums_country_export             | 1461                                                                                                                                          \n",
      " country_with_max_value_export   | U S A                                                                                                                                         \n",
      " max_value_export                | 74.06                                                                                                                                         \n",
      " longest_consecutive_year_export | 9                                                                                                                                             \n",
      " balance                         | -4764.249999999994                                                                                                                            \n",
      "-RECORD 4------------------------------------------------------------------------------------------------------------------------------------------------------------------------\n",
      " Commodity                       | ORGANIC CHEMICALS                                                                                                                             \n",
      " sum_value_import                | 150312.66999999993                                                                                                                            \n",
      " nums_country_import             | 1086                                                                                                                                          \n",
      " country_with_max_value_import   | CHINA P RP                                                                                                                                    \n",
      " max_value_import                | 8596.25                                                                                                                                       \n",
      " longest_consecutive_year_import | 9                                                                                                                                             \n",
      " sum_value_export                | 113042.4600000001                                                                                                                             \n",
      " nums_country_export             | 1758                                                                                                                                          \n",
      " country_with_max_value_export   | CHINA P RP                                                                                                                                    \n",
      " max_value_export                | 3249.21                                                                                                                                       \n",
      " longest_consecutive_year_export | 9                                                                                                                                             \n",
      " balance                         | -37270.20999999983                                                                                                                            \n",
      "-RECORD 5------------------------------------------------------------------------------------------------------------------------------------------------------------------------\n",
      " Commodity                       | GLASS AND GLASSWARE.                                                                                                                          \n",
      " sum_value_import                | 8233.07999999999                                                                                                                              \n",
      " nums_country_import             | 931                                                                                                                                           \n",
      " country_with_max_value_import   | CHINA P RP                                                                                                                                    \n",
      " max_value_import                | 618.22                                                                                                                                        \n",
      " longest_consecutive_year_import | 9                                                                                                                                             \n",
      " sum_value_export                | 5946.939999999991                                                                                                                             \n",
      " nums_country_export             | 1730                                                                                                                                          \n",
      " country_with_max_value_export   | U S A                                                                                                                                         \n",
      " max_value_export                | 160.31                                                                                                                                        \n",
      " longest_consecutive_year_export | 9                                                                                                                                             \n",
      " balance                         | -2286.1399999999994                                                                                                                           \n",
      "-RECORD 6------------------------------------------------------------------------------------------------------------------------------------------------------------------------\n",
      " Commodity                       | NUCLEAR REACTORS, BOILERS, MACHINERY AND MECHANICAL APPLIANCES; PARTS THEREOF.                                                                \n",
      " sum_value_import                | 310887.53999999946                                                                                                                            \n",
      " nums_country_import             | 1683                                                                                                                                          \n",
      " country_with_max_value_import   | CHINA P RP                                                                                                                                    \n",
      " max_value_import                | 13539.97                                                                                                                                      \n",
      " longest_consecutive_year_import | 9                                                                                                                                             \n",
      " sum_value_export                | 123833.37                                                                                                                                     \n",
      " nums_country_export             | 1945                                                                                                                                          \n",
      " country_with_max_value_export   | U S A                                                                                                                                         \n",
      " max_value_export                | 4026.34                                                                                                                                       \n",
      " longest_consecutive_year_export | 9                                                                                                                                             \n",
      " balance                         | -187054.16999999946                                                                                                                           \n",
      "-RECORD 7------------------------------------------------------------------------------------------------------------------------------------------------------------------------\n",
      " Commodity                       | FERTILISERS.                                                                                                                                  \n",
      " sum_value_import                | 57269.09000000002                                                                                                                             \n",
      " nums_country_import             | 568                                                                                                                                           \n",
      " country_with_max_value_import   | CHINA P RP                                                                                                                                    \n",
      " max_value_import                | 3268.09                                                                                                                                       \n",
      " longest_consecutive_year_import | 9                                                                                                                                             \n",
      " sum_value_export                | 910.4000000000018                                                                                                                             \n",
      " nums_country_export             | 1034                                                                                                                                          \n",
      " country_with_max_value_export   | NEPAL                                                                                                                                         \n",
      " max_value_export                | 67.88                                                                                                                                         \n",
      " longest_consecutive_year_export | 9                                                                                                                                             \n",
      " balance                         | -56358.69000000002                                                                                                                            \n",
      "-RECORD 8------------------------------------------------------------------------------------------------------------------------------------------------------------------------\n",
      " Commodity                       | IRON AND STEEL                                                                                                                                \n",
      " sum_value_import                | 102271.82000000002                                                                                                                            \n",
      " nums_country_import             | 1482                                                                                                                                          \n",
      " country_with_max_value_import   | CHINA P RP                                                                                                                                    \n",
      " max_value_import                | 2713.34                                                                                                                                       \n",
      " longest_consecutive_year_import | 9                                                                                                                                             \n",
      " sum_value_export                | 76627.84000000001                                                                                                                             \n",
      " nums_country_export             | 1665                                                                                                                                          \n",
      " country_with_max_value_export   | NEPAL                                                                                                                                         \n",
      " max_value_export                | 1140.02                                                                                                                                       \n",
      " longest_consecutive_year_export | 9                                                                                                                                             \n",
      " balance                         | -25643.98000000001                                                                                                                            \n",
      "-RECORD 9------------------------------------------------------------------------------------------------------------------------------------------------------------------------\n",
      " Commodity                       | RAILWAY OR TRAMWAY LOCOMOTIVES, ROLLING-STOCK AND PARTS THEREOF; RAILWAY OR TRAMWAY TRACK FIXTURES AND FITTINGS AND PARTS THEREOF; MECHANICAL \n",
      " sum_value_import                | 3671.769999999996                                                                                                                             \n",
      " nums_country_import             | 627                                                                                                                                           \n",
      " country_with_max_value_import   | U S A                                                                                                                                         \n",
      " max_value_import                | 281.18                                                                                                                                        \n",
      " longest_consecutive_year_import | 9                                                                                                                                             \n",
      " sum_value_export                | 1920.7399999999984                                                                                                                            \n",
      " nums_country_export             | 967                                                                                                                                           \n",
      " country_with_max_value_export   | AUSTRALIA                                                                                                                                     \n",
      " max_value_export                | 350.07                                                                                                                                        \n",
      " longest_consecutive_year_export | 9                                                                                                                                             \n",
      " balance                         | -1751.0299999999975                                                                                                                           \n",
      "-RECORD 10-----------------------------------------------------------------------------------------------------------------------------------------------------------------------\n",
      " Commodity                       | TOYS, GAMES AND SPORTS REQUISITES; PARTS AND ACCESSORIES THEREOF.                                                                             \n",
      " sum_value_import                | 4530.969999999992                                                                                                                             \n",
      " nums_country_import             | 742                                                                                                                                           \n",
      " country_with_max_value_import   | CHINA P RP                                                                                                                                    \n",
      " max_value_import                | 488.54                                                                                                                                        \n",
      " longest_consecutive_year_import | 9                                                                                                                                             \n",
      " sum_value_export                | 2510.029999999998                                                                                                                             \n",
      " nums_country_export             | 1755                                                                                                                                          \n",
      " country_with_max_value_export   | U S A                                                                                                                                         \n",
      " max_value_export                | 106.8                                                                                                                                         \n",
      " longest_consecutive_year_export | 9                                                                                                                                             \n",
      " balance                         | -2020.9399999999941                                                                                                                           \n",
      "-RECORD 11-----------------------------------------------------------------------------------------------------------------------------------------------------------------------\n",
      " Commodity                       | PAPER AND PAPERBOARD; ARTICLES OF PAPER PULP, OF PAPER OR OF PAPERBOARD.                                                                      \n",
      " sum_value_import                | 23131.130000000034                                                                                                                            \n",
      " nums_country_import             | 1139                                                                                                                                          \n",
      " country_with_max_value_import   | CHINA P RP                                                                                                                                    \n",
      " max_value_import                | 567.92                                                                                                                                        \n",
      " longest_consecutive_year_import | 9                                                                                                                                             \n",
      " sum_value_export                | 10684.29000000001                                                                                                                             \n",
      " nums_country_export             | 1842                                                                                                                                          \n",
      " country_with_max_value_export   | U ARAB EMTS                                                                                                                                   \n",
      " max_value_export                | 286.1                                                                                                                                         \n",
      " longest_consecutive_year_export | 9                                                                                                                                             \n",
      " balance                         | -12446.840000000024                                                                                                                           \n",
      "-RECORD 12-----------------------------------------------------------------------------------------------------------------------------------------------------------------------\n",
      " Commodity                       | EDIBLE FRUIT AND NUTS; PEEL OR CITRUS FRUIT OR MELONS.                                                                                        \n",
      " sum_value_import                | 23534.520000000004                                                                                                                            \n",
      " nums_country_import             | 763                                                                                                                                           \n",
      " country_with_max_value_import   | U S A                                                                                                                                         \n",
      " max_value_import                | 872.28                                                                                                                                        \n",
      " longest_consecutive_year_import | 9                                                                                                                                             \n",
      " sum_value_export                | 14138.30000000001                                                                                                                             \n",
      " nums_country_export             | 1413                                                                                                                                          \n",
      " country_with_max_value_export   | U ARAB EMTS                                                                                                                                   \n",
      " max_value_export                | 366.55                                                                                                                                        \n",
      " longest_consecutive_year_export | 9                                                                                                                                             \n",
      " balance                         | -9396.219999999994                                                                                                                            \n",
      "-RECORD 13-----------------------------------------------------------------------------------------------------------------------------------------------------------------------\n",
      " Commodity                       | COCOA AND COCOA PREPARATIONS.                                                                                                                 \n",
      " sum_value_import                | 1916.65                                                                                                                                       \n",
      " nums_country_import             | 619                                                                                                                                           \n",
      " country_with_max_value_import   | INDONESIA                                                                                                                                     \n",
      " max_value_import                | 67.46                                                                                                                                         \n",
      " longest_consecutive_year_import | 9                                                                                                                                             \n",
      " sum_value_export                | 1136.4700000000005                                                                                                                            \n",
      " nums_country_export             | 961                                                                                                                                           \n",
      " country_with_max_value_export   | U S A                                                                                                                                         \n",
      " max_value_export                | 52.03                                                                                                                                         \n",
      " longest_consecutive_year_export | 9                                                                                                                                             \n",
      " balance                         | -780.1799999999996                                                                                                                            \n",
      "-RECORD 14-----------------------------------------------------------------------------------------------------------------------------------------------------------------------\n",
      " Commodity                       | LEAD AND ARTICLES THEREOF.                                                                                                                    \n",
      " sum_value_import                | 5575.459999999995                                                                                                                             \n",
      " nums_country_import             | 972                                                                                                                                           \n",
      " country_with_max_value_import   | KOREA RP                                                                                                                                      \n",
      " max_value_import                | 184.13                                                                                                                                        \n",
      " longest_consecutive_year_import | 9                                                                                                                                             \n",
      " sum_value_export                | 2067.0900000000006                                                                                                                            \n",
      " nums_country_export             | 766                                                                                                                                           \n",
      " country_with_max_value_export   | KOREA RP                                                                                                                                      \n",
      " max_value_export                | 158.82                                                                                                                                        \n",
      " longest_consecutive_year_export | 9                                                                                                                                             \n",
      " balance                         | -3508.369999999994                                                                                                                            \n",
      "-RECORD 15-----------------------------------------------------------------------------------------------------------------------------------------------------------------------\n",
      " Commodity                       | PRINTED BOOKDS, NEWSPAPERS, PICTURES AND OTHER PRODUCTS OF THE PRINTING INDUSTRY; MANUSCRIPTS, TYPESCRIPTS AND PLANS.                         \n",
      " sum_value_import                | 4178.969999999996                                                                                                                             \n",
      " nums_country_import             | 1033                                                                                                                                          \n",
      " country_with_max_value_import   | SINGAPORE                                                                                                                                     \n",
      " max_value_import                | 226.32                                                                                                                                        \n",
      " longest_consecutive_year_import | 9                                                                                                                                             \n",
      " sum_value_export                | 2788.009999999997                                                                                                                             \n",
      " nums_country_export             | 1822                                                                                                                                          \n",
      " country_with_max_value_export   | U S A                                                                                                                                         \n",
      " max_value_export                | 69.93                                                                                                                                         \n",
      " longest_consecutive_year_export | 9                                                                                                                                             \n",
      " balance                         | -1390.9599999999987                                                                                                                           \n",
      "-RECORD 16-----------------------------------------------------------------------------------------------------------------------------------------------------------------------\n",
      " Commodity                       | INORGANIC CHEMICALS; ORGANIC OR INORGANIC COMPOUNDS OF PRECIOUS METALS, OF RARE-EARTH METALS, OR RADI. ELEM. OR OF ISOTOPES.                  \n",
      " sum_value_import                | 48281.76                                                                                                                                      \n",
      " nums_country_import             | 984                                                                                                                                           \n",
      " country_with_max_value_import   | CHINA P RP                                                                                                                                    \n",
      " max_value_import                | 1050.23                                                                                                                                       \n",
      " longest_consecutive_year_import | 9                                                                                                                                             \n",
      " sum_value_export                | 14107.700000000013                                                                                                                            \n",
      " nums_country_export             | 1600                                                                                                                                          \n",
      " country_with_max_value_export   | U ARAB EMTS                                                                                                                                   \n",
      " max_value_export                | 362.88                                                                                                                                        \n",
      " longest_consecutive_year_export | 9                                                                                                                                             \n",
      " balance                         | -34174.05999999999                                                                                                                            \n",
      "-RECORD 17-----------------------------------------------------------------------------------------------------------------------------------------------------------------------\n",
      " Commodity                       | ANIMAL OR VEGETABLE FATS AND OILS AND THEIR CLEAVAGE PRODUCTS; PRE. EDIBLE FATS; ANIMAL OR VEGETABLE WAXEX.                                   \n",
      " sum_value_import                | 90970.24999999999                                                                                                                             \n",
      " nums_country_import             | 618                                                                                                                                           \n",
      " country_with_max_value_import   | INDONESIA                                                                                                                                     \n",
      " max_value_import                | 5658.82                                                                                                                                       \n",
      " longest_consecutive_year_import | 9                                                                                                                                             \n",
      " sum_value_export                | 8821.950000000004                                                                                                                             \n",
      " nums_country_export             | 1399                                                                                                                                          \n",
      " country_with_max_value_export   | CHINA P RP                                                                                                                                    \n",
      " max_value_export                | 440.57                                                                                                                                        \n",
      " longest_consecutive_year_export | 9                                                                                                                                             \n",
      " balance                         | -82148.29999999999                                                                                                                            \n",
      "-RECORD 18-----------------------------------------------------------------------------------------------------------------------------------------------------------------------\n",
      " Commodity                       | PLASTIC AND ARTICLES THEREOF.                                                                                                                 \n",
      " sum_value_import                | 99655.96999999991                                                                                                                             \n",
      " nums_country_import             | 1499                                                                                                                                          \n",
      " country_with_max_value_import   | CHINA P RP                                                                                                                                    \n",
      " max_value_import                | 2722.6                                                                                                                                        \n",
      " longest_consecutive_year_import | 9                                                                                                                                             \n",
      " sum_value_export                | 50079.310000000034                                                                                                                            \n",
      " nums_country_export             | 1872                                                                                                                                          \n",
      " country_with_max_value_export   | CHINA P RP                                                                                                                                    \n",
      " max_value_export                | 1104.52                                                                                                                                       \n",
      " longest_consecutive_year_export | 9                                                                                                                                             \n",
      " balance                         | -49576.65999999988                                                                                                                            \n",
      "-RECORD 19-----------------------------------------------------------------------------------------------------------------------------------------------------------------------\n",
      " Commodity                       | WOOD AND ARTICLES OF WOOD; WOOD CHARCOAL.                                                                                                     \n",
      " sum_value_import                | 21271.76999999999                                                                                                                             \n",
      " nums_country_import             | 1184                                                                                                                                          \n",
      " country_with_max_value_import   | MYANMAR                                                                                                                                       \n",
      " max_value_import                | 751.61                                                                                                                                        \n",
      " longest_consecutive_year_import | 9                                                                                                                                             \n",
      " sum_value_export                | 3151.449999999994                                                                                                                             \n",
      " nums_country_export             | 1713                                                                                                                                          \n",
      " country_with_max_value_export   | U S A                                                                                                                                         \n",
      " max_value_export                | 158.59                                                                                                                                        \n",
      " longest_consecutive_year_export | 9                                                                                                                                             \n",
      " balance                         | -18120.319999999996                                                                                                                           \n",
      "only showing top 20 rows\n",
      "\n"
     ]
    }
   ],
   "source": [
    "negative_balance_df = balance_df.filter(balance_df.balance < 0)\n",
    "print(negative_balance_df.count())\n",
    "negative_balance_df.show(truncate=False, vertical=True)"
   ]
  },
  {
   "cell_type": "code",
   "execution_count": 44,
   "id": "abcf3c17",
   "metadata": {},
   "outputs": [],
   "source": [
    "# coalesce > repartition. Big data => Out of memory\n",
    "# negative_balance_df.coalesce(1).write.csv(\"negativeTradeProduct\", header=True)\n",
    "import os, shutil\n",
    "# Remove _SUCCESS, _SUCCESS.crc, ...csv.crc\n",
    "def write_to_one_csv(df: pyspark.sql.dataframe.DataFrame, file_name: str):\n",
    "    if os.path.exists(file_name):\n",
    "        shutil.rmtree(file_name)\n",
    "    # Repartition to 1 partition to write to one csv file => In a folder name as file_name\n",
    "    df.coalesce(1).write.csv(file_name, header=True)\n",
    "    # Copy the single csv file to outside\n",
    "    for file in os.listdir(file_name):\n",
    "        if file.endswith(\".csv\"):\n",
    "            print(file)\n",
    "            shutil.copy(file_name + \"/\" + file, file_name + '.csv')\n",
    "            break\n",
    "    # Remove the remain folder\n",
    "    shutil.rmtree(file_name)\n",
    "    "
   ]
  },
  {
   "cell_type": "code",
   "execution_count": 45,
   "id": "d5968990",
   "metadata": {},
   "outputs": [
    {
     "name": "stderr",
     "output_type": "stream",
     "text": [
      "                                                                                \r"
     ]
    },
    {
     "name": "stdout",
     "output_type": "stream",
     "text": [
      "part-00000-5b84bed7-bd62-462e-ab97-13cb3576e095-c000.csv\n"
     ]
    }
   ],
   "source": [
    "write_to_one_csv(positive_balance_df, \"data/positiveTradeProduct\")"
   ]
  },
  {
   "cell_type": "code",
   "execution_count": 46,
   "id": "6001412e",
   "metadata": {},
   "outputs": [
    {
     "name": "stderr",
     "output_type": "stream",
     "text": [
      "[Stage 521:>                                                        (0 + 1) / 1]\r"
     ]
    },
    {
     "name": "stdout",
     "output_type": "stream",
     "text": [
      "part-00000-39831304-96e1-43fc-807a-a6c1943e3e2f-c000.csv\n"
     ]
    },
    {
     "name": "stderr",
     "output_type": "stream",
     "text": [
      "                                                                                \r"
     ]
    }
   ],
   "source": [
    "write_to_one_csv(negative_balance_df, \"data/negativeTradeProduct\")"
   ]
  },
  {
   "cell_type": "markdown",
   "id": "67024ee6",
   "metadata": {},
   "source": [
    "## Problem 2: Accumulated value"
   ]
  },
  {
   "cell_type": "markdown",
   "id": "b5d6760b",
   "metadata": {},
   "source": [
    "### Column format (There is a column year)"
   ]
  },
  {
   "cell_type": "code",
   "execution_count": 47,
   "id": "144c8c31",
   "metadata": {},
   "outputs": [
    {
     "name": "stdout",
     "output_type": "stream",
     "text": [
      "Accumulated import value in column format\n"
     ]
    },
    {
     "name": "stderr",
     "output_type": "stream",
     "text": [
      "[Stage 522:>                                                        (0 + 2) / 2]\r"
     ]
    },
    {
     "name": "stdout",
     "output_type": "stream",
     "text": [
      "+------+--------------------+------+-----------+----+---------+\n",
      "|HSCode|           Commodity| value|    country|year|acc_value|\n",
      "+------+--------------------+------+-----------+----+---------+\n",
      "|    88|AIRCRAFT, SPACECR...|   0.0|AMERI SAMOA|2016|     0.00|\n",
      "|    88|AIRCRAFT, SPACECR...|  0.37|AMERI SAMOA|2017|     0.37|\n",
      "|    88|AIRCRAFT, SPACECR...|  7.73|     BRAZIL|2010|     7.73|\n",
      "|    88|AIRCRAFT, SPACECR...| 11.13|     BRAZIL|2011|    18.86|\n",
      "|    88|AIRCRAFT, SPACECR...|  98.9|     BRAZIL|2012|   117.76|\n",
      "|    88|AIRCRAFT, SPACECR...|  0.43|     BRAZIL|2013|   118.19|\n",
      "|    88|AIRCRAFT, SPACECR...| 45.71|     BRAZIL|2014|   163.90|\n",
      "|    88|AIRCRAFT, SPACECR...|  0.47|     BRAZIL|2015|   164.37|\n",
      "|    88|AIRCRAFT, SPACECR...|  0.38|     BRAZIL|2016|   164.75|\n",
      "|    88|AIRCRAFT, SPACECR...|464.33|     BRAZIL|2017|   629.08|\n",
      "|    88|AIRCRAFT, SPACECR...|  0.37|     BRAZIL|2018|   629.45|\n",
      "|    88|AIRCRAFT, SPACECR...|  0.01|   COLOMBIA|2018|     0.01|\n",
      "|    88|AIRCRAFT, SPACECR...|   0.0|       CUBA|2015|     0.00|\n",
      "|    88|AIRCRAFT, SPACECR...|   0.0|       CUBA|2016|     0.00|\n",
      "|    88|AIRCRAFT, SPACECR...|  0.37|       CUBA|2017|     0.37|\n",
      "|    88|AIRCRAFT, SPACECR...|  0.02|   DOMINICA|2011|     0.02|\n",
      "|    88|AIRCRAFT, SPACECR...|  0.37|   DOMINICA|2012|     0.39|\n",
      "|    88|AIRCRAFT, SPACECR...|  0.37|    ECUADOR|2010|     0.37|\n",
      "|    88|AIRCRAFT, SPACECR...|  0.02|    ECUADOR|2011|     0.39|\n",
      "|    88|AIRCRAFT, SPACECR...|  0.37|    ECUADOR|2012|     0.76|\n",
      "+------+--------------------+------+-----------+----+---------+\n",
      "only showing top 20 rows\n",
      "\n"
     ]
    },
    {
     "name": "stderr",
     "output_type": "stream",
     "text": [
      "                                                                                \r"
     ]
    }
   ],
   "source": [
    "column_acc_import = df_import.withColumn(\"acc_value\", F.expr(\"sum(value) over (partition by commodity, country order by year)\")) \\\n",
    "                    .withColumn('acc_value', F.col(\"acc_value\").cast(\"decimal(38,2)\"))\n",
    "print(\"Accumulated import value in column format\")\n",
    "column_acc_import.show()"
   ]
  },
  {
   "cell_type": "code",
   "execution_count": 48,
   "id": "f2b32056",
   "metadata": {},
   "outputs": [
    {
     "name": "stdout",
     "output_type": "stream",
     "text": [
      "Accumulated export value in column format\n",
      "+------+--------------------+-----+-------+----+---------+\n",
      "|HSCode|           Commodity|value|country|year|acc_value|\n",
      "+------+--------------------+-----+-------+----+---------+\n",
      "|    88|AIRCRAFT, SPACECR...|  0.0|ARMENIA|2012|     0.00|\n",
      "|    88|AIRCRAFT, SPACECR...| 0.36|ARMENIA|2013|     0.36|\n",
      "|    88|AIRCRAFT, SPACECR...|  0.0|ARMENIA|2014|     0.36|\n",
      "|    88|AIRCRAFT, SPACECR...| 0.36|ARMENIA|2015|     0.72|\n",
      "|    88|AIRCRAFT, SPACECR...| 0.36|  BENIN|2010|     0.36|\n",
      "|    88|AIRCRAFT, SPACECR...|  0.0|  BENIN|2016|     0.36|\n",
      "|    88|AIRCRAFT, SPACECR...| 0.36|  BENIN|2017|     0.72|\n",
      "|    88|AIRCRAFT, SPACECR...| 0.45| BRAZIL|2010|     0.45|\n",
      "|    88|AIRCRAFT, SPACECR...|  1.3| BRAZIL|2011|     1.75|\n",
      "|    88|AIRCRAFT, SPACECR...| 0.12| BRAZIL|2012|     1.87|\n",
      "|    88|AIRCRAFT, SPACECR...| 0.18| BRAZIL|2013|     2.05|\n",
      "|    88|AIRCRAFT, SPACECR...| 6.71| BRAZIL|2014|     8.76|\n",
      "|    88|AIRCRAFT, SPACECR...| 6.92| BRAZIL|2015|    15.68|\n",
      "|    88|AIRCRAFT, SPACECR...| 9.04| BRAZIL|2016|    24.72|\n",
      "|    88|AIRCRAFT, SPACECR...| 0.47| BRAZIL|2017|    25.19|\n",
      "|    88|AIRCRAFT, SPACECR...|  0.4| BRAZIL|2018|    25.59|\n",
      "|    88|AIRCRAFT, SPACECR...|  0.1| BRUNEI|2010|     0.10|\n",
      "|    88|AIRCRAFT, SPACECR...| 0.36| BRUNEI|2011|     0.46|\n",
      "|    88|AIRCRAFT, SPACECR...|  0.0| BRUNEI|2012|     0.46|\n",
      "|    88|AIRCRAFT, SPACECR...| 0.36| BRUNEI|2013|     0.82|\n",
      "+------+--------------------+-----+-------+----+---------+\n",
      "only showing top 20 rows\n",
      "\n"
     ]
    }
   ],
   "source": [
    "from pyspark.sql import Window\n",
    "column_acc_export = df_export.withColumn(\"acc_value\", F.sum(\"value\").over(Window.partitionBy(\"Commodity\", \"country\").orderBy(\"year\"))) \\\n",
    "                    .withColumn('acc_value', F.col(\"acc_value\").cast(\"decimal(38,2)\"))\n",
    "print(\"Accumulated export value in column format\")\n",
    "column_acc_export.show()"
   ]
  },
  {
   "cell_type": "markdown",
   "id": "b5d6760b",
   "metadata": {},
   "source": [
    "### Row format (Each year becomes a column name)"
   ]
  },
  {
   "cell_type": "code",
   "execution_count": 49,
   "id": "b3951254",
   "metadata": {},
   "outputs": [
    {
     "name": "stdout",
     "output_type": "stream",
     "text": [
      "Accumulated import value in row format\n",
      "+--------------------+---------------+----+-----+-----+-----+-----+-----+-----+-----+------+\n",
      "|           Commodity|        country|2010| 2011| 2012| 2013| 2014| 2015| 2016| 2017|  2018|\n",
      "+--------------------+---------------+----+-----+-----+-----+-----+-----+-----+-----+------+\n",
      "|ELECTRICAL MACHIN...|    BAHARAIN IS|1.08| 3.79| 5.97| 6.92|10.01|10.19|11.40|13.91| 16.17|\n",
      "|WOOD AND ARTICLES...|  NEW CALEDONIA| 0.0| 0.00| 0.20| 0.57| 0.57| 0.57| 0.57| 0.57|  0.57|\n",
      "|RAW HIDES AND SKI...|BOSNIA-HRZGOVIN|0.01| 0.38| 0.38| 0.48| 0.85| 0.87| 0.88| 0.96|  0.96|\n",
      "|            CEREALS.|VIETNAM SOC REP|0.05| 0.42| 0.43| 0.80| 0.80| 0.80| 0.80| 0.81|  0.89|\n",
      "|PAPER AND PAPERBO...|        GEORGIA|3.16| 3.16| 3.53| 3.56| 3.93| 3.93| 4.22| 4.59|  4.96|\n",
      "|TANNING OR DYEING...|         UGANDA| 0.0| 0.00| 0.00| 0.00| 0.00| 0.00| 0.00| 0.00|  0.37|\n",
      "|MANUFACTURES OF S...|BOSNIA-HRZGOVIN| 0.0| 0.00| 0.00| 0.00| 0.00| 0.00| 0.02| 0.04|  0.41|\n",
      "|ARTICLES OF STONE...|        LEBANON|0.01| 0.01| 0.02| 0.04| 0.05| 0.06| 0.06| 0.43|  0.43|\n",
      "|        FERTILISERS.|       PORTUGAL|0.37| 0.41| 0.68| 0.70| 1.07| 1.07| 1.07| 1.07|  1.07|\n",
      "|RESIDUES AND WAST...|      SINGAPORE|5.97|13.59|18.73|25.46|32.01|42.06|53.09|66.06|134.62|\n",
      "|PULP OF WOOD OR O...|     MARTINIQUE| 0.0| 0.00| 0.04| 0.13| 0.13| 0.50| 0.50| 0.50|  1.06|\n",
      "|MISCELLANEOUS EDI...|    BAHARAIN IS|0.38| 1.31| 2.08| 2.45| 3.40| 4.25| 5.66| 6.26|  6.54|\n",
      "|      IRON AND STEEL|       BULGARIA|0.45| 1.85| 3.10| 4.68| 7.66|10.07|13.07|20.41| 29.00|\n",
      "|OPTICAL, PHOTOGRA...|          NEPAL|0.14| 0.27| 0.30| 0.45| 0.73| 0.80| 1.09| 1.12|  2.06|\n",
      "|PROJECT GOODS; SO...|       BULGARIA| 0.0| 0.00| 0.37| 0.37| 0.74| 0.74| 0.76| 0.77|  1.14|\n",
      "|LEAD AND ARTICLES...|    CONGO P REP|0.04| 0.41| 0.67| 1.98| 2.64| 4.17| 7.07| 7.24|  7.69|\n",
      "|WOOD AND ARTICLES...|    UNSPECIFIED|16.5|19.24|19.68|21.00|21.02|21.13|21.13|21.49| 21.50|\n",
      "|PHARMACEUTICAL PR...|     KAZAKHSTAN| 0.0| 0.00| 0.37| 0.37| 0.38| 0.39| 0.76| 0.76|  0.81|\n",
      "| MAN-MADE FILAMENTS.|        ROMANIA|0.31| 0.50| 0.65| 0.84| 0.87| 0.94| 0.94| 0.94|  0.96|\n",
      "|ELECTRICAL MACHIN...|        BURUNDI| 0.0| 0.06| 0.09| 0.46| 0.49| 0.49| 0.86| 0.99|  1.36|\n",
      "+--------------------+---------------+----+-----+-----+-----+-----+-----+-----+-----+------+\n",
      "only showing top 20 rows\n",
      "\n"
     ]
    }
   ],
   "source": [
    "# Pivot function\n",
    "row_acc_import = df_import.groupBy(\"Commodity\", \"country\").pivot(\"year\").sum(\"value\").na.fill(0)\n",
    "\n",
    "for i in range(2011, 2019):\n",
    "        row_acc_import = row_acc_import.withColumn(str(i), F.col(str(i-1)) + F.col(str(i))) \\\n",
    "                        .withColumn(str(i), F.col(str(i)).cast(\"decimal(38,2)\"))                                                                                                                                                                                \n",
    "print(\"Accumulated import value in row format\")\n",
    "row_acc_import.show()"
   ]
  },
  {
   "cell_type": "code",
   "execution_count": 50,
   "id": "ccfe59fa",
   "metadata": {},
   "outputs": [
    {
     "name": "stdout",
     "output_type": "stream",
     "text": [
      "Accumulated export value in row format\n"
     ]
    },
    {
     "name": "stderr",
     "output_type": "stream",
     "text": [
      "[Stage 557:===================>                                     (1 + 2) / 3]\r"
     ]
    },
    {
     "name": "stdout",
     "output_type": "stream",
     "text": [
      "+--------------------+---------------+------+------+------+------+-------+-------+-------+-------+-------+\n",
      "|           Commodity|        country|  2010|  2011|  2012|  2013|   2014|   2015|   2016|   2017|   2018|\n",
      "+--------------------+---------------+------+------+------+------+-------+-------+-------+-------+-------+\n",
      "|INORGANIC CHEMICA...|       BARBADOS|  0.03|  0.07|  0.08|  0.09|   0.10|   0.11|   0.12|   0.13|   0.15|\n",
      "|FISH AND CRUSTACE...|        COMOROS|   0.0|  0.00|  0.00|  0.00|   0.00|   0.04|   0.26|   0.49|   0.67|\n",
      "|ARTICLES OF LEATH...|        CROATIA|   1.0|  2.16|  3.30|  4.23|   5.20|   5.83|   6.72|   7.68|   8.37|\n",
      "|ARTICLES OF LEATH...|   KIRIBATI REP|   0.0|  0.00|  0.00|  0.00|   0.00|   0.00|   0.00|   0.36|   0.36|\n",
      "|ELECTRICAL MACHIN...|    BAHARAIN IS| 24.56| 54.40| 87.21|116.62| 141.95| 165.67| 188.57| 225.65| 259.75|\n",
      "|TOOLS IMPLEMENTS,...|      MAURITIUS|  0.37|  0.64|  0.79|  0.91|   1.20|   1.56|   1.91|   2.53|   3.13|\n",
      "|             COTTON.|          SYRIA|  0.47|  1.22|  1.66|  1.91|   4.34|   5.26|   8.36|  17.76|  28.68|\n",
      "|            CEREALS.|VIETNAM SOC REP|156.99|369.09|730.88|960.41|1068.63|1074.32|1078.35|1086.73|1107.89|\n",
      "|ELECTRICAL MACHIN...|          NIGER|   3.3|  6.54|  9.58| 11.63|  16.30|  20.61|  22.73|  41.75|  47.14|\n",
      "|      IRON AND STEEL|       BULGARIA| 10.78| 30.71| 71.30| 81.39|  89.60|  95.76| 106.16| 119.73| 129.79|\n",
      "|WOOL, FINE OR COA...|        NIGERIA|  0.02|  0.09|  0.45|  0.46|   0.48|   0.50|   0.51|   0.55|   0.61|\n",
      "|        FERTILISERS.|    DOMINIC REP|  0.36|  0.37|  0.40|  0.42|   0.50|   0.50|   0.54|   0.65|   0.67|\n",
      "|ELECTRICAL MACHIN...|     MONTSERRAT|  0.17|  0.53|  0.57|  0.57|   0.90|   1.19|   1.35|   1.35|   1.71|\n",
      "|MINERAL FUELS, MI...|         GAMBIA|   0.0|  0.00|  0.00|  0.00|   0.04|   0.29|   0.52|   0.66|   1.00|\n",
      "|PRINTED BOOKDS, N...|         MONACO|  0.36|  0.36|  0.72|  0.72|   0.72|   0.72|   0.72|   0.72|   0.72|\n",
      "|PAPER AND PAPERBO...|        GEORGIA|  1.39|  3.63|  5.73|  7.77|  10.75|  13.00|  14.83|  16.38|  18.02|\n",
      "|FOOTWEAR, GAITERS...|     SEYCHELLES|   0.0|  0.03|  0.03|  0.05|   0.14|   0.28|   0.37|   0.43|   0.51|\n",
      "|KNITTED OR CROCHE...|       BARBADOS|   0.0|  0.00|  0.00|  0.00|   0.36|   0.72|   0.72|   1.08|   1.08|\n",
      "|TANNING OR DYEING...|         UGANDA|  2.13|  4.74|  6.38|  9.01|  11.92|  16.18|  21.88|  28.44|  38.44|\n",
      "|UMBRELLAS, SUN UM...|        NIGERIA|  0.01|  0.02|  0.02|  0.04|   0.04|   0.04|   0.04|   0.05|   0.13|\n",
      "+--------------------+---------------+------+------+------+------+-------+-------+-------+-------+-------+\n",
      "only showing top 20 rows\n",
      "\n"
     ]
    },
    {
     "name": "stderr",
     "output_type": "stream",
     "text": [
      "                                                                                \r"
     ]
    }
   ],
   "source": [
    "row_acc_export = df_export.groupBy(\"Commodity\", \"country\").pivot(\"year\").sum(\"value\").na.fill(0)\n",
    "\n",
    "for i in range(2011, 2019):\n",
    "        row_acc_export = row_acc_export.withColumn(str(i), F.col(str(i-1)) + F.col(str(i))) \\\n",
    "                        .withColumn(str(i), F.col(str(i)).cast(\"decimal(38,2)\"))\n",
    "print(\"Accumulated export value in row format\")\n",
    "row_acc_export.show()"
   ]
  },
  {
   "cell_type": "code",
   "execution_count": 51,
   "id": "b071c87c",
   "metadata": {},
   "outputs": [],
   "source": [
    "# Run main Spark UI at localhost:8081\n",
    "# Run Spark UI at localhost:4040 or localhost:4041 when running in a cluster\n",
    "spark.stop()"
   ]
  }
 ],
 "metadata": {
  "kernelspec": {
   "display_name": "Python 3.6.13 ('hello-spark')",
   "language": "python",
   "name": "python3"
  },
  "language_info": {
   "codemirror_mode": {
    "name": "ipython",
    "version": 3
   },
   "file_extension": ".py",
   "mimetype": "text/x-python",
   "name": "python",
   "nbconvert_exporter": "python",
   "pygments_lexer": "ipython3",
   "version": "3.8.10"
  },
  "vscode": {
   "interpreter": {
    "hash": "268fd730bccc959300f668ddd198a794da6371e4ca2054d9eba6d743054fab7f"
   }
  }
 },
 "nbformat": 4,
 "nbformat_minor": 5
}
