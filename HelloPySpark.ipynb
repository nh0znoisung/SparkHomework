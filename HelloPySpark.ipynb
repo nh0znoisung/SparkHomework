{
 "cells": [
  {
   "cell_type": "markdown",
   "id": "59df7777",
   "metadata": {},
   "source": [
    "### Spark Setup"
   ]
  },
  {
   "cell_type": "code",
   "execution_count": 54,
   "id": "bb7f21ca",
   "metadata": {
    "scrolled": false
   },
   "outputs": [
    {
     "name": "stdout",
     "output_type": "stream",
     "text": [
      "/home/lap15383/anaconda3/envs/hello-spark/bin/python\n"
     ]
    }
   ],
   "source": [
    "import sys\n",
    "print(sys.executable)"
   ]
  },
  {
   "cell_type": "code",
   "execution_count": 55,
   "id": "92c0c286",
   "metadata": {},
   "outputs": [
    {
     "name": "stdout",
     "output_type": "stream",
     "text": [
      "     active environment : hello-spark\n"
     ]
    }
   ],
   "source": [
    "!conda info | grep \"active environment\""
   ]
  },
  {
   "cell_type": "code",
   "execution_count": 56,
   "id": "67df7c40",
   "metadata": {},
   "outputs": [
    {
     "name": "stdout",
     "output_type": "stream",
     "text": [
      "22/08/24 08:47:27 WARN Utils: Your hostname, lap15383-ThinkPad-T14-Gen-2i resolves to a loopback address: 127.0.1.1; using 172.25.37.44 instead (on interface wlp0s20f3)\n",
      "22/08/24 08:47:27 WARN Utils: Set SPARK_LOCAL_IP if you need to bind to another address\n",
      "Welcome to\n",
      "      ____              __\n",
      "     / __/__  ___ _____/ /__\n",
      "    _\\ \\/ _ \\/ _ `/ __/  '_/\n",
      "   /___/ .__/\\_,_/_/ /_/\\_\\   version 3.3.0\n",
      "      /_/\n",
      "                        \n",
      "Using Scala version 2.12.15, OpenJDK 64-Bit Server VM, 11.0.16\n",
      "Branch HEAD\n",
      "Compiled by user ubuntu on 2022-06-09T19:58:58Z\n",
      "Revision f74867bddfbcdd4d08076db36851e88b15e66556\n",
      "Url https://github.com/apache/spark\n",
      "Type --help for more information.\n"
     ]
    }
   ],
   "source": [
    "!pyspark --version # 2.12.15"
   ]
  },
  {
   "cell_type": "code",
   "execution_count": 57,
   "id": "a9a361f9",
   "metadata": {},
   "outputs": [],
   "source": [
    "import pyspark\n",
    "from pyspark.sql import SparkSession\n",
    "from pyspark.sql import functions as F\n",
    "from pyspark.sql import Window"
   ]
  },
  {
   "cell_type": "code",
   "execution_count": 58,
   "id": "b1391073",
   "metadata": {},
   "outputs": [],
   "source": [
    "spark = SparkSession.builder.appName(\"HelloPySpark\").getOrCreate()"
   ]
  },
  {
   "cell_type": "code",
   "execution_count": 59,
   "id": "5f0132f1",
   "metadata": {},
   "outputs": [
    {
     "data": {
      "text/html": [
       "\n",
       "            <div>\n",
       "                <p><b>SparkSession - in-memory</b></p>\n",
       "                \n",
       "        <div>\n",
       "            <p><b>SparkContext</b></p>\n",
       "\n",
       "            <p><a href=\"http://172.25.37.44:4040\">Spark UI</a></p>\n",
       "\n",
       "            <dl>\n",
       "              <dt>Version</dt>\n",
       "                <dd><code>v3.3.0</code></dd>\n",
       "              <dt>Master</dt>\n",
       "                <dd><code>local[*]</code></dd>\n",
       "              <dt>AppName</dt>\n",
       "                <dd><code>HelloPySpark</code></dd>\n",
       "            </dl>\n",
       "        </div>\n",
       "        \n",
       "            </div>\n",
       "        "
      ],
      "text/plain": [
       "<pyspark.sql.session.SparkSession at 0x7f5f108685b0>"
      ]
     },
     "execution_count": 59,
     "metadata": {},
     "output_type": "execute_result"
    }
   ],
   "source": [
    "spark # only 1 cluster. On cloud => Cluster 1 2 3"
   ]
  },
  {
   "cell_type": "markdown",
   "id": "04e565f6",
   "metadata": {},
   "source": [
    "### Data Proprocessing"
   ]
  },
  {
   "cell_type": "code",
   "execution_count": 60,
   "id": "5c5e8c4d",
   "metadata": {},
   "outputs": [],
   "source": [
    "IMPORT_DATA = \"data/2018-2010_import.csv\"\n",
    "EXPORT_DATA = \"data/2018-2010_export.csv\""
   ]
  },
  {
   "cell_type": "code",
   "execution_count": 61,
   "id": "6214f435",
   "metadata": {},
   "outputs": [],
   "source": [
    "df_import = spark.read.csv(IMPORT_DATA, header=True, inferSchema=True)\n",
    "df_export = spark.read.options(header=True, inferSchema=True). \\\n",
    "                        csv(EXPORT_DATA)"
   ]
  },
  {
   "cell_type": "code",
   "execution_count": 62,
   "id": "b4870e0a",
   "metadata": {},
   "outputs": [
    {
     "data": {
      "text/plain": [
       "pyspark.sql.dataframe.DataFrame"
      ]
     },
     "execution_count": 62,
     "metadata": {},
     "output_type": "execute_result"
    }
   ],
   "source": [
    "type(df_import)"
   ]
  },
  {
   "cell_type": "code",
   "execution_count": 63,
   "id": "c82da571",
   "metadata": {},
   "outputs": [
    {
     "data": {
      "text/plain": [
       "DataFrame[HSCode: int, Commodity: string, value: double, country: string, year: int]"
      ]
     },
     "execution_count": 63,
     "metadata": {},
     "output_type": "execute_result"
    }
   ],
   "source": [
    "df_import"
   ]
  },
  {
   "cell_type": "code",
   "execution_count": 64,
   "id": "280d2cf2",
   "metadata": {},
   "outputs": [
    {
     "data": {
      "text/plain": [
       "DataFrame[HSCode: int, Commodity: string, value: double, country: string, year: int]"
      ]
     },
     "execution_count": 64,
     "metadata": {},
     "output_type": "execute_result"
    }
   ],
   "source": [
    "df_export"
   ]
  },
  {
   "cell_type": "code",
   "execution_count": 65,
   "id": "3712be57",
   "metadata": {},
   "outputs": [
    {
     "name": "stdout",
     "output_type": "stream",
     "text": [
      "+------+--------------------+------+---------------+----+\n",
      "|HSCode|           Commodity| value|        country|year|\n",
      "+------+--------------------+------+---------------+----+\n",
      "|     5|PRODUCTS OF ANIMA...|   0.0|AFGHANISTAN TIS|2018|\n",
      "|     7|EDIBLE VEGETABLES...| 12.38|AFGHANISTAN TIS|2018|\n",
      "|     8|EDIBLE FRUIT AND ...| 268.6|AFGHANISTAN TIS|2018|\n",
      "|     9|COFFEE, TEA, MATE...| 35.48|AFGHANISTAN TIS|2018|\n",
      "|    11|PRODUCTS OF THE M...|  null|AFGHANISTAN TIS|2018|\n",
      "|    12|OIL SEEDS AND OLE...|  8.32|AFGHANISTAN TIS|2018|\n",
      "|    13|LAC; GUMS, RESINS...|108.78|AFGHANISTAN TIS|2018|\n",
      "|    20|PREPARATIONS OF V...|  0.65|AFGHANISTAN TIS|2018|\n",
      "|    25|SALT; SULPHUR; EA...|  0.05|AFGHANISTAN TIS|2018|\n",
      "|    27|MINERAL FUELS, MI...|   0.0|AFGHANISTAN TIS|2018|\n",
      "|    39|PLASTIC AND ARTIC...|  null|AFGHANISTAN TIS|2018|\n",
      "|    41|RAW HIDES AND SKI...|   0.0|AFGHANISTAN TIS|2018|\n",
      "|    49|PRINTED BOOKDS, N...|  null|AFGHANISTAN TIS|2018|\n",
      "|    51|WOOL, FINE OR COA...|  0.17|AFGHANISTAN TIS|2018|\n",
      "|    52|             COTTON.|  0.01|AFGHANISTAN TIS|2018|\n",
      "|    57|CARPETS AND OTHER...|  0.02|AFGHANISTAN TIS|2018|\n",
      "|    68|ARTICLES OF STONE...|  0.01|AFGHANISTAN TIS|2018|\n",
      "|    71|NATURAL OR CULTUR...|  0.01|AFGHANISTAN TIS|2018|\n",
      "|    72|      IRON AND STEEL|  0.02|AFGHANISTAN TIS|2018|\n",
      "|    74|COPPER AND ARTICL...|  0.36|AFGHANISTAN TIS|2018|\n",
      "+------+--------------------+------+---------------+----+\n",
      "only showing top 20 rows\n",
      "\n"
     ]
    }
   ],
   "source": [
    "df_import.show()"
   ]
  },
  {
   "cell_type": "code",
   "execution_count": 66,
   "id": "a9fd6344",
   "metadata": {},
   "outputs": [
    {
     "name": "stdout",
     "output_type": "stream",
     "text": [
      "-RECORD 0-------------------------\n",
      " HSCode    | 2                    \n",
      " Commodity | MEAT AND EDIBLE M... \n",
      " value     | 0.18                 \n",
      " country   | AFGHANISTAN TIS      \n",
      " year      | 2018                 \n",
      "-RECORD 1-------------------------\n",
      " HSCode    | 3                    \n",
      " Commodity | FISH AND CRUSTACE... \n",
      " value     | 0.0                  \n",
      " country   | AFGHANISTAN TIS      \n",
      " year      | 2018                 \n",
      "-RECORD 2-------------------------\n",
      " HSCode    | 4                    \n",
      " Commodity | DAIRY PRODUCE; BI... \n",
      " value     | 12.48                \n",
      " country   | AFGHANISTAN TIS      \n",
      " year      | 2018                 \n",
      "-RECORD 3-------------------------\n",
      " HSCode    | 6                    \n",
      " Commodity | LIVE TREES AND OT... \n",
      " value     | 0.0                  \n",
      " country   | AFGHANISTAN TIS      \n",
      " year      | 2018                 \n",
      "-RECORD 4-------------------------\n",
      " HSCode    | 7                    \n",
      " Commodity | EDIBLE VEGETABLES... \n",
      " value     | 1.89                 \n",
      " country   | AFGHANISTAN TIS      \n",
      " year      | 2018                 \n",
      "-RECORD 5-------------------------\n",
      " HSCode    | 8                    \n",
      " Commodity | EDIBLE FRUIT AND ... \n",
      " value     | 25.01                \n",
      " country   | AFGHANISTAN TIS      \n",
      " year      | 2018                 \n",
      "-RECORD 6-------------------------\n",
      " HSCode    | 9                    \n",
      " Commodity | COFFEE, TEA, MATE... \n",
      " value     | 13.75                \n",
      " country   | AFGHANISTAN TIS      \n",
      " year      | 2018                 \n",
      "-RECORD 7-------------------------\n",
      " HSCode    | 10                   \n",
      " Commodity | CEREALS.             \n",
      " value     | 0.75                 \n",
      " country   | AFGHANISTAN TIS      \n",
      " year      | 2018                 \n",
      "-RECORD 8-------------------------\n",
      " HSCode    | 11                   \n",
      " Commodity | PRODUCTS OF THE M... \n",
      " value     | 0.01                 \n",
      " country   | AFGHANISTAN TIS      \n",
      " year      | 2018                 \n",
      "-RECORD 9-------------------------\n",
      " HSCode    | 12                   \n",
      " Commodity | OIL SEEDS AND OLE... \n",
      " value     | 10.02                \n",
      " country   | AFGHANISTAN TIS      \n",
      " year      | 2018                 \n",
      "-RECORD 10------------------------\n",
      " HSCode    | 13                   \n",
      " Commodity | LAC; GUMS, RESINS... \n",
      " value     | 0.04                 \n",
      " country   | AFGHANISTAN TIS      \n",
      " year      | 2018                 \n",
      "-RECORD 11------------------------\n",
      " HSCode    | 14                   \n",
      " Commodity | VEGETABLE PLAITIN... \n",
      " value     | null                 \n",
      " country   | AFGHANISTAN TIS      \n",
      " year      | 2018                 \n",
      "-RECORD 12------------------------\n",
      " HSCode    | 15                   \n",
      " Commodity | ANIMAL OR VEGETAB... \n",
      " value     | 0.37                 \n",
      " country   | AFGHANISTAN TIS      \n",
      " year      | 2018                 \n",
      "-RECORD 13------------------------\n",
      " HSCode    | 17                   \n",
      " Commodity | SUGARS AND SUGAR ... \n",
      " value     | 15.92                \n",
      " country   | AFGHANISTAN TIS      \n",
      " year      | 2018                 \n",
      "-RECORD 14------------------------\n",
      " HSCode    | 18                   \n",
      " Commodity | COCOA AND COCOA P... \n",
      " value     | 0.0                  \n",
      " country   | AFGHANISTAN TIS      \n",
      " year      | 2018                 \n",
      "-RECORD 15------------------------\n",
      " HSCode    | 19                   \n",
      " Commodity | PREPARATIONS OF C... \n",
      " value     | 0.63                 \n",
      " country   | AFGHANISTAN TIS      \n",
      " year      | 2018                 \n",
      "-RECORD 16------------------------\n",
      " HSCode    | 20                   \n",
      " Commodity | PREPARATIONS OF V... \n",
      " value     | 5.04                 \n",
      " country   | AFGHANISTAN TIS      \n",
      " year      | 2018                 \n",
      "-RECORD 17------------------------\n",
      " HSCode    | 21                   \n",
      " Commodity | MISCELLANEOUS EDI... \n",
      " value     | 3.08                 \n",
      " country   | AFGHANISTAN TIS      \n",
      " year      | 2018                 \n",
      "-RECORD 18------------------------\n",
      " HSCode    | 22                   \n",
      " Commodity | BEVERAGES, SPIRIT... \n",
      " value     | 0.01                 \n",
      " country   | AFGHANISTAN TIS      \n",
      " year      | 2018                 \n",
      "-RECORD 19------------------------\n",
      " HSCode    | 23                   \n",
      " Commodity | RESIDUES AND WAST... \n",
      " value     | 0.22                 \n",
      " country   | AFGHANISTAN TIS      \n",
      " year      | 2018                 \n",
      "only showing top 20 rows\n",
      "\n"
     ]
    }
   ],
   "source": [
    "df_export.show(vertical=True)"
   ]
  },
  {
   "cell_type": "code",
   "execution_count": 67,
   "id": "4d2b8fc1",
   "metadata": {},
   "outputs": [
    {
     "name": "stdout",
     "output_type": "stream",
     "text": [
      "76124\n",
      "137023\n"
     ]
    }
   ],
   "source": [
    "print(df_import.count())\n",
    "print(df_export.count())"
   ]
  },
  {
   "cell_type": "code",
   "execution_count": 68,
   "id": "0bb61b55",
   "metadata": {},
   "outputs": [
    {
     "name": "stdout",
     "output_type": "stream",
     "text": [
      "root\n",
      " |-- HSCode: integer (nullable = true)\n",
      " |-- Commodity: string (nullable = true)\n",
      " |-- value: double (nullable = true)\n",
      " |-- country: string (nullable = true)\n",
      " |-- year: integer (nullable = true)\n",
      "\n",
      "root\n",
      " |-- HSCode: integer (nullable = true)\n",
      " |-- Commodity: string (nullable = true)\n",
      " |-- value: double (nullable = true)\n",
      " |-- country: string (nullable = true)\n",
      " |-- year: integer (nullable = true)\n",
      "\n"
     ]
    }
   ],
   "source": [
    "df_import.printSchema()\n",
    "df_export.printSchema()"
   ]
  },
  {
   "cell_type": "code",
   "execution_count": 69,
   "id": "bdb47ac7",
   "metadata": {},
   "outputs": [
    {
     "name": "stderr",
     "output_type": "stream",
     "text": [
      "[Stage 579:============================>                            (1 + 1) / 2]\r"
     ]
    },
    {
     "name": "stdout",
     "output_type": "stream",
     "text": [
      "+-------+------------------+--------------------+------------------+---------------+------------------+\n",
      "|summary|            HSCode|           Commodity|             value|        country|              year|\n",
      "+-------+------------------+--------------------+------------------+---------------+------------------+\n",
      "|  count|             76124|               76124|             64536|          76124|             76124|\n",
      "|   mean| 53.90502338290158|                null|62.361424941119346|           null|2014.0182990909568|\n",
      "| stddev|27.546852275859635|                null| 666.3271770956131|           null| 2.579384776170248|\n",
      "|    min|                 1|AIRCRAFT, SPACECR...|               0.0|AFGHANISTAN TIS|              2010|\n",
      "|    max|                99|ZINC AND ARTICLES...|          32781.57|       ZIMBABWE|              2018|\n",
      "+-------+------------------+--------------------+------------------+---------------+------------------+\n",
      "\n"
     ]
    },
    {
     "name": "stderr",
     "output_type": "stream",
     "text": [
      "                                                                                \r"
     ]
    }
   ],
   "source": [
    "df_import.describe().show()"
   ]
  },
  {
   "cell_type": "code",
   "execution_count": 70,
   "id": "1fd86a66",
   "metadata": {},
   "outputs": [
    {
     "name": "stderr",
     "output_type": "stream",
     "text": [
      "[Stage 582:===================>                                     (1 + 2) / 3]\r"
     ]
    },
    {
     "name": "stdout",
     "output_type": "stream",
     "text": [
      "+-------+------------------+--------------------+------------------+---------------+------------------+\n",
      "|summary|            HSCode|           Commodity|             value|        country|              year|\n",
      "+-------+------------------+--------------------+------------------+---------------+------------------+\n",
      "|  count|            137023|              137023|            122985|         137023|            137023|\n",
      "|   mean|51.330302212037395|                null|21.567829166160198|           null| 2014.056304416047|\n",
      "| stddev|28.018025954244337|                null|229.70127859467328|           null|2.5801603419089547|\n",
      "|    min|                 1|AIRCRAFT, SPACECR...|               0.0|AFGHANISTAN TIS|              2010|\n",
      "|    max|                99|ZINC AND ARTICLES...|          19805.17|       ZIMBABWE|              2018|\n",
      "+-------+------------------+--------------------+------------------+---------------+------------------+\n",
      "\n"
     ]
    },
    {
     "name": "stderr",
     "output_type": "stream",
     "text": [
      "                                                                                \r"
     ]
    }
   ],
   "source": [
    "df_export.describe().show()"
   ]
  },
  {
   "cell_type": "markdown",
   "id": "97bb5f17",
   "metadata": {},
   "source": [
    "#### Remove duplicate records"
   ]
  },
  {
   "cell_type": "code",
   "execution_count": 71,
   "id": "c8208413",
   "metadata": {},
   "outputs": [
    {
     "name": "stdout",
     "output_type": "stream",
     "text": [
      "Import Df distinct values: 75093\n",
      "Import Df total values: 76124\n",
      "Export Df distinct values: 137023\n",
      "Export Df total values: 137023\n"
     ]
    }
   ],
   "source": [
    "print(\"Import Df distinct values:\",df_import.distinct().count())\n",
    "print(\"Import Df total values:\",df_import.count())\n",
    "print(\"Export Df distinct values:\",df_export.distinct().count())\n",
    "print(\"Export Df total values:\",df_export.count())"
   ]
  },
  {
   "cell_type": "markdown",
   "id": "90f8f6bf",
   "metadata": {},
   "source": [
    "In Import Df, there are some duplicate records"
   ]
  },
  {
   "cell_type": "code",
   "execution_count": 72,
   "id": "19b45631",
   "metadata": {},
   "outputs": [],
   "source": [
    "df_import = df_import.dropDuplicates()"
   ]
  },
  {
   "cell_type": "code",
   "execution_count": 73,
   "id": "5b885902",
   "metadata": {},
   "outputs": [
    {
     "name": "stdout",
     "output_type": "stream",
     "text": [
      "True\n",
      "True\n"
     ]
    }
   ],
   "source": [
    "print(df_import.dropDuplicates(['Commodity', 'country', 'year']).count() == df_import.count())\n",
    "print(df_export.dropDuplicates(['Commodity', 'country', 'year']).count() == df_export.count())"
   ]
  },
  {
   "cell_type": "markdown",
   "id": "d74a1982",
   "metadata": {},
   "source": [
    "(commodity, country, year) is the primary keys of Import and Export Dataframe"
   ]
  },
  {
   "cell_type": "markdown",
   "id": "18eccf97",
   "metadata": {},
   "source": [
    "#### Clean Data"
   ]
  },
  {
   "cell_type": "code",
   "execution_count": 74,
   "id": "c6854dfc",
   "metadata": {},
   "outputs": [
    {
     "name": "stdout",
     "output_type": "stream",
     "text": [
      "Number of record in Import DataFrame: 75093\n",
      "+------+---------+-----+-------+----+\n",
      "|HSCode|Commodity|value|country|year|\n",
      "+------+---------+-----+-------+----+\n",
      "|     0|        0|11416|      0|   0|\n",
      "+------+---------+-----+-------+----+\n",
      "\n",
      "Number of record in Export DataFrame: 137023\n",
      "+------+---------+-----+-------+----+\n",
      "|HSCode|Commodity|value|country|year|\n",
      "+------+---------+-----+-------+----+\n",
      "|     0|        0|14038|      0|   0|\n",
      "+------+---------+-----+-------+----+\n",
      "\n"
     ]
    }
   ],
   "source": [
    "# Null, Empty\n",
    "def check_na(df: pyspark.sql.DataFrame) -> pyspark.sql.DataFrame:\n",
    "    return df.select([F.count(F.when(F.isnan(c) | F.col(c).isNull(), c)).alias(c) for c in df.columns])\n",
    "\n",
    "print(\"Number of record in Import DataFrame:\", df_import.count())\n",
    "check_na(df_import).show()\n",
    "# df_import.select([F.count(F.when(F.isnan(c) | F.col(c).isNull(), c)).alias(c) for c in df_import.columns]).show()\n",
    "\n",
    "print(\"Number of record in Export DataFrame:\", df_export.count())\n",
    "check_na(df_export).show()\n",
    "# df_export.select([F.count(F.when(F.isnan(c) | F.col(c).isNull(), c)).alias(c) for c in df_export.columns]).show()"
   ]
  },
  {
   "cell_type": "code",
   "execution_count": 75,
   "id": "903dd747",
   "metadata": {},
   "outputs": [],
   "source": [
    "from pyspark.ml.feature import Imputer\n",
    "\n",
    "na_columns = ['value'] #int type\n",
    "def fill_na_with_median(df: pyspark.sql.dataframe.DataFrame, na_columns: list) -> pyspark.sql.dataframe.DataFrame:\n",
    "    imputer = Imputer(inputCols=na_columns, outputCols=[c for c in na_columns])\n",
    "    tmp_df =  imputer.setStrategy(\"median\").fit(df).transform(df)\n",
    "    # tmp_df = tmp_df.drop(*na_columns)\n",
    "    # for item in na_columns:\n",
    "    #     tmp_df = tmp_df.withColumnRenamed('{}_imputed'.format(item), item)\n",
    "    return tmp_df\n",
    "\n",
    "# fill_na_with_median(df_import, na_columns).show()"
   ]
  },
  {
   "cell_type": "code",
   "execution_count": 76,
   "id": "26954d2c",
   "metadata": {},
   "outputs": [],
   "source": [
    "df_import = fill_na_with_median(df_import, na_columns)\n",
    "df_export = fill_na_with_median(df_export, na_columns)"
   ]
  },
  {
   "cell_type": "code",
   "execution_count": 77,
   "id": "29cc1688",
   "metadata": {},
   "outputs": [
    {
     "name": "stdout",
     "output_type": "stream",
     "text": [
      "+------+---------+-----+-------+----+\n",
      "|HSCode|Commodity|value|country|year|\n",
      "+------+---------+-----+-------+----+\n",
      "|     0|        0|    0|      0|   0|\n",
      "+------+---------+-----+-------+----+\n",
      "\n"
     ]
    },
    {
     "name": "stderr",
     "output_type": "stream",
     "text": [
      "[Stage 658:===================>                                     (1 + 2) / 3]\r"
     ]
    },
    {
     "name": "stdout",
     "output_type": "stream",
     "text": [
      "+------+---------+-----+-------+----+\n",
      "|HSCode|Commodity|value|country|year|\n",
      "+------+---------+-----+-------+----+\n",
      "|     0|        0|    0|      0|   0|\n",
      "+------+---------+-----+-------+----+\n",
      "\n"
     ]
    },
    {
     "name": "stderr",
     "output_type": "stream",
     "text": [
      "                                                                                \r"
     ]
    }
   ],
   "source": [
    "check_na(df_import).show()\n",
    "check_na(df_export).show()"
   ]
  },
  {
   "cell_type": "markdown",
   "id": "f4b5c4b8",
   "metadata": {},
   "source": [
    "#### Setup function Longest Consecutive Year"
   ]
  },
  {
   "cell_type": "code",
   "execution_count": 78,
   "id": "cd49ad1e",
   "metadata": {},
   "outputs": [
    {
     "name": "stdout",
     "output_type": "stream",
     "text": [
      "4\n"
     ]
    }
   ],
   "source": [
    "# Write unittest\n",
    "def longest_consecutive_year(l: list) -> int:\n",
    "    s = set(l)\n",
    "    lst = []\n",
    "    for i in s:\n",
    "        lst.append(i)\n",
    "    lst.sort()\n",
    "    n = len(lst)\n",
    "    consecutive_year = 1\n",
    "    ans = 1\n",
    "    for i in range(1,n):\n",
    "        if lst[i] == lst[i-1] + 1:\n",
    "            consecutive_year += 1\n",
    "        else:\n",
    "            ans = max(ans, consecutive_year)\n",
    "            consecutive_year = 1\n",
    "    ans = max(ans, consecutive_year)\n",
    "    return ans\n",
    "\n",
    "lst = [2014, 2017, 2018, 2015, 2013, 2010, 2012, 2012, 2012, 2010] \n",
    "print(longest_consecutive_year(lst))\n",
    "# [2014, 2017, 2016, 2018, 2015, 2013, 2010, 2012, 2011]"
   ]
  },
  {
   "cell_type": "code",
   "execution_count": 79,
   "id": "b03dbbb2",
   "metadata": {},
   "outputs": [],
   "source": [
    "# Convert a Python unction to Pyspark UDF (User Defined Function)\n",
    "from pyspark.sql.types import IntegerType, StringType, ArrayType, FloatType, StructField, StructType\n",
    "longest_consecutive_year_udf = F.udf(lambda lst: longest_consecutive_year(lst))"
   ]
  },
  {
   "cell_type": "markdown",
   "id": "f4b5c4b8",
   "metadata": {},
   "source": [
    "#### Setup rank of country by value"
   ]
  },
  {
   "cell_type": "code",
   "execution_count": 80,
   "id": "5a23cd70",
   "metadata": {},
   "outputs": [
    {
     "name": "stdout",
     "output_type": "stream",
     "text": [
      "+------+--------------------+-------+----------+----+----------+------------+\n",
      "|HSCode|           Commodity|  value|   country|year|rank_value|country_rank|\n",
      "+------+--------------------+-------+----------+----+----------+------------+\n",
      "|    88|AIRCRAFT, SPACECR...|4237.56|     U S A|2016|         1|       U S A|\n",
      "|    88|AIRCRAFT, SPACECR...|3382.94|    FRANCE|2018|         2|        null|\n",
      "|    88|AIRCRAFT, SPACECR...| 3297.8|    FRANCE|2017|         3|        null|\n",
      "|    88|AIRCRAFT, SPACECR...|3017.42|    FRANCE|2016|         4|        null|\n",
      "|    88|AIRCRAFT, SPACECR...|2333.57|     U S A|2014|         5|        null|\n",
      "|    88|AIRCRAFT, SPACECR...|2049.61|     U S A|2017|         6|        null|\n",
      "|    88|AIRCRAFT, SPACECR...|1973.15|     U S A|2013|         7|        null|\n",
      "|    88|AIRCRAFT, SPACECR...|1857.04|     U S A|2015|         8|        null|\n",
      "|    88|AIRCRAFT, SPACECR...| 1662.5|     U S A|2012|         9|        null|\n",
      "|    88|AIRCRAFT, SPACECR...|1594.39|     U S A|2010|        10|        null|\n",
      "|    88|AIRCRAFT, SPACECR...|1526.85|     U S A|2011|        11|        null|\n",
      "|    88|AIRCRAFT, SPACECR...|1479.24|     U S A|2018|        12|        null|\n",
      "|    88|AIRCRAFT, SPACECR...|1463.15|   GERMANY|2018|        13|        null|\n",
      "|    88|AIRCRAFT, SPACECR...|1409.87|    FRANCE|2014|        14|        null|\n",
      "|    88|AIRCRAFT, SPACECR...|1301.04|    FRANCE|2012|        15|        null|\n",
      "|    88|AIRCRAFT, SPACECR...|1161.11|    FRANCE|2015|        16|        null|\n",
      "|    88|AIRCRAFT, SPACECR...|1058.03|    FRANCE|2010|        17|        null|\n",
      "|    88|AIRCRAFT, SPACECR...| 878.03|    FRANCE|2013|        18|        null|\n",
      "|    88|AIRCRAFT, SPACECR...| 808.35|SAUDI ARAB|2015|        19|        null|\n",
      "|    88|AIRCRAFT, SPACECR...| 790.36|   GERMANY|2012|        20|        null|\n",
      "+------+--------------------+-------+----------+----+----------+------------+\n",
      "only showing top 20 rows\n",
      "\n"
     ]
    }
   ],
   "source": [
    "df_import = df_import.withColumn(\"rank_value\", F.rank().over(Window.partitionBy(\"Commodity\").orderBy(F.col(\"value\").desc()))) \\\n",
    "        .withColumn(\"country_rank\", F.when(F.col(\"rank_value\") == \"1\", F.col(\"country\")) \\\n",
    "        .otherwise(F.lit(None))) \\\n",
    "\n",
    "df_import.show()"
   ]
  },
  {
   "cell_type": "code",
   "execution_count": 81,
   "id": "5a23cd70",
   "metadata": {},
   "outputs": [
    {
     "name": "stdout",
     "output_type": "stream",
     "text": [
      "+------+--------------------+------+--------+----+----------+------------+\n",
      "|HSCode|           Commodity| value| country|year|rank_value|country_rank|\n",
      "+------+--------------------+------+--------+----+----------+------------+\n",
      "|    76|ALUMINIUM AND ART...|909.65|MALAYSIA|2018|         1|    MALAYSIA|\n",
      "|    76|ALUMINIUM AND ART...| 782.6|   U S A|2018|         2|        null|\n",
      "|    76|ALUMINIUM AND ART...|775.63|MALAYSIA|2017|         3|        null|\n",
      "|    76|ALUMINIUM AND ART...|764.63|KOREA RP|2017|         4|        null|\n",
      "|    76|ALUMINIUM AND ART...|742.75|KOREA RP|2016|         5|        null|\n",
      "|    76|ALUMINIUM AND ART...|680.27|   U S A|2017|         6|        null|\n",
      "|    76|ALUMINIUM AND ART...|566.44|KOREA RP|2014|         7|        null|\n",
      "|    76|ALUMINIUM AND ART...|538.06|KOREA RP|2015|         8|        null|\n",
      "|    76|ALUMINIUM AND ART...|528.77|KOREA RP|2018|         9|        null|\n",
      "|    76|ALUMINIUM AND ART...| 468.4|  TURKEY|2018|        10|        null|\n",
      "|    76|ALUMINIUM AND ART...|399.94|  MEXICO|2014|        11|        null|\n",
      "|    76|ALUMINIUM AND ART...|350.15|   U S A|2016|        12|        null|\n",
      "|    76|ALUMINIUM AND ART...|339.54|KOREA RP|2013|        13|        null|\n",
      "|    76|ALUMINIUM AND ART...|308.05|  MEXICO|2018|        14|        null|\n",
      "|    76|ALUMINIUM AND ART...|306.86|   U S A|2014|        15|        null|\n",
      "|    76|ALUMINIUM AND ART...|300.21|KOREA RP|2012|        16|        null|\n",
      "|    76|ALUMINIUM AND ART...|295.18|   U S A|2015|        17|        null|\n",
      "|    76|ALUMINIUM AND ART...|267.99|MALAYSIA|2016|        18|        null|\n",
      "|    76|ALUMINIUM AND ART...|255.37|  TURKEY|2017|        19|        null|\n",
      "|    76|ALUMINIUM AND ART...|252.72|   ITALY|2018|        20|        null|\n",
      "+------+--------------------+------+--------+----+----------+------------+\n",
      "only showing top 20 rows\n",
      "\n"
     ]
    }
   ],
   "source": [
    "df_export = df_export.withColumn(\"rank_value\", F.rank().over(Window.partitionBy(\"Commodity\").orderBy(F.col(\"value\").desc()))) \\\n",
    "        .withColumn(\"country_rank\", F.when(F.col(\"rank_value\") == \"1\", F.col(\"country\")) \\\n",
    "        .otherwise(F.lit(None))) \\\n",
    "\n",
    "df_export.show()"
   ]
  },
  {
   "cell_type": "markdown",
   "id": "2c39f417",
   "metadata": {},
   "source": [
    "## Problem 1: Calculate total import and export values for each product"
   ]
  },
  {
   "cell_type": "markdown",
   "id": "52c0b0c1",
   "metadata": {},
   "source": [
    "### Processing in Import DataFrame"
   ]
  },
  {
   "cell_type": "markdown",
   "id": "7dfd77fd",
   "metadata": {},
   "source": [
    "1. Total import value and number of countries import from"
   ]
  },
  {
   "cell_type": "code",
   "execution_count": 82,
   "id": "aeb598f3",
   "metadata": {},
   "outputs": [
    {
     "name": "stdout",
     "output_type": "stream",
     "text": [
      "+--------------------+------------------+\n",
      "|           Commodity|  sum_value_import|\n",
      "+--------------------+------------------+\n",
      "|       LIVE ANIMALS.|149.68999999999994|\n",
      "|                SILK|2367.4499999999985|\n",
      "| MAN-MADE FILAMENTS.| 7126.429999999997|\n",
      "|PROJECT GOODS; SO...| 39179.01999999996|\n",
      "|SHIPS, BOATS AND ...| 47597.75000000002|\n",
      "|ARMS AND AMMUNITI...|326.37000000000023|\n",
      "|PREPARATIONS OF M...|51.449999999999996|\n",
      "|OTHER MADE UP TEX...|3937.5699999999915|\n",
      "|MISCELLANEOUS EDI...|           1303.26|\n",
      "|ARTICLES OF LEATH...| 2865.159999999998|\n",
      "|ARTICLES OF IRON ...| 36412.63000000003|\n",
      "|COPPER AND ARTICL...| 30108.51000000003|\n",
      "|ARTICLES OF APPAR...|2089.7899999999986|\n",
      "|OTHER VEGETABLE T...| 2737.029999999998|\n",
      "|MISCELLANEOUS CHE...|38863.820000000036|\n",
      "|CARPETS AND OTHER...| 833.1100000000004|\n",
      "|PREPARED FEATHERS...|154.85000000000014|\n",
      "|RAW HIDES AND SKI...|  5369.93999999999|\n",
      "|MISCELLANEOUS ART...| 6449.509999999991|\n",
      "|ALUMINIUM AND ART...|32144.880000000034|\n",
      "+--------------------+------------------+\n",
      "only showing top 20 rows\n",
      "\n"
     ]
    }
   ],
   "source": [
    "new_df_import = df_import.groupBy(\"Commodity\") \\\n",
    "            .agg(F.sum(\"value\").alias(\"sum_value_import\"))\n",
    "new_df_import.show()"
   ]
  },
  {
   "cell_type": "code",
   "execution_count": 83,
   "id": "70f483ed",
   "metadata": {},
   "outputs": [
    {
     "name": "stdout",
     "output_type": "stream",
     "text": [
      "+--------------------+------------------+-------------------+\n",
      "|           Commodity|  sum_value_import|nums_country_import|\n",
      "+--------------------+------------------+-------------------+\n",
      "|       LIVE ANIMALS.|149.68999999999994|                 90|\n",
      "|                SILK|2367.4499999999985|                 68|\n",
      "| MAN-MADE FILAMENTS.| 7126.429999999997|                114|\n",
      "|PROJECT GOODS; SO...| 39179.01999999996|                160|\n",
      "|SHIPS, BOATS AND ...| 47597.75000000002|                 90|\n",
      "|ARMS AND AMMUNITI...|326.37000000000023|                 52|\n",
      "|PREPARATIONS OF M...|51.449999999999996|                 39|\n",
      "|OTHER MADE UP TEX...|3937.5699999999915|                145|\n",
      "|MISCELLANEOUS EDI...|           1303.26|                121|\n",
      "|ARTICLES OF LEATH...| 2865.159999999998|                131|\n",
      "|ARTICLES OF IRON ...| 36412.63000000003|                199|\n",
      "|COPPER AND ARTICL...| 30108.51000000003|                178|\n",
      "|ARTICLES OF APPAR...|2089.7899999999986|                134|\n",
      "|OTHER VEGETABLE T...| 2737.029999999998|                 75|\n",
      "|MISCELLANEOUS CHE...|38863.820000000036|                164|\n",
      "|CARPETS AND OTHER...| 833.1100000000004|                 90|\n",
      "|PREPARED FEATHERS...|154.85000000000014|                 66|\n",
      "|RAW HIDES AND SKI...|  5369.93999999999|                164|\n",
      "|MISCELLANEOUS ART...| 6449.509999999991|                153|\n",
      "|ALUMINIUM AND ART...|32144.880000000034|                193|\n",
      "+--------------------+------------------+-------------------+\n",
      "only showing top 20 rows\n",
      "\n"
     ]
    }
   ],
   "source": [
    "tmp = df_import.dropDuplicates([\"Commodity\", \"country\"]) \\\n",
    "        .groupBy(\"Commodity\") \\\n",
    "        .agg(F.count(\"country\").alias(\"nums_country_import\"))\n",
    "\n",
    "new_df_import = new_df_import.join(tmp, \"Commodity\", \"inner\")\n",
    "new_df_import.show()"
   ]
  },
  {
   "cell_type": "markdown",
   "id": "afd028bb",
   "metadata": {},
   "source": [
    "2. Max value and Country that this product has the highest value"
   ]
  },
  {
   "cell_type": "code",
   "execution_count": 84,
   "id": "97ecbf61",
   "metadata": {},
   "outputs": [
    {
     "name": "stdout",
     "output_type": "stream",
     "text": [
      "+--------------------+-----------------------------+----------------+\n",
      "|           Commodity|country_with_max_value_import|max_value_import|\n",
      "+--------------------+-----------------------------+----------------+\n",
      "|AIRCRAFT, SPACECR...|                        U S A|         4237.56|\n",
      "|ALBUMINOIDAL SUBS...|                   CHINA P RP|          128.48|\n",
      "|ALUMINIUM AND ART...|                   CHINA P RP|         1174.62|\n",
      "|ANIMAL OR VEGETAB...|                    INDONESIA|         5658.82|\n",
      "|ARMS AND AMMUNITI...|                 SOUTH AFRICA|           41.67|\n",
      "|ARTICLES OF APPAR...|                   CHINA P RP|          197.89|\n",
      "|ARTICLES OF APPAR...|                BANGLADESH PR|          285.13|\n",
      "|ARTICLES OF IRON ...|                   CHINA P RP|         1735.33|\n",
      "|ARTICLES OF LEATH...|                   CHINA P RP|          377.04|\n",
      "|ARTICLES OF STONE...|                   CHINA P RP|          539.19|\n",
      "|BEVERAGES, SPIRIT...|                        U S A|          272.59|\n",
      "|CARPETS AND OTHER...|                   CHINA P RP|           37.89|\n",
      "|   CERAMIC PRODUCTS.|                   CHINA P RP|          552.01|\n",
      "|            CEREALS.|                      UKRAINE|          619.23|\n",
      "|CLOCKS AND WATCHE...|                  SWITZERLAND|          161.33|\n",
      "|COCOA AND COCOA P...|                    INDONESIA|           67.46|\n",
      "|COFFEE, TEA, MATE...|              VIETNAM SOC REP|           245.4|\n",
      "|COPPER AND ARTICL...|                       ZAMBIA|          888.31|\n",
      "|CORK AND ARTICLES...|                     PORTUGAL|            3.68|\n",
      "|             COTTON.|                        U S A|          461.93|\n",
      "+--------------------+-----------------------------+----------------+\n",
      "only showing top 20 rows\n",
      "\n"
     ]
    }
   ],
   "source": [
    "from pyspark.sql import Window\n",
    "tmp_import = df_import.withColumn(\"rank_value\", F.rank().over(Window.partitionBy(\"Commodity\").orderBy(F.col(\"value\").desc()))) \n",
    "tmp_import = tmp_import.filter(tmp_import.rank_value == 1).select(\"Commodity\", \"country\", \"value\") \\\n",
    "                .withColumnRenamed(\"value\", \"max_value_import\") \\\n",
    "                .withColumnRenamed(\"country\", \"country_with_max_value_import\")\n",
    "\n",
    "tmp_import.show()"
   ]
  },
  {
   "cell_type": "code",
   "execution_count": 85,
   "id": "940a9a22",
   "metadata": {},
   "outputs": [],
   "source": [
    "# # Note: Uppercase and lowercase when groupBy._df_import groupBy accept and auto convert flexible upper and lower while select column not accept.\n",
    "# max_value_import = df_import.groupBy(\"Commodity\").max(\"value\").withColumnRenamed(\"max(value)\", \"max_value\")\n",
    "# tmp_import = df_import.join(max_value_import, \"Commodity\", \"left\")\n",
    "# tmp_import = tmp_import.filter(tmp_import.value == tmp_import.max_value).select('Commodity', 'country', 'value') \\\n",
    "#                         .withColumnRenamed(\"country\", \"country_with_max_value_import\") \\\n",
    "#                         .withColumnRenamed(\"value\", \"max_value_import\")\n",
    "# # print(tmp_import.count())\n",
    "# tmp_import.show()"
   ]
  },
  {
   "cell_type": "code",
   "execution_count": 86,
   "id": "6d136a34",
   "metadata": {},
   "outputs": [
    {
     "name": "stdout",
     "output_type": "stream",
     "text": [
      "+--------------------+------------------+-------------------+-----------------------------+----------------+\n",
      "|           Commodity|  sum_value_import|nums_country_import|country_with_max_value_import|max_value_import|\n",
      "+--------------------+------------------+-------------------+-----------------------------+----------------+\n",
      "|       LIVE ANIMALS.|149.68999999999994|                 90|                        U S A|            4.07|\n",
      "|                SILK|2367.4499999999985|                 68|                   CHINA P RP|          358.36|\n",
      "| MAN-MADE FILAMENTS.| 7126.429999999997|                114|                   CHINA P RP|          447.87|\n",
      "|PROJECT GOODS; SO...| 39179.01999999996|                160|                   CHINA P RP|         5062.51|\n",
      "|SHIPS, BOATS AND ...| 47597.75000000002|                 90|                   CHINA P RP|         1454.44|\n",
      "|ARMS AND AMMUNITI...|326.37000000000023|                 52|                 SOUTH AFRICA|           41.67|\n",
      "|PREPARATIONS OF M...|51.449999999999996|                 39|                SRI LANKA DSR|            2.19|\n",
      "|OTHER MADE UP TEX...|3937.5699999999915|                145|                   CHINA P RP|           225.5|\n",
      "|MISCELLANEOUS EDI...|           1303.26|                121|                        U S A|          106.81|\n",
      "|ARTICLES OF LEATH...| 2865.159999999998|                131|                   CHINA P RP|          377.04|\n",
      "|ARTICLES OF IRON ...| 36412.63000000003|                199|                   CHINA P RP|         1735.33|\n",
      "|COPPER AND ARTICL...| 30108.51000000003|                178|                       ZAMBIA|          888.31|\n",
      "|ARTICLES OF APPAR...|2089.7899999999986|                134|                   CHINA P RP|          197.89|\n",
      "|OTHER VEGETABLE T...| 2737.029999999998|                 75|                BANGLADESH PR|          195.79|\n",
      "|MISCELLANEOUS CHE...|38863.820000000036|                164|                   CHINA P RP|         1348.97|\n",
      "|CARPETS AND OTHER...| 833.1100000000004|                 90|                   CHINA P RP|           37.89|\n",
      "|PREPARED FEATHERS...|154.85000000000014|                 66|                   CHINA P RP|           22.14|\n",
      "|RAW HIDES AND SKI...|  5369.93999999999|                164|                        ITALY|           90.12|\n",
      "|MISCELLANEOUS ART...| 6449.509999999991|                153|                   CHINA P RP|           420.6|\n",
      "|ALUMINIUM AND ART...|32144.880000000034|                193|                   CHINA P RP|         1174.62|\n",
      "+--------------------+------------------+-------------------+-----------------------------+----------------+\n",
      "only showing top 20 rows\n",
      "\n"
     ]
    }
   ],
   "source": [
    "new_df_import = new_df_import.join(tmp_import, 'Commodity', 'inner')\n",
    "new_df_import.show()"
   ]
  },
  {
   "cell_type": "markdown",
   "id": "a461086d",
   "metadata": {},
   "source": [
    "3. Longest Consecutive Year"
   ]
  },
  {
   "cell_type": "code",
   "execution_count": 87,
   "id": "c3beb166",
   "metadata": {},
   "outputs": [
    {
     "name": "stdout",
     "output_type": "stream",
     "text": [
      "+--------------------+--------------------+\n",
      "|           Commodity|           year_list|\n",
      "+--------------------+--------------------+\n",
      "|       LIVE ANIMALS.|[2014, 2017, 2016...|\n",
      "|                SILK|[2018, 2014, 2017...|\n",
      "| MAN-MADE FILAMENTS.|[2014, 2015, 2016...|\n",
      "|SHIPS, BOATS AND ...|[2014, 2018, 2013...|\n",
      "|PROJECT GOODS; SO...|[2017, 2013, 2016...|\n",
      "|ARMS AND AMMUNITI...|[2018, 2017, 2016...|\n",
      "|PREPARATIONS OF M...|[2015, 2018, 2014...|\n",
      "|OTHER MADE UP TEX...|[2014, 2018, 2017...|\n",
      "|MISCELLANEOUS EDI...|[2013, 2016, 2018...|\n",
      "|ARTICLES OF IRON ...|[2017, 2013, 2015...|\n",
      "|ARTICLES OF LEATH...|[2014, 2017, 2016...|\n",
      "|COPPER AND ARTICL...|[2017, 2015, 2016...|\n",
      "|ARTICLES OF APPAR...|[2017, 2015, 2013...|\n",
      "|OTHER VEGETABLE T...|[2014, 2018, 2017...|\n",
      "|CARPETS AND OTHER...|[2013, 2014, 2016...|\n",
      "|PREPARED FEATHERS...|[2016, 2014, 2015...|\n",
      "|MISCELLANEOUS CHE...|[2017, 2013, 2014...|\n",
      "|RAW HIDES AND SKI...|[2014, 2013, 2016...|\n",
      "|MISCELLANEOUS ART...|[2015, 2014, 2013...|\n",
      "|ALUMINIUM AND ART...|[2018, 2016, 2013...|\n",
      "+--------------------+--------------------+\n",
      "only showing top 20 rows\n",
      "\n"
     ]
    }
   ],
   "source": [
    "year_import = df_import.select(\"Commodity\", \"year\") \\\n",
    "                    .distinct() \\\n",
    "                    .groupBy(\"Commodity\") \\\n",
    "                    .agg(F.collect_list('year')) \\\n",
    "                    .withColumnRenamed(\"collect_list(year)\", \"year_list\")\n",
    "year_import.show()"
   ]
  },
  {
   "cell_type": "code",
   "execution_count": 88,
   "id": "fec70492",
   "metadata": {},
   "outputs": [
    {
     "name": "stdout",
     "output_type": "stream",
     "text": [
      "+--------------------+-------------------------------+\n",
      "|           Commodity|longest_consecutive_year_import|\n",
      "+--------------------+-------------------------------+\n",
      "|       LIVE ANIMALS.|                              9|\n",
      "|                SILK|                              9|\n",
      "| MAN-MADE FILAMENTS.|                              9|\n",
      "|SHIPS, BOATS AND ...|                              9|\n",
      "|PROJECT GOODS; SO...|                              9|\n",
      "|ARMS AND AMMUNITI...|                              9|\n",
      "|PREPARATIONS OF M...|                              9|\n",
      "|OTHER MADE UP TEX...|                              9|\n",
      "|MISCELLANEOUS EDI...|                              9|\n",
      "|ARTICLES OF IRON ...|                              9|\n",
      "|ARTICLES OF LEATH...|                              9|\n",
      "|COPPER AND ARTICL...|                              9|\n",
      "|ARTICLES OF APPAR...|                              9|\n",
      "|OTHER VEGETABLE T...|                              9|\n",
      "|CARPETS AND OTHER...|                              9|\n",
      "|PREPARED FEATHERS...|                              9|\n",
      "|MISCELLANEOUS CHE...|                              9|\n",
      "|RAW HIDES AND SKI...|                              9|\n",
      "|MISCELLANEOUS ART...|                              9|\n",
      "|ALUMINIUM AND ART...|                              9|\n",
      "+--------------------+-------------------------------+\n",
      "only showing top 20 rows\n",
      "\n"
     ]
    }
   ],
   "source": [
    "longest_consecutive_year_import = year_import.withColumn('longest_consecutive_year_import', longest_consecutive_year_udf(F.col(\"year_list\"))) \\\n",
    "                    .drop(\"year_list\")\n",
    "longest_consecutive_year_import.show()"
   ]
  },
  {
   "cell_type": "code",
   "execution_count": 89,
   "id": "c2fa6f95",
   "metadata": {},
   "outputs": [
    {
     "name": "stdout",
     "output_type": "stream",
     "text": [
      "+--------------------+------------------+-------------------+-----------------------------+----------------+-------------------------------+\n",
      "|           Commodity|  sum_value_import|nums_country_import|country_with_max_value_import|max_value_import|longest_consecutive_year_import|\n",
      "+--------------------+------------------+-------------------+-----------------------------+----------------+-------------------------------+\n",
      "|       LIVE ANIMALS.|149.68999999999994|                 90|                        U S A|            4.07|                              9|\n",
      "|                SILK|2367.4499999999985|                 68|                   CHINA P RP|          358.36|                              9|\n",
      "| MAN-MADE FILAMENTS.| 7126.429999999997|                114|                   CHINA P RP|          447.87|                              9|\n",
      "|PROJECT GOODS; SO...| 39179.01999999996|                160|                   CHINA P RP|         5062.51|                              9|\n",
      "|SHIPS, BOATS AND ...| 47597.75000000002|                 90|                   CHINA P RP|         1454.44|                              9|\n",
      "|ARMS AND AMMUNITI...|326.37000000000023|                 52|                 SOUTH AFRICA|           41.67|                              9|\n",
      "|PREPARATIONS OF M...|51.449999999999996|                 39|                SRI LANKA DSR|            2.19|                              9|\n",
      "|OTHER MADE UP TEX...|3937.5699999999915|                145|                   CHINA P RP|           225.5|                              9|\n",
      "|MISCELLANEOUS EDI...|           1303.26|                121|                        U S A|          106.81|                              9|\n",
      "|ARTICLES OF LEATH...| 2865.159999999998|                131|                   CHINA P RP|          377.04|                              9|\n",
      "|ARTICLES OF IRON ...| 36412.63000000003|                199|                   CHINA P RP|         1735.33|                              9|\n",
      "|COPPER AND ARTICL...| 30108.51000000003|                178|                       ZAMBIA|          888.31|                              9|\n",
      "|ARTICLES OF APPAR...|2089.7899999999986|                134|                   CHINA P RP|          197.89|                              9|\n",
      "|OTHER VEGETABLE T...| 2737.029999999998|                 75|                BANGLADESH PR|          195.79|                              9|\n",
      "|MISCELLANEOUS CHE...|38863.820000000036|                164|                   CHINA P RP|         1348.97|                              9|\n",
      "|CARPETS AND OTHER...| 833.1100000000004|                 90|                   CHINA P RP|           37.89|                              9|\n",
      "|PREPARED FEATHERS...|154.85000000000014|                 66|                   CHINA P RP|           22.14|                              9|\n",
      "|RAW HIDES AND SKI...|  5369.93999999999|                164|                        ITALY|           90.12|                              9|\n",
      "|MISCELLANEOUS ART...| 6449.509999999991|                153|                   CHINA P RP|           420.6|                              9|\n",
      "|ALUMINIUM AND ART...|32144.880000000034|                193|                   CHINA P RP|         1174.62|                              9|\n",
      "+--------------------+------------------+-------------------+-----------------------------+----------------+-------------------------------+\n",
      "only showing top 20 rows\n",
      "\n"
     ]
    }
   ],
   "source": [
    "new_df_import = new_df_import.join(longest_consecutive_year_import, \"Commodity\", \"inner\") \n",
    "new_df_import.show()"
   ]
  },
  {
   "cell_type": "markdown",
   "id": "c89738a9",
   "metadata": {},
   "source": [
    "### Processing in Export DataFrame"
   ]
  },
  {
   "cell_type": "markdown",
   "id": "7dfd77fd",
   "metadata": {},
   "source": [
    "1. Total export value and number of countries export from"
   ]
  },
  {
   "cell_type": "code",
   "execution_count": 90,
   "id": "aeb598f3",
   "metadata": {},
   "outputs": [
    {
     "name": "stdout",
     "output_type": "stream",
     "text": [
      "+--------------------+------------------+\n",
      "|           Commodity|  sum_value_export|\n",
      "+--------------------+------------------+\n",
      "|       LIVE ANIMALS.|386.19000000000005|\n",
      "|                SILK|1432.0000000000002|\n",
      "| MAN-MADE FILAMENTS.|20649.139999999996|\n",
      "|PROJECT GOODS; SO...| 838.4200000000008|\n",
      "|SHIPS, BOATS AND ...|43183.310000000056|\n",
      "|ARMS AND AMMUNITI...| 728.0800000000011|\n",
      "|PREPARATIONS OF M...|           2204.54|\n",
      "|OTHER MADE UP TEX...|39782.380000000056|\n",
      "|MISCELLANEOUS EDI...| 5178.789999999991|\n",
      "|ARTICLES OF LEATH...|20343.830000000024|\n",
      "|ARTICLES OF IRON ...|61659.530000000064|\n",
      "|COPPER AND ARTICL...|24569.900000000016|\n",
      "|ARTICLES OF APPAR...|62335.470000000016|\n",
      "|OTHER VEGETABLE T...| 3534.729999999995|\n",
      "|MISCELLANEOUS CHE...|28635.830000000005|\n",
      "|CARPETS AND OTHER...|14488.630000000025|\n",
      "|PREPARED FEATHERS...|2408.5899999999997|\n",
      "|RAW HIDES AND SKI...| 9178.040000000014|\n",
      "|MISCELLANEOUS ART...|4594.9999999999945|\n",
      "|ALUMINIUM AND ART...| 25444.20000000004|\n",
      "+--------------------+------------------+\n",
      "only showing top 20 rows\n",
      "\n"
     ]
    }
   ],
   "source": [
    "new_df_export = df_export.groupBy(\"Commodity\") \\\n",
    "            .agg(F.sum(\"value\").alias(\"sum_value_export\"))\n",
    "# print(new_df_export.count())\n",
    "new_df_export.show()"
   ]
  },
  {
   "cell_type": "code",
   "execution_count": 91,
   "id": "5b06a7e2",
   "metadata": {},
   "outputs": [
    {
     "name": "stdout",
     "output_type": "stream",
     "text": [
      "+--------------------+------------------+-------------------+\n",
      "|           Commodity|  sum_value_export|nums_country_export|\n",
      "+--------------------+------------------+-------------------+\n",
      "|       LIVE ANIMALS.|386.19000000000005|                 95|\n",
      "|                SILK|1432.0000000000002|                175|\n",
      "| MAN-MADE FILAMENTS.|20649.139999999996|                210|\n",
      "|PROJECT GOODS; SO...| 838.4200000000008|                196|\n",
      "|SHIPS, BOATS AND ...|43183.310000000056|                120|\n",
      "|ARMS AND AMMUNITI...| 728.0800000000011|                135|\n",
      "|PREPARATIONS OF M...|           2204.54|                135|\n",
      "|OTHER MADE UP TEX...|39782.380000000056|                231|\n",
      "|MISCELLANEOUS EDI...| 5178.789999999991|                205|\n",
      "|ARTICLES OF LEATH...|20343.830000000024|                227|\n",
      "|ARTICLES OF IRON ...|61659.530000000064|                229|\n",
      "|COPPER AND ARTICL...|24569.900000000016|                212|\n",
      "|ARTICLES OF APPAR...|62335.470000000016|                226|\n",
      "|OTHER VEGETABLE T...| 3534.729999999995|                186|\n",
      "|PREPARED FEATHERS...|2408.5899999999997|                170|\n",
      "|MISCELLANEOUS CHE...|28635.830000000005|                216|\n",
      "|CARPETS AND OTHER...|14488.630000000025|                209|\n",
      "|RAW HIDES AND SKI...| 9178.040000000014|                169|\n",
      "|MISCELLANEOUS ART...|4594.9999999999945|                213|\n",
      "|ALUMINIUM AND ART...| 25444.20000000004|                214|\n",
      "+--------------------+------------------+-------------------+\n",
      "only showing top 20 rows\n",
      "\n"
     ]
    }
   ],
   "source": [
    "tmp = df_export.dropDuplicates([\"Commodity\", \"country\"]) \\\n",
    "        .groupBy(\"Commodity\") \\\n",
    "        .agg(F.count(\"country\").alias(\"nums_country_export\"))\n",
    "\n",
    "new_df_export = new_df_export.join(tmp, \"Commodity\", \"inner\")\n",
    "new_df_export.show()"
   ]
  },
  {
   "cell_type": "markdown",
   "id": "afd028bb",
   "metadata": {},
   "source": [
    "2. Max value and Country that this product has the highest value"
   ]
  },
  {
   "cell_type": "code",
   "execution_count": 92,
   "id": "85115f2e",
   "metadata": {},
   "outputs": [
    {
     "name": "stdout",
     "output_type": "stream",
     "text": [
      "+--------------------+-----------------------------+----------------+\n",
      "|           Commodity|country_with_max_value_export|max_value_export|\n",
      "+--------------------+-----------------------------+----------------+\n",
      "|ALUMINIUM AND ART...|                     MALAYSIA|          909.65|\n",
      "|ARMS AND AMMUNITI...|                       FRANCE|           68.16|\n",
      "|ARTICLES OF APPAR...|                  U ARAB EMTS|         2114.92|\n",
      "|ARTICLES OF APPAR...|                        U S A|         2231.06|\n",
      "|ARTICLES OF IRON ...|                        U S A|         1756.05|\n",
      "|ARTICLES OF LEATH...|                        U S A|          570.26|\n",
      "|ARTICLES OF STONE...|                        U S A|          538.83|\n",
      "|CARPETS AND OTHER...|                        U S A|          925.08|\n",
      "|            CEREALS.|                         IRAN|         1968.73|\n",
      "|COPPER AND ARTICL...|                   CHINA P RP|         2019.93|\n",
      "|ESSENTIAL OILS AN...|                        U S A|           320.0|\n",
      "|        FERTILISERS.|                        NEPAL|           67.88|\n",
      "|FOOTWEAR, GAITERS...|                          U K|          497.38|\n",
      "|FURSKINS AND ARTI...|                        U S A|            4.68|\n",
      "|GLASS AND GLASSWARE.|                        U S A|          160.31|\n",
      "|IMPREGNATED, COAT...|                        U S A|           74.06|\n",
      "|      IRON AND STEEL|                        NEPAL|         1140.02|\n",
      "|       LIVE ANIMALS.|                  U ARAB EMTS|           55.18|\n",
      "| MAN-MADE FILAMENTS.|                  U ARAB EMTS|          369.77|\n",
      "|MAN-MADE STAPLE F...|                BANGLADESH PR|          256.84|\n",
      "+--------------------+-----------------------------+----------------+\n",
      "only showing top 20 rows\n",
      "\n"
     ]
    }
   ],
   "source": [
    "from pyspark.sql import Window\n",
    "tmp_export = df_export.withColumn(\"rank_value\", F.rank().over(Window.partitionBy(\"Commodity\").orderBy(F.col(\"value\").desc()))) \n",
    "tmp_export = tmp_export.filter(tmp_export.rank_value == 1).select(\"Commodity\", \"country\", \"value\") \\\n",
    "                .withColumnRenamed(\"value\", \"max_value_export\") \\\n",
    "                .withColumnRenamed(\"country\", \"country_with_max_value_export\")\n",
    "\n",
    "tmp_export.show()"
   ]
  },
  {
   "cell_type": "code",
   "execution_count": 93,
   "id": "6627b5ec",
   "metadata": {},
   "outputs": [],
   "source": [
    "# # Note: Uppercase and lowercase when groupBy._df_export groupBy accept and auto convert flexible upper and lower while select column not accept.\n",
    "# max_value_export = df_export.groupBy(\"Commodity\").max(\"value\").withColumnRenamed(\"max(value)\", \"max_value\")\n",
    "# tmp_export = df_export.join(max_value_export, \"Commodity\", \"left\")\n",
    "# tmp_export = tmp_export.filter(tmp_export.value == tmp_export.max_value).select('Commodity', 'country', 'value') \\\n",
    "#                         .withColumnRenamed(\"country\", \"country_with_max_value_export\") \\\n",
    "#                         .withColumnRenamed(\"value\", \"max_value_export\")\n",
    "# # print(tmp_export.count())\n",
    "# tmp_export.sort(\"Commodity\").show()"
   ]
  },
  {
   "cell_type": "code",
   "execution_count": 94,
   "id": "6d136a34",
   "metadata": {},
   "outputs": [
    {
     "name": "stdout",
     "output_type": "stream",
     "text": [
      "+--------------------+------------------+-------------------+-----------------------------+----------------+\n",
      "|           Commodity|  sum_value_export|nums_country_export|country_with_max_value_export|max_value_export|\n",
      "+--------------------+------------------+-------------------+-----------------------------+----------------+\n",
      "|ALUMINIUM AND ART...| 25444.20000000004|                214|                     MALAYSIA|          909.65|\n",
      "|ARMS AND AMMUNITI...| 728.0800000000011|                135|                       FRANCE|           68.16|\n",
      "|ARTICLES OF APPAR...|62335.470000000016|                226|                  U ARAB EMTS|         2114.92|\n",
      "|ARTICLES OF APPAR...| 75154.45999999999|                231|                        U S A|         2231.06|\n",
      "|ARTICLES OF IRON ...|61659.530000000064|                229|                        U S A|         1756.05|\n",
      "|ARTICLES OF LEATH...|20343.830000000024|                227|                        U S A|          570.26|\n",
      "|ARTICLES OF STONE...|11624.250000000011|                217|                        U S A|          538.83|\n",
      "|CARPETS AND OTHER...|14488.630000000025|                209|                        U S A|          925.08|\n",
      "|            CEREALS.| 68018.15000000002|                203|                         IRAN|         1968.73|\n",
      "|COPPER AND ARTICL...|24569.900000000016|                212|                   CHINA P RP|         2019.93|\n",
      "|ESSENTIAL OILS AN...|13733.770000000017|                219|                        U S A|           320.0|\n",
      "|        FERTILISERS.| 910.4000000000018|                165|                        NEPAL|           67.88|\n",
      "|FOOTWEAR, GAITERS...| 22687.08000000002|                218|                          U K|          497.38|\n",
      "|FURSKINS AND ARTI...| 92.17999999999994|                117|                        U S A|            4.68|\n",
      "|GLASS AND GLASSWARE.| 5946.939999999991|                215|                        U S A|          160.31|\n",
      "|IMPREGNATED, COAT...|2072.0499999999993|                196|                        U S A|           74.06|\n",
      "|      IRON AND STEEL| 76627.84000000001|                207|                        NEPAL|         1140.02|\n",
      "|       LIVE ANIMALS.|386.19000000000005|                 95|                  U ARAB EMTS|           55.18|\n",
      "| MAN-MADE FILAMENTS.|20649.139999999996|                210|                  U ARAB EMTS|          369.77|\n",
      "|MAN-MADE STAPLE F...|18440.300000000007|                194|                BANGLADESH PR|          256.84|\n",
      "+--------------------+------------------+-------------------+-----------------------------+----------------+\n",
      "only showing top 20 rows\n",
      "\n"
     ]
    }
   ],
   "source": [
    "new_df_export = new_df_export.join(tmp_export, 'Commodity', 'inner')\n",
    "new_df_export.show()"
   ]
  },
  {
   "cell_type": "markdown",
   "id": "a461086d",
   "metadata": {},
   "source": [
    "3. Longest Consecutive Year"
   ]
  },
  {
   "cell_type": "code",
   "execution_count": 95,
   "id": "c3beb166",
   "metadata": {},
   "outputs": [
    {
     "name": "stdout",
     "output_type": "stream",
     "text": [
      "+--------------------+--------------------+\n",
      "|           Commodity|           year_list|\n",
      "+--------------------+--------------------+\n",
      "|       LIVE ANIMALS.|[2017, 2016, 2018...|\n",
      "|                SILK|[2018, 2017, 2015...|\n",
      "| MAN-MADE FILAMENTS.|[2015, 2016, 2018...|\n",
      "|PROJECT GOODS; SO...|[2017, 2016, 2018...|\n",
      "|SHIPS, BOATS AND ...|[2018, 2016, 2015...|\n",
      "|ARMS AND AMMUNITI...|[2018, 2017, 2016...|\n",
      "|PREPARATIONS OF M...|[2015, 2018, 2016...|\n",
      "|OTHER MADE UP TEX...|[2018, 2017, 2015...|\n",
      "|MISCELLANEOUS EDI...|[2016, 2018, 2015...|\n",
      "|ARTICLES OF IRON ...|[2017, 2015, 2016...|\n",
      "|ARTICLES OF LEATH...|[2017, 2016, 2018...|\n",
      "|COPPER AND ARTICL...|[2017, 2015, 2016...|\n",
      "|ARTICLES OF APPAR...|[2017, 2015, 2016...|\n",
      "|OTHER VEGETABLE T...|[2018, 2017, 2016...|\n",
      "|PREPARED FEATHERS...|[2016, 2015, 2017...|\n",
      "|CARPETS AND OTHER...|[2016, 2015, 2017...|\n",
      "|MISCELLANEOUS CHE...|[2017, 2016, 2015...|\n",
      "|RAW HIDES AND SKI...|[2016, 2017, 2015...|\n",
      "|MISCELLANEOUS ART...|[2015, 2017, 2018...|\n",
      "|ALUMINIUM AND ART...|[2018, 2016, 2015...|\n",
      "+--------------------+--------------------+\n",
      "only showing top 20 rows\n",
      "\n"
     ]
    }
   ],
   "source": [
    "year_export = df_export.select(\"Commodity\", \"year\") \\\n",
    "                    .distinct() \\\n",
    "                    .groupBy(\"Commodity\") \\\n",
    "                    .agg(F.collect_list('year')) \\\n",
    "                    .withColumnRenamed(\"collect_list(year)\", \"year_list\")\n",
    "year_export.show()"
   ]
  },
  {
   "cell_type": "code",
   "execution_count": 96,
   "id": "fec70492",
   "metadata": {},
   "outputs": [
    {
     "name": "stdout",
     "output_type": "stream",
     "text": [
      "+--------------------+-------------------------------+\n",
      "|           Commodity|longest_consecutive_year_export|\n",
      "+--------------------+-------------------------------+\n",
      "|       LIVE ANIMALS.|                              9|\n",
      "|                SILK|                              9|\n",
      "| MAN-MADE FILAMENTS.|                              9|\n",
      "|PROJECT GOODS; SO...|                              9|\n",
      "|SHIPS, BOATS AND ...|                              9|\n",
      "|ARMS AND AMMUNITI...|                              9|\n",
      "|PREPARATIONS OF M...|                              9|\n",
      "|OTHER MADE UP TEX...|                              9|\n",
      "|MISCELLANEOUS EDI...|                              9|\n",
      "|ARTICLES OF IRON ...|                              9|\n",
      "|ARTICLES OF LEATH...|                              9|\n",
      "|COPPER AND ARTICL...|                              9|\n",
      "|ARTICLES OF APPAR...|                              9|\n",
      "|OTHER VEGETABLE T...|                              9|\n",
      "|PREPARED FEATHERS...|                              9|\n",
      "|CARPETS AND OTHER...|                              9|\n",
      "|MISCELLANEOUS CHE...|                              9|\n",
      "|RAW HIDES AND SKI...|                              9|\n",
      "|MISCELLANEOUS ART...|                              9|\n",
      "|ALUMINIUM AND ART...|                              9|\n",
      "+--------------------+-------------------------------+\n",
      "only showing top 20 rows\n",
      "\n"
     ]
    }
   ],
   "source": [
    "longest_consecutive_year_export = year_export.withColumn('longest_consecutive_year_export', longest_consecutive_year_udf(F.col(\"year_list\"))) \\\n",
    "                    .drop(\"year_list\")\n",
    "longest_consecutive_year_export.show()\n"
   ]
  },
  {
   "cell_type": "code",
   "execution_count": 97,
   "id": "c2fa6f95",
   "metadata": {},
   "outputs": [
    {
     "name": "stderr",
     "output_type": "stream",
     "text": [
      "                                                                                \r"
     ]
    },
    {
     "name": "stdout",
     "output_type": "stream",
     "text": [
      "+--------------------+------------------+-------------------+-----------------------------+----------------+-------------------------------+\n",
      "|           Commodity|  sum_value_export|nums_country_export|country_with_max_value_export|max_value_export|longest_consecutive_year_export|\n",
      "+--------------------+------------------+-------------------+-----------------------------+----------------+-------------------------------+\n",
      "|ALUMINIUM AND ART...| 25444.20000000004|                214|                     MALAYSIA|          909.65|                              9|\n",
      "|ARMS AND AMMUNITI...| 728.0800000000011|                135|                       FRANCE|           68.16|                              9|\n",
      "|ARTICLES OF APPAR...|62335.470000000016|                226|                  U ARAB EMTS|         2114.92|                              9|\n",
      "|ARTICLES OF APPAR...| 75154.45999999999|                231|                        U S A|         2231.06|                              9|\n",
      "|ARTICLES OF IRON ...|61659.530000000064|                229|                        U S A|         1756.05|                              9|\n",
      "|ARTICLES OF LEATH...|20343.830000000024|                227|                        U S A|          570.26|                              9|\n",
      "|ARTICLES OF STONE...|11624.250000000011|                217|                        U S A|          538.83|                              9|\n",
      "|CARPETS AND OTHER...|14488.630000000025|                209|                        U S A|          925.08|                              9|\n",
      "|            CEREALS.| 68018.15000000002|                203|                         IRAN|         1968.73|                              9|\n",
      "|COPPER AND ARTICL...|24569.900000000016|                212|                   CHINA P RP|         2019.93|                              9|\n",
      "|ESSENTIAL OILS AN...|13733.770000000017|                219|                        U S A|           320.0|                              9|\n",
      "|        FERTILISERS.| 910.4000000000018|                165|                        NEPAL|           67.88|                              9|\n",
      "|FOOTWEAR, GAITERS...| 22687.08000000002|                218|                          U K|          497.38|                              9|\n",
      "|FURSKINS AND ARTI...| 92.17999999999994|                117|                        U S A|            4.68|                              9|\n",
      "|GLASS AND GLASSWARE.| 5946.939999999991|                215|                        U S A|          160.31|                              9|\n",
      "|IMPREGNATED, COAT...|2072.0499999999993|                196|                        U S A|           74.06|                              9|\n",
      "|      IRON AND STEEL| 76627.84000000001|                207|                        NEPAL|         1140.02|                              9|\n",
      "|       LIVE ANIMALS.|386.19000000000005|                 95|                  U ARAB EMTS|           55.18|                              9|\n",
      "| MAN-MADE FILAMENTS.|20649.139999999996|                210|                  U ARAB EMTS|          369.77|                              9|\n",
      "|MAN-MADE STAPLE F...|18440.300000000007|                194|                BANGLADESH PR|          256.84|                              9|\n",
      "+--------------------+------------------+-------------------+-----------------------------+----------------+-------------------------------+\n",
      "only showing top 20 rows\n",
      "\n"
     ]
    }
   ],
   "source": [
    "new_df_export = new_df_export.join(longest_consecutive_year_export, \"Commodity\", \"inner\") \n",
    "new_df_export.show()"
   ]
  },
  {
   "cell_type": "markdown",
   "id": "0b619fc1",
   "metadata": {},
   "source": [
    "### Combine 2 DataFrame: Import and Export"
   ]
  },
  {
   "cell_type": "markdown",
   "id": "9ea2d6b9",
   "metadata": {},
   "source": [
    "1. Make sure the list of commodity of import and export is the same"
   ]
  },
  {
   "cell_type": "code",
   "execution_count": 98,
   "id": "d0871766",
   "metadata": {},
   "outputs": [
    {
     "name": "stderr",
     "output_type": "stream",
     "text": [
      "                                                                                \r"
     ]
    },
    {
     "name": "stdout",
     "output_type": "stream",
     "text": [
      "0\n"
     ]
    },
    {
     "name": "stderr",
     "output_type": "stream",
     "text": [
      "                                                                                \r"
     ]
    },
    {
     "name": "stdout",
     "output_type": "stream",
     "text": [
      "0\n",
      "+--------------------+\n",
      "|           commodity|\n",
      "+--------------------+\n",
      "|       LIVE ANIMALS.|\n",
      "|                SILK|\n",
      "| MAN-MADE FILAMENTS.|\n",
      "|PROJECT GOODS; SO...|\n",
      "|SHIPS, BOATS AND ...|\n",
      "|ARMS AND AMMUNITI...|\n",
      "|PREPARATIONS OF M...|\n",
      "|OTHER MADE UP TEX...|\n",
      "|MISCELLANEOUS EDI...|\n",
      "|ARTICLES OF IRON ...|\n",
      "|ARTICLES OF LEATH...|\n",
      "|COPPER AND ARTICL...|\n",
      "|ARTICLES OF APPAR...|\n",
      "|OTHER VEGETABLE T...|\n",
      "|CARPETS AND OTHER...|\n",
      "|MISCELLANEOUS CHE...|\n",
      "|PREPARED FEATHERS...|\n",
      "|RAW HIDES AND SKI...|\n",
      "|MISCELLANEOUS ART...|\n",
      "|ALUMINIUM AND ART...|\n",
      "+--------------------+\n",
      "only showing top 20 rows\n",
      "\n"
     ]
    }
   ],
   "source": [
    "commodity_import = new_df_import.select(\"commodity\")\n",
    "commodity_export = new_df_export.select(\"commodity\")\n",
    "print(commodity_import.subtract(commodity_export).count())\n",
    "print(commodity_export.subtract(commodity_import).count())\n",
    "commodity_import.show()"
   ]
  },
  {
   "cell_type": "markdown",
   "id": "1cf9afd5",
   "metadata": {},
   "source": [
    "Because subtract = 0 means the list of import is covered the list of export and vice versa. So 2 list is equivalent. We can do this by convert to set (hashmap) or sort it as the same order and compare one the whole dataframe."
   ]
  },
  {
   "cell_type": "markdown",
   "id": "ea552854",
   "metadata": {},
   "source": [
    "2. Combine 2 DataFrame results"
   ]
  },
  {
   "cell_type": "code",
   "execution_count": 99,
   "id": "68ea240d",
   "metadata": {},
   "outputs": [
    {
     "name": "stderr",
     "output_type": "stream",
     "text": [
      "                                                                                \r"
     ]
    },
    {
     "name": "stdout",
     "output_type": "stream",
     "text": [
      "+--------------------+------------------+-------------------+-----------------------------+----------------+-------------------------------+------------------+-------------------+-----------------------------+----------------+-------------------------------+\n",
      "|           Commodity|  sum_value_import|nums_country_import|country_with_max_value_import|max_value_import|longest_consecutive_year_import|  sum_value_export|nums_country_export|country_with_max_value_export|max_value_export|longest_consecutive_year_export|\n",
      "+--------------------+------------------+-------------------+-----------------------------+----------------+-------------------------------+------------------+-------------------+-----------------------------+----------------+-------------------------------+\n",
      "|ALUMINIUM AND ART...|32144.880000000034|                193|                   CHINA P RP|         1174.62|                              9| 25444.20000000004|                214|                     MALAYSIA|          909.65|                              9|\n",
      "|ARMS AND AMMUNITI...|326.37000000000023|                 52|                 SOUTH AFRICA|           41.67|                              9| 728.0800000000011|                135|                       FRANCE|           68.16|                              9|\n",
      "|ARTICLES OF APPAR...|2089.7899999999986|                134|                   CHINA P RP|          197.89|                              9|62335.470000000016|                226|                  U ARAB EMTS|         2114.92|                              9|\n",
      "|ARTICLES OF APPAR...|2861.9599999999946|                128|                BANGLADESH PR|          285.13|                              9| 75154.45999999999|                231|                        U S A|         2231.06|                              9|\n",
      "|ARTICLES OF IRON ...| 36412.63000000003|                199|                   CHINA P RP|         1735.33|                              9|61659.530000000064|                229|                        U S A|         1756.05|                              9|\n",
      "|ARTICLES OF LEATH...| 2865.159999999998|                131|                   CHINA P RP|          377.04|                              9|20343.830000000024|                227|                        U S A|          570.26|                              9|\n",
      "|ARTICLES OF STONE...| 5749.239999999992|                137|                   CHINA P RP|          539.19|                              9|11624.250000000011|                217|                        U S A|          538.83|                              9|\n",
      "|CARPETS AND OTHER...| 833.1100000000004|                 90|                   CHINA P RP|           37.89|                              9|14488.630000000025|                209|                        U S A|          925.08|                              9|\n",
      "|            CEREALS.|2206.8599999999997|                 63|                      UKRAINE|          619.23|                              9| 68018.15000000002|                203|                         IRAN|         1968.73|                              9|\n",
      "|COPPER AND ARTICL...| 30108.51000000003|                178|                       ZAMBIA|          888.31|                              9|24569.900000000016|                212|                   CHINA P RP|         2019.93|                              9|\n",
      "|ESSENTIAL OILS AN...|  6101.31999999999|                140|                  U ARAB EMTS|          290.08|                              9|13733.770000000017|                219|                        U S A|           320.0|                              9|\n",
      "|        FERTILISERS.| 57269.09000000002|                 85|                   CHINA P RP|         3268.09|                              9| 910.4000000000018|                165|                        NEPAL|           67.88|                              9|\n",
      "|FOOTWEAR, GAITERS...| 4348.869999999992|                130|                   CHINA P RP|          463.64|                              9| 22687.08000000002|                218|                          U K|          497.38|                              9|\n",
      "|FURSKINS AND ARTI...| 64.35000000000001|                 56|                   CHINA P RP|             2.9|                              9| 92.17999999999994|                117|                        U S A|            4.68|                              9|\n",
      "|GLASS AND GLASSWARE.|  8233.07999999999|                145|                   CHINA P RP|          618.22|                              9| 5946.939999999991|                215|                        U S A|          160.31|                              9|\n",
      "|IMPREGNATED, COAT...| 6836.299999999993|                116|                   CHINA P RP|          576.66|                              9|2072.0499999999993|                196|                        U S A|           74.06|                              9|\n",
      "|      IRON AND STEEL|102271.82000000002|                206|                   CHINA P RP|         2713.34|                              9| 76627.84000000001|                207|                        NEPAL|         1140.02|                              9|\n",
      "|       LIVE ANIMALS.|149.68999999999994|                 90|                        U S A|            4.07|                              9|386.19000000000005|                 95|                  U ARAB EMTS|           55.18|                              9|\n",
      "| MAN-MADE FILAMENTS.| 7126.429999999997|                114|                   CHINA P RP|          447.87|                              9|20649.139999999996|                210|                  U ARAB EMTS|          369.77|                              9|\n",
      "|MAN-MADE STAPLE F...| 5801.739999999996|                107|                   CHINA P RP|           326.8|                              9|18440.300000000007|                194|                BANGLADESH PR|          256.84|                              9|\n",
      "+--------------------+------------------+-------------------+-----------------------------+----------------+-------------------------------+------------------+-------------------+-----------------------------+----------------+-------------------------------+\n",
      "only showing top 20 rows\n",
      "\n"
     ]
    }
   ],
   "source": [
    "combined_df = new_df_import.join(new_df_export, \"Commodity\", \"inner\")\n",
    "combined_df.show(truncate=True)"
   ]
  },
  {
   "cell_type": "markdown",
   "id": "f2c7c305",
   "metadata": {},
   "source": [
    "3. Calculate Balance: export - import"
   ]
  },
  {
   "cell_type": "code",
   "execution_count": 100,
   "id": "6c2ae2f2",
   "metadata": {},
   "outputs": [
    {
     "name": "stderr",
     "output_type": "stream",
     "text": [
      "                                                                                \r"
     ]
    },
    {
     "name": "stdout",
     "output_type": "stream",
     "text": [
      "+--------------------+------------------+-------------------+-----------------------------+----------------+-------------------------------+------------------+-------------------+-----------------------------+----------------+-------------------------------+-------------------+\n",
      "|           Commodity|  sum_value_import|nums_country_import|country_with_max_value_import|max_value_import|longest_consecutive_year_import|  sum_value_export|nums_country_export|country_with_max_value_export|max_value_export|longest_consecutive_year_export|            balance|\n",
      "+--------------------+------------------+-------------------+-----------------------------+----------------+-------------------------------+------------------+-------------------+-----------------------------+----------------+-------------------------------+-------------------+\n",
      "|ALUMINIUM AND ART...|32144.880000000034|                193|                   CHINA P RP|         1174.62|                              9| 25444.20000000004|                214|                     MALAYSIA|          909.65|                              9| -6700.679999999993|\n",
      "|ARMS AND AMMUNITI...|326.37000000000023|                 52|                 SOUTH AFRICA|           41.67|                              9| 728.0800000000011|                135|                       FRANCE|           68.16|                              9| 401.71000000000083|\n",
      "|ARTICLES OF APPAR...|2089.7899999999986|                134|                   CHINA P RP|          197.89|                              9|62335.470000000016|                226|                  U ARAB EMTS|         2114.92|                              9| 60245.680000000015|\n",
      "|ARTICLES OF APPAR...|2861.9599999999946|                128|                BANGLADESH PR|          285.13|                              9| 75154.45999999999|                231|                        U S A|         2231.06|                              9|            72292.5|\n",
      "|ARTICLES OF IRON ...| 36412.63000000003|                199|                   CHINA P RP|         1735.33|                              9|61659.530000000064|                229|                        U S A|         1756.05|                              9| 25246.900000000038|\n",
      "|ARTICLES OF LEATH...| 2865.159999999998|                131|                   CHINA P RP|          377.04|                              9|20343.830000000024|                227|                        U S A|          570.26|                              9| 17478.670000000027|\n",
      "|ARTICLES OF STONE...| 5749.239999999992|                137|                   CHINA P RP|          539.19|                              9|11624.250000000011|                217|                        U S A|          538.83|                              9|  5875.010000000019|\n",
      "|CARPETS AND OTHER...| 833.1100000000004|                 90|                   CHINA P RP|           37.89|                              9|14488.630000000025|                209|                        U S A|          925.08|                              9| 13655.520000000024|\n",
      "|            CEREALS.|2206.8599999999997|                 63|                      UKRAINE|          619.23|                              9| 68018.15000000002|                203|                         IRAN|         1968.73|                              9|  65811.29000000002|\n",
      "|COPPER AND ARTICL...| 30108.51000000003|                178|                       ZAMBIA|          888.31|                              9|24569.900000000016|                212|                   CHINA P RP|         2019.93|                              9| -5538.610000000015|\n",
      "|ESSENTIAL OILS AN...|  6101.31999999999|                140|                  U ARAB EMTS|          290.08|                              9|13733.770000000017|                219|                        U S A|           320.0|                              9|  7632.450000000027|\n",
      "|        FERTILISERS.| 57269.09000000002|                 85|                   CHINA P RP|         3268.09|                              9| 910.4000000000018|                165|                        NEPAL|           67.88|                              9| -56358.69000000002|\n",
      "|FOOTWEAR, GAITERS...| 4348.869999999992|                130|                   CHINA P RP|          463.64|                              9| 22687.08000000002|                218|                          U K|          497.38|                              9|  18338.21000000003|\n",
      "|FURSKINS AND ARTI...| 64.35000000000001|                 56|                   CHINA P RP|             2.9|                              9| 92.17999999999994|                117|                        U S A|            4.68|                              9| 27.829999999999927|\n",
      "|GLASS AND GLASSWARE.|  8233.07999999999|                145|                   CHINA P RP|          618.22|                              9| 5946.939999999991|                215|                        U S A|          160.31|                              9|-2286.1399999999994|\n",
      "|IMPREGNATED, COAT...| 6836.299999999993|                116|                   CHINA P RP|          576.66|                              9|2072.0499999999993|                196|                        U S A|           74.06|                              9| -4764.249999999994|\n",
      "|      IRON AND STEEL|102271.82000000002|                206|                   CHINA P RP|         2713.34|                              9| 76627.84000000001|                207|                        NEPAL|         1140.02|                              9| -25643.98000000001|\n",
      "|       LIVE ANIMALS.|149.68999999999994|                 90|                        U S A|            4.07|                              9|386.19000000000005|                 95|                  U ARAB EMTS|           55.18|                              9|  236.5000000000001|\n",
      "| MAN-MADE FILAMENTS.| 7126.429999999997|                114|                   CHINA P RP|          447.87|                              9|20649.139999999996|                210|                  U ARAB EMTS|          369.77|                              9|           13522.71|\n",
      "|MAN-MADE STAPLE F...| 5801.739999999996|                107|                   CHINA P RP|           326.8|                              9|18440.300000000007|                194|                BANGLADESH PR|          256.84|                              9|  12638.56000000001|\n",
      "+--------------------+------------------+-------------------+-----------------------------+----------------+-------------------------------+------------------+-------------------+-----------------------------+----------------+-------------------------------+-------------------+\n",
      "only showing top 20 rows\n",
      "\n"
     ]
    }
   ],
   "source": [
    "balance_df = combined_df.withColumn(\"balance\", combined_df.sum_value_export - combined_df.sum_value_import)\n",
    "balance_df.show(truncate=True)"
   ]
  },
  {
   "cell_type": "markdown",
   "id": "42c6d599",
   "metadata": {},
   "source": [
    "4. Write to CSV file"
   ]
  },
  {
   "cell_type": "code",
   "execution_count": 101,
   "id": "18bd7d41",
   "metadata": {},
   "outputs": [
    {
     "name": "stderr",
     "output_type": "stream",
     "text": [
      "                                                                                \r"
     ]
    },
    {
     "name": "stdout",
     "output_type": "stream",
     "text": [
      "49\n"
     ]
    },
    {
     "name": "stderr",
     "output_type": "stream",
     "text": [
      "                                                                                \r"
     ]
    },
    {
     "name": "stdout",
     "output_type": "stream",
     "text": [
      "+--------------------+------------------+-------------------+-----------------------------+----------------+-------------------------------+------------------+-------------------+-----------------------------+----------------+-------------------------------+------------------+\n",
      "|           Commodity|  sum_value_import|nums_country_import|country_with_max_value_import|max_value_import|longest_consecutive_year_import|  sum_value_export|nums_country_export|country_with_max_value_export|max_value_export|longest_consecutive_year_export|           balance|\n",
      "+--------------------+------------------+-------------------+-----------------------------+----------------+-------------------------------+------------------+-------------------+-----------------------------+----------------+-------------------------------+------------------+\n",
      "|ARMS AND AMMUNITI...|326.37000000000023|                 52|                 SOUTH AFRICA|           41.67|                              9| 728.0800000000011|                135|                       FRANCE|           68.16|                              9|401.71000000000083|\n",
      "|ARTICLES OF APPAR...|2089.7899999999986|                134|                   CHINA P RP|          197.89|                              9|62335.470000000016|                226|                  U ARAB EMTS|         2114.92|                              9|60245.680000000015|\n",
      "|ARTICLES OF APPAR...|2861.9599999999946|                128|                BANGLADESH PR|          285.13|                              9| 75154.45999999999|                231|                        U S A|         2231.06|                              9|           72292.5|\n",
      "|ARTICLES OF IRON ...| 36412.63000000003|                199|                   CHINA P RP|         1735.33|                              9|61659.530000000064|                229|                        U S A|         1756.05|                              9|25246.900000000038|\n",
      "|ARTICLES OF LEATH...| 2865.159999999998|                131|                   CHINA P RP|          377.04|                              9|20343.830000000024|                227|                        U S A|          570.26|                              9|17478.670000000027|\n",
      "|ARTICLES OF STONE...| 5749.239999999992|                137|                   CHINA P RP|          539.19|                              9|11624.250000000011|                217|                        U S A|          538.83|                              9| 5875.010000000019|\n",
      "|CARPETS AND OTHER...| 833.1100000000004|                 90|                   CHINA P RP|           37.89|                              9|14488.630000000025|                209|                        U S A|          925.08|                              9|13655.520000000024|\n",
      "|            CEREALS.|2206.8599999999997|                 63|                      UKRAINE|          619.23|                              9| 68018.15000000002|                203|                         IRAN|         1968.73|                              9| 65811.29000000002|\n",
      "|ESSENTIAL OILS AN...|  6101.31999999999|                140|                  U ARAB EMTS|          290.08|                              9|13733.770000000017|                219|                        U S A|           320.0|                              9| 7632.450000000027|\n",
      "|FOOTWEAR, GAITERS...| 4348.869999999992|                130|                   CHINA P RP|          463.64|                              9| 22687.08000000002|                218|                          U K|          497.38|                              9| 18338.21000000003|\n",
      "|FURSKINS AND ARTI...| 64.35000000000001|                 56|                   CHINA P RP|             2.9|                              9| 92.17999999999994|                117|                        U S A|            4.68|                              9|27.829999999999927|\n",
      "|       LIVE ANIMALS.|149.68999999999994|                 90|                        U S A|            4.07|                              9|386.19000000000005|                 95|                  U ARAB EMTS|           55.18|                              9| 236.5000000000001|\n",
      "| MAN-MADE FILAMENTS.| 7126.429999999997|                114|                   CHINA P RP|          447.87|                              9|20649.139999999996|                210|                  U ARAB EMTS|          369.77|                              9|          13522.71|\n",
      "|MAN-MADE STAPLE F...| 5801.739999999996|                107|                   CHINA P RP|           326.8|                              9|18440.300000000007|                194|                BANGLADESH PR|          256.84|                              9| 12638.56000000001|\n",
      "|MISCELLANEOUS EDI...|           1303.26|                121|                        U S A|          106.81|                              9| 5178.789999999991|                205|                        U S A|          159.29|                              9|3875.5299999999907|\n",
      "|OIL SEEDS AND OLE...| 2962.869999999999|                130|                        SUDAN|          123.13|                              9|15717.470000000008|                202|              VIETNAM SOC REP|          437.95|                              9| 12754.60000000001|\n",
      "|OTHER MADE UP TEX...|3937.5699999999915|                145|                   CHINA P RP|           225.5|                              9|39782.380000000056|                231|                        U S A|         2472.97|                              9| 35844.81000000006|\n",
      "|OTHER VEGETABLE T...| 2737.029999999998|                 75|                BANGLADESH PR|          195.79|                              9| 3534.729999999995|                186|                   CHINA P RP|          117.17|                              9| 797.6999999999971|\n",
      "|PREPARATIONS OF M...|51.449999999999996|                 39|                SRI LANKA DSR|            2.19|                              9|           2204.54|                135|                        U S A|          326.71|                              9|           2153.09|\n",
      "|PREPARED FEATHERS...|154.85000000000014|                 66|                   CHINA P RP|           22.14|                              9|2408.5899999999997|                170|                   CHINA P RP|          191.84|                              9|           2253.74|\n",
      "+--------------------+------------------+-------------------+-----------------------------+----------------+-------------------------------+------------------+-------------------+-----------------------------+----------------+-------------------------------+------------------+\n",
      "only showing top 20 rows\n",
      "\n"
     ]
    }
   ],
   "source": [
    "# Positive >= 0, Negative < 0\n",
    "positive_balance_df = balance_df.filter(balance_df.balance >= 0)\n",
    "print(positive_balance_df.count())\n",
    "positive_balance_df.show(truncate=True)"
   ]
  },
  {
   "cell_type": "code",
   "execution_count": 102,
   "id": "1f169d37",
   "metadata": {},
   "outputs": [
    {
     "name": "stdout",
     "output_type": "stream",
     "text": [
      "49\n"
     ]
    },
    {
     "name": "stderr",
     "output_type": "stream",
     "text": [
      "                                                                                \r"
     ]
    },
    {
     "name": "stdout",
     "output_type": "stream",
     "text": [
      "-RECORD 0------------------------------------------------------------------------------------------------------------------------------------------------------------------------\n",
      " Commodity                       | ALUMINIUM AND ARTICLES THEREOF.                                                                                                               \n",
      " sum_value_import                | 32144.880000000034                                                                                                                            \n",
      " nums_country_import             | 193                                                                                                                                           \n",
      " country_with_max_value_import   | CHINA P RP                                                                                                                                    \n",
      " max_value_import                | 1174.62                                                                                                                                       \n",
      " longest_consecutive_year_import | 9                                                                                                                                             \n",
      " sum_value_export                | 25444.20000000004                                                                                                                             \n",
      " nums_country_export             | 214                                                                                                                                           \n",
      " country_with_max_value_export   | MALAYSIA                                                                                                                                      \n",
      " max_value_export                | 909.65                                                                                                                                        \n",
      " longest_consecutive_year_export | 9                                                                                                                                             \n",
      " balance                         | -6700.679999999993                                                                                                                            \n",
      "-RECORD 1------------------------------------------------------------------------------------------------------------------------------------------------------------------------\n",
      " Commodity                       | COPPER AND ARTICLES THEREOF.                                                                                                                  \n",
      " sum_value_import                | 30108.51000000003                                                                                                                             \n",
      " nums_country_import             | 178                                                                                                                                           \n",
      " country_with_max_value_import   | ZAMBIA                                                                                                                                        \n",
      " max_value_import                | 888.31                                                                                                                                        \n",
      " longest_consecutive_year_import | 9                                                                                                                                             \n",
      " sum_value_export                | 24569.900000000016                                                                                                                            \n",
      " nums_country_export             | 212                                                                                                                                           \n",
      " country_with_max_value_export   | CHINA P RP                                                                                                                                    \n",
      " max_value_export                | 2019.93                                                                                                                                       \n",
      " longest_consecutive_year_export | 9                                                                                                                                             \n",
      " balance                         | -5538.610000000015                                                                                                                            \n",
      "-RECORD 2------------------------------------------------------------------------------------------------------------------------------------------------------------------------\n",
      " Commodity                       | FERTILISERS.                                                                                                                                  \n",
      " sum_value_import                | 57269.09000000002                                                                                                                             \n",
      " nums_country_import             | 85                                                                                                                                            \n",
      " country_with_max_value_import   | CHINA P RP                                                                                                                                    \n",
      " max_value_import                | 3268.09                                                                                                                                       \n",
      " longest_consecutive_year_import | 9                                                                                                                                             \n",
      " sum_value_export                | 910.4000000000018                                                                                                                             \n",
      " nums_country_export             | 165                                                                                                                                           \n",
      " country_with_max_value_export   | NEPAL                                                                                                                                         \n",
      " max_value_export                | 67.88                                                                                                                                         \n",
      " longest_consecutive_year_export | 9                                                                                                                                             \n",
      " balance                         | -56358.69000000002                                                                                                                            \n",
      "-RECORD 3------------------------------------------------------------------------------------------------------------------------------------------------------------------------\n",
      " Commodity                       | GLASS AND GLASSWARE.                                                                                                                          \n",
      " sum_value_import                | 8233.07999999999                                                                                                                              \n",
      " nums_country_import             | 145                                                                                                                                           \n",
      " country_with_max_value_import   | CHINA P RP                                                                                                                                    \n",
      " max_value_import                | 618.22                                                                                                                                        \n",
      " longest_consecutive_year_import | 9                                                                                                                                             \n",
      " sum_value_export                | 5946.939999999991                                                                                                                             \n",
      " nums_country_export             | 215                                                                                                                                           \n",
      " country_with_max_value_export   | U S A                                                                                                                                         \n",
      " max_value_export                | 160.31                                                                                                                                        \n",
      " longest_consecutive_year_export | 9                                                                                                                                             \n",
      " balance                         | -2286.1399999999994                                                                                                                           \n",
      "-RECORD 4------------------------------------------------------------------------------------------------------------------------------------------------------------------------\n",
      " Commodity                       | IMPREGNATED, COATED, COVERED OR LAMINATED TEXTILE FABRICS; TEXTILE ARTICLES OF A KIND SUITABLE FOR INDUSTRIAL USE.                            \n",
      " sum_value_import                | 6836.299999999993                                                                                                                             \n",
      " nums_country_import             | 116                                                                                                                                           \n",
      " country_with_max_value_import   | CHINA P RP                                                                                                                                    \n",
      " max_value_import                | 576.66                                                                                                                                        \n",
      " longest_consecutive_year_import | 9                                                                                                                                             \n",
      " sum_value_export                | 2072.0499999999993                                                                                                                            \n",
      " nums_country_export             | 196                                                                                                                                           \n",
      " country_with_max_value_export   | U S A                                                                                                                                         \n",
      " max_value_export                | 74.06                                                                                                                                         \n",
      " longest_consecutive_year_export | 9                                                                                                                                             \n",
      " balance                         | -4764.249999999994                                                                                                                            \n",
      "-RECORD 5------------------------------------------------------------------------------------------------------------------------------------------------------------------------\n",
      " Commodity                       | IRON AND STEEL                                                                                                                                \n",
      " sum_value_import                | 102271.82000000002                                                                                                                            \n",
      " nums_country_import             | 206                                                                                                                                           \n",
      " country_with_max_value_import   | CHINA P RP                                                                                                                                    \n",
      " max_value_import                | 2713.34                                                                                                                                       \n",
      " longest_consecutive_year_import | 9                                                                                                                                             \n",
      " sum_value_export                | 76627.84000000001                                                                                                                             \n",
      " nums_country_export             | 207                                                                                                                                           \n",
      " country_with_max_value_export   | NEPAL                                                                                                                                         \n",
      " max_value_export                | 1140.02                                                                                                                                       \n",
      " longest_consecutive_year_export | 9                                                                                                                                             \n",
      " balance                         | -25643.98000000001                                                                                                                            \n",
      "-RECORD 6------------------------------------------------------------------------------------------------------------------------------------------------------------------------\n",
      " Commodity                       | MISCELLANEOUS ARTICLES OF BASE METAL.                                                                                                         \n",
      " sum_value_import                | 6449.509999999991                                                                                                                             \n",
      " nums_country_import             | 153                                                                                                                                           \n",
      " country_with_max_value_import   | CHINA P RP                                                                                                                                    \n",
      " max_value_import                | 420.6                                                                                                                                         \n",
      " longest_consecutive_year_import | 9                                                                                                                                             \n",
      " sum_value_export                | 4594.9999999999945                                                                                                                            \n",
      " nums_country_export             | 213                                                                                                                                           \n",
      " country_with_max_value_export   | U S A                                                                                                                                         \n",
      " max_value_export                | 109.49                                                                                                                                        \n",
      " longest_consecutive_year_export | 9                                                                                                                                             \n",
      " balance                         | -1854.5099999999966                                                                                                                           \n",
      "-RECORD 7------------------------------------------------------------------------------------------------------------------------------------------------------------------------\n",
      " Commodity                       | MISCELLANEOUS CHEMICAL PRODUCTS.                                                                                                              \n",
      " sum_value_import                | 38863.820000000036                                                                                                                            \n",
      " nums_country_import             | 164                                                                                                                                           \n",
      " country_with_max_value_import   | CHINA P RP                                                                                                                                    \n",
      " max_value_import                | 1348.97                                                                                                                                       \n",
      " longest_consecutive_year_import | 9                                                                                                                                             \n",
      " sum_value_export                | 28635.830000000005                                                                                                                            \n",
      " nums_country_export             | 216                                                                                                                                           \n",
      " country_with_max_value_export   | U S A                                                                                                                                         \n",
      " max_value_export                | 807.72                                                                                                                                        \n",
      " longest_consecutive_year_export | 9                                                                                                                                             \n",
      " balance                         | -10227.99000000003                                                                                                                            \n",
      "-RECORD 8------------------------------------------------------------------------------------------------------------------------------------------------------------------------\n",
      " Commodity                       | NUCLEAR REACTORS, BOILERS, MACHINERY AND MECHANICAL APPLIANCES; PARTS THEREOF.                                                                \n",
      " sum_value_import                | 310887.53999999946                                                                                                                            \n",
      " nums_country_import             | 222                                                                                                                                           \n",
      " country_with_max_value_import   | CHINA P RP                                                                                                                                    \n",
      " max_value_import                | 13539.97                                                                                                                                      \n",
      " longest_consecutive_year_import | 9                                                                                                                                             \n",
      " sum_value_export                | 123833.37                                                                                                                                     \n",
      " nums_country_export             | 235                                                                                                                                           \n",
      " country_with_max_value_export   | U S A                                                                                                                                         \n",
      " max_value_export                | 4026.34                                                                                                                                       \n",
      " longest_consecutive_year_export | 9                                                                                                                                             \n",
      " balance                         | -187054.16999999946                                                                                                                           \n",
      "-RECORD 9------------------------------------------------------------------------------------------------------------------------------------------------------------------------\n",
      " Commodity                       | ORGANIC CHEMICALS                                                                                                                             \n",
      " sum_value_import                | 150312.66999999993                                                                                                                            \n",
      " nums_country_import             | 167                                                                                                                                           \n",
      " country_with_max_value_import   | CHINA P RP                                                                                                                                    \n",
      " max_value_import                | 8596.25                                                                                                                                       \n",
      " longest_consecutive_year_import | 9                                                                                                                                             \n",
      " sum_value_export                | 113042.4600000001                                                                                                                             \n",
      " nums_country_export             | 218                                                                                                                                           \n",
      " country_with_max_value_export   | CHINA P RP                                                                                                                                    \n",
      " max_value_export                | 3249.21                                                                                                                                       \n",
      " longest_consecutive_year_export | 9                                                                                                                                             \n",
      " balance                         | -37270.20999999983                                                                                                                            \n",
      "-RECORD 10-----------------------------------------------------------------------------------------------------------------------------------------------------------------------\n",
      " Commodity                       | PROJECT GOODS; SOME SPECIAL USES.                                                                                                             \n",
      " sum_value_import                | 39179.01999999996                                                                                                                             \n",
      " nums_country_import             | 160                                                                                                                                           \n",
      " country_with_max_value_import   | CHINA P RP                                                                                                                                    \n",
      " max_value_import                | 5062.51                                                                                                                                       \n",
      " longest_consecutive_year_import | 9                                                                                                                                             \n",
      " sum_value_export                | 838.4200000000008                                                                                                                             \n",
      " nums_country_export             | 196                                                                                                                                           \n",
      " country_with_max_value_export   | BRAZIL                                                                                                                                        \n",
      " max_value_export                | 50.89                                                                                                                                         \n",
      " longest_consecutive_year_export | 9                                                                                                                                             \n",
      " balance                         | -38340.59999999996                                                                                                                            \n",
      "-RECORD 11-----------------------------------------------------------------------------------------------------------------------------------------------------------------------\n",
      " Commodity                       | PULP OF WOOD OR OF OTHER FIBROUS CELLULOSIC MATERIAL; WASTE AND SCRAP OF PAPER OR PAPERBOARD.                                                 \n",
      " sum_value_import                | 14932.170000000006                                                                                                                            \n",
      " nums_country_import             | 152                                                                                                                                           \n",
      " country_with_max_value_import   | U S A                                                                                                                                         \n",
      " max_value_import                | 759.45                                                                                                                                        \n",
      " longest_consecutive_year_import | 9                                                                                                                                             \n",
      " sum_value_export                | 100.14999999999993                                                                                                                            \n",
      " nums_country_export             | 96                                                                                                                                            \n",
      " country_with_max_value_export   | IRAN                                                                                                                                          \n",
      " max_value_export                | 10.58                                                                                                                                         \n",
      " longest_consecutive_year_export | 9                                                                                                                                             \n",
      " balance                         | -14832.020000000006                                                                                                                           \n",
      "-RECORD 12-----------------------------------------------------------------------------------------------------------------------------------------------------------------------\n",
      " Commodity                       | RAILWAY OR TRAMWAY LOCOMOTIVES, ROLLING-STOCK AND PARTS THEREOF; RAILWAY OR TRAMWAY TRACK FIXTURES AND FITTINGS AND PARTS THEREOF; MECHANICAL \n",
      " sum_value_import                | 3671.769999999996                                                                                                                             \n",
      " nums_country_import             | 108                                                                                                                                           \n",
      " country_with_max_value_import   | U S A                                                                                                                                         \n",
      " max_value_import                | 281.18                                                                                                                                        \n",
      " longest_consecutive_year_import | 9                                                                                                                                             \n",
      " sum_value_export                | 1920.7399999999984                                                                                                                            \n",
      " nums_country_export             | 149                                                                                                                                           \n",
      " country_with_max_value_export   | AUSTRALIA                                                                                                                                     \n",
      " max_value_export                | 350.07                                                                                                                                        \n",
      " longest_consecutive_year_export | 9                                                                                                                                             \n",
      " balance                         | -1751.0299999999975                                                                                                                           \n",
      "-RECORD 13-----------------------------------------------------------------------------------------------------------------------------------------------------------------------\n",
      " Commodity                       | SHIPS, BOATS AND FLOATING STRUCTURES.                                                                                                         \n",
      " sum_value_import                | 47597.75000000002                                                                                                                             \n",
      " nums_country_import             | 90                                                                                                                                            \n",
      " country_with_max_value_import   | CHINA P RP                                                                                                                                    \n",
      " max_value_import                | 1454.44                                                                                                                                       \n",
      " longest_consecutive_year_import | 9                                                                                                                                             \n",
      " sum_value_export                | 43183.310000000056                                                                                                                            \n",
      " nums_country_export             | 120                                                                                                                                           \n",
      " country_with_max_value_export   | SINGAPORE                                                                                                                                     \n",
      " max_value_export                | 3399.87                                                                                                                                       \n",
      " longest_consecutive_year_export | 9                                                                                                                                             \n",
      " balance                         | -4414.439999999966                                                                                                                            \n",
      "-RECORD 14-----------------------------------------------------------------------------------------------------------------------------------------------------------------------\n",
      " Commodity                       | SILK                                                                                                                                          \n",
      " sum_value_import                | 2367.4499999999985                                                                                                                            \n",
      " nums_country_import             | 68                                                                                                                                            \n",
      " country_with_max_value_import   | CHINA P RP                                                                                                                                    \n",
      " max_value_import                | 358.36                                                                                                                                        \n",
      " longest_consecutive_year_import | 9                                                                                                                                             \n",
      " sum_value_export                | 1432.0000000000002                                                                                                                            \n",
      " nums_country_export             | 175                                                                                                                                           \n",
      " country_with_max_value_export   | HONG KONG                                                                                                                                     \n",
      " max_value_export                | 146.29                                                                                                                                        \n",
      " longest_consecutive_year_export | 9                                                                                                                                             \n",
      " balance                         | -935.4499999999982                                                                                                                            \n",
      "-RECORD 15-----------------------------------------------------------------------------------------------------------------------------------------------------------------------\n",
      " Commodity                       | UMBRELLAS, SUN UMBRELLAS, WALKING-STICKS, SEAT-STICKS, WHIPS,RIDING-CROPS AND PARTS THEREOF.                                                  \n",
      " sum_value_import                | 275.0600000000004                                                                                                                             \n",
      " nums_country_import             | 70                                                                                                                                            \n",
      " country_with_max_value_import   | CHINA P RP                                                                                                                                    \n",
      " max_value_import                | 35.72                                                                                                                                         \n",
      " longest_consecutive_year_import | 9                                                                                                                                             \n",
      " sum_value_export                | 187.81999999999988                                                                                                                            \n",
      " nums_country_export             | 179                                                                                                                                           \n",
      " country_with_max_value_export   | U ARAB EMTS                                                                                                                                   \n",
      " max_value_export                | 20.95                                                                                                                                         \n",
      " longest_consecutive_year_export | 9                                                                                                                                             \n",
      " balance                         | -87.24000000000052                                                                                                                            \n",
      "-RECORD 16-----------------------------------------------------------------------------------------------------------------------------------------------------------------------\n",
      " Commodity                       | AIRCRAFT, SPACECRAFT, AND PARTS THEREOF.                                                                                                      \n",
      " sum_value_import                | 49957.82000000004                                                                                                                             \n",
      " nums_country_import             | 117                                                                                                                                           \n",
      " country_with_max_value_import   | U S A                                                                                                                                         \n",
      " max_value_import                | 4237.56                                                                                                                                       \n",
      " longest_consecutive_year_import | 9                                                                                                                                             \n",
      " sum_value_export                | 28277.810000000027                                                                                                                            \n",
      " nums_country_export             | 156                                                                                                                                           \n",
      " country_with_max_value_export   | SRI LANKA DSR                                                                                                                                 \n",
      " max_value_export                | 1745.17                                                                                                                                       \n",
      " longest_consecutive_year_export | 9                                                                                                                                             \n",
      " balance                         | -21680.010000000017                                                                                                                           \n",
      "-RECORD 17-----------------------------------------------------------------------------------------------------------------------------------------------------------------------\n",
      " Commodity                       | ALBUMINOIDAL SUBSTANCES; MODIFIED STARCHES; GLUES; ENZYMES.                                                                                   \n",
      " sum_value_import                | 3160.739999999998                                                                                                                             \n",
      " nums_country_import             | 110                                                                                                                                           \n",
      " country_with_max_value_import   | CHINA P RP                                                                                                                                    \n",
      " max_value_import                | 128.48                                                                                                                                        \n",
      " longest_consecutive_year_import | 9                                                                                                                                             \n",
      " sum_value_export                | 2435.6299999999983                                                                                                                            \n",
      " nums_country_export             | 188                                                                                                                                           \n",
      " country_with_max_value_export   | U S A                                                                                                                                         \n",
      " max_value_export                | 111.24                                                                                                                                        \n",
      " longest_consecutive_year_export | 9                                                                                                                                             \n",
      " balance                         | -725.1099999999997                                                                                                                            \n",
      "-RECORD 18-----------------------------------------------------------------------------------------------------------------------------------------------------------------------\n",
      " Commodity                       | ANIMAL OR VEGETABLE FATS AND OILS AND THEIR CLEAVAGE PRODUCTS; PRE. EDIBLE FATS; ANIMAL OR VEGETABLE WAXEX.                                   \n",
      " sum_value_import                | 90970.24999999999                                                                                                                             \n",
      " nums_country_import             | 102                                                                                                                                           \n",
      " country_with_max_value_import   | INDONESIA                                                                                                                                     \n",
      " max_value_import                | 5658.82                                                                                                                                       \n",
      " longest_consecutive_year_import | 9                                                                                                                                             \n",
      " sum_value_export                | 8821.950000000004                                                                                                                             \n",
      " nums_country_export             | 187                                                                                                                                           \n",
      " country_with_max_value_export   | CHINA P RP                                                                                                                                    \n",
      " max_value_export                | 440.57                                                                                                                                        \n",
      " longest_consecutive_year_export | 9                                                                                                                                             \n",
      " balance                         | -82148.29999999999                                                                                                                            \n",
      "-RECORD 19-----------------------------------------------------------------------------------------------------------------------------------------------------------------------\n",
      " Commodity                       | BEVERAGES, SPIRITS AND VINEGAR.                                                                                                               \n",
      " sum_value_import                | 4648.879999999996                                                                                                                             \n",
      " nums_country_import             | 123                                                                                                                                           \n",
      " country_with_max_value_import   | U S A                                                                                                                                         \n",
      " max_value_import                | 272.59                                                                                                                                        \n",
      " longest_consecutive_year_import | 9                                                                                                                                             \n",
      " sum_value_export                | 3009.989999999997                                                                                                                             \n",
      " nums_country_export             | 178                                                                                                                                           \n",
      " country_with_max_value_export   | U ARAB EMTS                                                                                                                                   \n",
      " max_value_export                | 85.6                                                                                                                                          \n",
      " longest_consecutive_year_export | 9                                                                                                                                             \n",
      " balance                         | -1638.8899999999985                                                                                                                           \n",
      "only showing top 20 rows\n",
      "\n"
     ]
    }
   ],
   "source": [
    "negative_balance_df = balance_df.filter(balance_df.balance < 0)\n",
    "print(negative_balance_df.count())\n",
    "negative_balance_df.show(truncate=False, vertical=True)"
   ]
  },
  {
   "cell_type": "code",
   "execution_count": 103,
   "id": "abcf3c17",
   "metadata": {},
   "outputs": [],
   "source": [
    "# coalesce > repartition. Big data => Out of memory\n",
    "# negative_balance_df.coalesce(1).write.csv(\"negativeTradeProduct\", header=True)\n",
    "import os, shutil\n",
    "# Remove _SUCCESS, _SUCCESS.crc, ...csv.crc\n",
    "def write_to_one_csv(df: pyspark.sql.dataframe.DataFrame, file_name: str):\n",
    "    if os.path.exists(file_name):\n",
    "        shutil.rmtree(file_name)\n",
    "    # Repartition to 1 partition to write to one csv file => In a folder name as file_name\n",
    "    df.coalesce(1).write.csv(file_name, header=True)\n",
    "    # Copy the single csv file to outside\n",
    "    for file in os.listdir(file_name):\n",
    "        if file.endswith(\".csv\"):\n",
    "            print(file)\n",
    "            shutil.copy(file_name + \"/\" + file, file_name + '.csv')\n",
    "            break\n",
    "    # Remove the remain folder\n",
    "    shutil.rmtree(file_name)\n",
    "    "
   ]
  },
  {
   "cell_type": "code",
   "execution_count": 104,
   "id": "c8ef5cdf",
   "metadata": {},
   "outputs": [
    {
     "name": "stderr",
     "output_type": "stream",
     "text": [
      "                                                                                \r"
     ]
    },
    {
     "name": "stdout",
     "output_type": "stream",
     "text": [
      "+--------------------+------------------+-------------------+-----------------------------+----------------+-------------------------------+------------------+-------------------+-----------------------------+----------------+-------------------------------+------------------+\n",
      "|           Commodity|  sum_value_import|nums_country_import|country_with_max_value_import|max_value_import|longest_consecutive_year_import|  sum_value_export|nums_country_export|country_with_max_value_export|max_value_export|longest_consecutive_year_export|           balance|\n",
      "+--------------------+------------------+-------------------+-----------------------------+----------------+-------------------------------+------------------+-------------------+-----------------------------+----------------+-------------------------------+------------------+\n",
      "|ARMS AND AMMUNITI...|326.37000000000023|                 52|                 SOUTH AFRICA|           41.67|                              9| 728.0800000000011|                135|                       FRANCE|           68.16|                              9|401.71000000000083|\n",
      "|ARTICLES OF APPAR...|2089.7899999999986|                134|                   CHINA P RP|          197.89|                              9|62335.470000000016|                226|                  U ARAB EMTS|         2114.92|                              9|60245.680000000015|\n",
      "|ARTICLES OF APPAR...|2861.9599999999946|                128|                BANGLADESH PR|          285.13|                              9| 75154.45999999999|                231|                        U S A|         2231.06|                              9|           72292.5|\n",
      "|ARTICLES OF IRON ...| 36412.63000000003|                199|                   CHINA P RP|         1735.33|                              9|61659.530000000064|                229|                        U S A|         1756.05|                              9|25246.900000000038|\n",
      "|ARTICLES OF LEATH...| 2865.159999999998|                131|                   CHINA P RP|          377.04|                              9|20343.830000000024|                227|                        U S A|          570.26|                              9|17478.670000000027|\n",
      "|ARTICLES OF STONE...| 5749.239999999992|                137|                   CHINA P RP|          539.19|                              9|11624.250000000011|                217|                        U S A|          538.83|                              9| 5875.010000000019|\n",
      "|CARPETS AND OTHER...| 833.1100000000004|                 90|                   CHINA P RP|           37.89|                              9|14488.630000000025|                209|                        U S A|          925.08|                              9|13655.520000000024|\n",
      "|            CEREALS.|2206.8599999999997|                 63|                      UKRAINE|          619.23|                              9| 68018.15000000002|                203|                         IRAN|         1968.73|                              9| 65811.29000000002|\n",
      "|ESSENTIAL OILS AN...|  6101.31999999999|                140|                  U ARAB EMTS|          290.08|                              9|13733.770000000017|                219|                        U S A|           320.0|                              9| 7632.450000000027|\n",
      "|FOOTWEAR, GAITERS...| 4348.869999999992|                130|                   CHINA P RP|          463.64|                              9| 22687.08000000002|                218|                          U K|          497.38|                              9| 18338.21000000003|\n",
      "|FURSKINS AND ARTI...| 64.35000000000001|                 56|                   CHINA P RP|             2.9|                              9| 92.17999999999994|                117|                        U S A|            4.68|                              9|27.829999999999927|\n",
      "|       LIVE ANIMALS.|149.68999999999994|                 90|                        U S A|            4.07|                              9|386.19000000000005|                 95|                  U ARAB EMTS|           55.18|                              9| 236.5000000000001|\n",
      "| MAN-MADE FILAMENTS.| 7126.429999999997|                114|                   CHINA P RP|          447.87|                              9|20649.139999999996|                210|                  U ARAB EMTS|          369.77|                              9|          13522.71|\n",
      "|MAN-MADE STAPLE F...| 5801.739999999996|                107|                   CHINA P RP|           326.8|                              9|18440.300000000007|                194|                BANGLADESH PR|          256.84|                              9| 12638.56000000001|\n",
      "|MISCELLANEOUS EDI...|           1303.26|                121|                        U S A|          106.81|                              9| 5178.789999999991|                205|                        U S A|          159.29|                              9|3875.5299999999907|\n",
      "|OIL SEEDS AND OLE...| 2962.869999999999|                130|                        SUDAN|          123.13|                              9|15717.470000000008|                202|              VIETNAM SOC REP|          437.95|                              9| 12754.60000000001|\n",
      "|OTHER MADE UP TEX...|3937.5699999999915|                145|                   CHINA P RP|           225.5|                              9|39782.380000000056|                231|                        U S A|         2472.97|                              9| 35844.81000000006|\n",
      "|OTHER VEGETABLE T...| 2737.029999999998|                 75|                BANGLADESH PR|          195.79|                              9| 3534.729999999995|                186|                   CHINA P RP|          117.17|                              9| 797.6999999999971|\n",
      "|PREPARATIONS OF M...|51.449999999999996|                 39|                SRI LANKA DSR|            2.19|                              9|           2204.54|                135|                        U S A|          326.71|                              9|           2153.09|\n",
      "|PREPARED FEATHERS...|154.85000000000014|                 66|                   CHINA P RP|           22.14|                              9|2408.5899999999997|                170|                   CHINA P RP|          191.84|                              9|           2253.74|\n",
      "+--------------------+------------------+-------------------+-----------------------------+----------------+-------------------------------+------------------+-------------------+-----------------------------+----------------+-------------------------------+------------------+\n",
      "only showing top 20 rows\n",
      "\n"
     ]
    }
   ],
   "source": [
    "positive_balance_df.show()"
   ]
  },
  {
   "cell_type": "code",
   "execution_count": 105,
   "id": "d5968990",
   "metadata": {},
   "outputs": [
    {
     "name": "stderr",
     "output_type": "stream",
     "text": [
      "[Stage 1150:>                                                       (0 + 1) / 1]\r"
     ]
    },
    {
     "name": "stdout",
     "output_type": "stream",
     "text": [
      "part-00000-e2c09512-bf20-43b7-a82c-375304af294a-c000.csv\n"
     ]
    },
    {
     "name": "stderr",
     "output_type": "stream",
     "text": [
      "                                                                                \r"
     ]
    }
   ],
   "source": [
    "write_to_one_csv(positive_balance_df, \"data/positiveTradeProduct\")"
   ]
  },
  {
   "cell_type": "code",
   "execution_count": 106,
   "id": "6001412e",
   "metadata": {},
   "outputs": [
    {
     "name": "stderr",
     "output_type": "stream",
     "text": [
      "[Stage 1188:>                                                       (0 + 1) / 1]\r"
     ]
    },
    {
     "name": "stdout",
     "output_type": "stream",
     "text": [
      "part-00000-8bc7e2c0-6418-4e31-961d-2c84a744715e-c000.csv\n"
     ]
    },
    {
     "name": "stderr",
     "output_type": "stream",
     "text": [
      "                                                                                \r"
     ]
    }
   ],
   "source": [
    "write_to_one_csv(negative_balance_df, \"data/negativeTradeProduct\")"
   ]
  },
  {
   "cell_type": "markdown",
   "id": "67024ee6",
   "metadata": {},
   "source": [
    "## Problem 2: Accumulated value"
   ]
  },
  {
   "cell_type": "markdown",
   "id": "b5d6760b",
   "metadata": {},
   "source": [
    "### Column format (There is a column year)"
   ]
  },
  {
   "cell_type": "code",
   "execution_count": 107,
   "id": "144c8c31",
   "metadata": {},
   "outputs": [
    {
     "name": "stdout",
     "output_type": "stream",
     "text": [
      "Accumulated import value in column format\n"
     ]
    },
    {
     "name": "stderr",
     "output_type": "stream",
     "text": [
      "[Stage 1189:============================>                           (1 + 1) / 2]\r"
     ]
    },
    {
     "name": "stdout",
     "output_type": "stream",
     "text": [
      "+------+--------------------+-----+---------------+----+----------+------------+---------+\n",
      "|HSCode|           Commodity|value|        country|year|rank_value|country_rank|acc_value|\n",
      "+------+--------------------+-----+---------------+----+----------+------------+---------+\n",
      "|    88|AIRCRAFT, SPACECR...| 0.12|AFGHANISTAN TIS|2012|       474|        null|     0.12|\n",
      "|    88|AIRCRAFT, SPACECR...| 0.37|AFGHANISTAN TIS|2013|       305|        null|     0.49|\n",
      "|    88|AIRCRAFT, SPACECR...|  0.0|    AMERI SAMOA|2016|       624|        null|     0.00|\n",
      "|    88|AIRCRAFT, SPACECR...| 0.37|    AMERI SAMOA|2017|       305|        null|     0.37|\n",
      "|    88|AIRCRAFT, SPACECR...| 0.37|      ANTARTICA|2010|       305|        null|     0.37|\n",
      "|    88|AIRCRAFT, SPACECR...| 2.88|      AUSTRALIA|2010|       190|        null|     2.88|\n",
      "|    88|AIRCRAFT, SPACECR...| 1.11|      AUSTRALIA|2011|       237|        null|     3.99|\n",
      "|    88|AIRCRAFT, SPACECR...|  0.9|      AUSTRALIA|2012|       255|        null|     4.89|\n",
      "|    88|AIRCRAFT, SPACECR...| 0.29|      AUSTRALIA|2013|       426|        null|     5.18|\n",
      "|    88|AIRCRAFT, SPACECR...|  0.9|      AUSTRALIA|2014|       255|        null|     6.08|\n",
      "|    88|AIRCRAFT, SPACECR...| 0.52|      AUSTRALIA|2015|       283|        null|     6.60|\n",
      "|    88|AIRCRAFT, SPACECR...| 4.47|      AUSTRALIA|2016|       174|        null|    11.07|\n",
      "|    88|AIRCRAFT, SPACECR...| 1.59|      AUSTRALIA|2017|       223|        null|    12.66|\n",
      "|    88|AIRCRAFT, SPACECR...| 0.16|      AUSTRALIA|2018|       459|        null|    12.82|\n",
      "|    88|AIRCRAFT, SPACECR...| 0.95|        AUSTRIA|2010|       253|        null|     0.95|\n",
      "|    88|AIRCRAFT, SPACECR...| 0.45|        AUSTRIA|2011|       294|        null|     1.40|\n",
      "|    88|AIRCRAFT, SPACECR...| 4.07|        AUSTRIA|2012|       177|        null|     5.47|\n",
      "|    88|AIRCRAFT, SPACECR...| 1.53|        AUSTRIA|2013|       225|        null|     7.00|\n",
      "|    88|AIRCRAFT, SPACECR...| 0.43|        AUSTRIA|2014|       296|        null|     7.43|\n",
      "|    88|AIRCRAFT, SPACECR...| 1.76|        AUSTRIA|2015|       216|        null|     9.19|\n",
      "+------+--------------------+-----+---------------+----+----------+------------+---------+\n",
      "only showing top 20 rows\n",
      "\n"
     ]
    },
    {
     "name": "stderr",
     "output_type": "stream",
     "text": [
      "                                                                                \r"
     ]
    }
   ],
   "source": [
    "column_acc_import = df_import.withColumn(\"acc_value\", F.expr(\"sum(value) over (partition by commodity, country order by year)\")) \\\n",
    "                    .withColumn('acc_value', F.col(\"acc_value\").cast(\"decimal(38,2)\"))\n",
    "print(\"Accumulated import value in column format\")\n",
    "column_acc_import.show()"
   ]
  },
  {
   "cell_type": "code",
   "execution_count": 108,
   "id": "f2b32056",
   "metadata": {},
   "outputs": [
    {
     "name": "stdout",
     "output_type": "stream",
     "text": [
      "Accumulated export value in column format\n",
      "+------+--------------------+-----+---------------+----+----------+------------+---------+\n",
      "|HSCode|           Commodity|value|        country|year|rank_value|country_rank|acc_value|\n",
      "+------+--------------------+-----+---------------+----+----------+------------+---------+\n",
      "|    76|ALUMINIUM AND ART...| 3.51|AFGHANISTAN TIS|2010|       527|        null|     3.51|\n",
      "|    76|ALUMINIUM AND ART...| 2.63|AFGHANISTAN TIS|2011|       578|        null|     6.14|\n",
      "|    76|ALUMINIUM AND ART...|  3.6|AFGHANISTAN TIS|2012|       519|        null|     9.74|\n",
      "|    76|ALUMINIUM AND ART...| 1.81|AFGHANISTAN TIS|2013|       664|        null|    11.55|\n",
      "|    76|ALUMINIUM AND ART...| 5.01|AFGHANISTAN TIS|2014|       441|        null|    16.56|\n",
      "|    76|ALUMINIUM AND ART...| 8.86|AFGHANISTAN TIS|2015|       354|        null|    25.42|\n",
      "|    76|ALUMINIUM AND ART...|  9.4|AFGHANISTAN TIS|2016|       342|        null|    34.82|\n",
      "|    76|ALUMINIUM AND ART...|40.56|AFGHANISTAN TIS|2017|       133|        null|    75.38|\n",
      "|    76|ALUMINIUM AND ART...|38.36|AFGHANISTAN TIS|2018|       139|        null|   113.74|\n",
      "|    76|ALUMINIUM AND ART...| 0.01|        ALBANIA|2010|      1488|        null|     0.01|\n",
      "|    76|ALUMINIUM AND ART...|  0.6|        ALBANIA|2011|       892|        null|     0.61|\n",
      "|    76|ALUMINIUM AND ART...| 4.31|        ALBANIA|2012|       473|        null|     4.92|\n",
      "|    76|ALUMINIUM AND ART...| 5.34|        ALBANIA|2013|       432|        null|    10.26|\n",
      "|    76|ALUMINIUM AND ART...|  3.9|        ALBANIA|2014|       497|        null|    14.16|\n",
      "|    76|ALUMINIUM AND ART...| 4.74|        ALBANIA|2015|       455|        null|    18.90|\n",
      "|    76|ALUMINIUM AND ART...| 4.24|        ALBANIA|2016|       477|        null|    23.14|\n",
      "|    76|ALUMINIUM AND ART...| 3.38|        ALBANIA|2017|       536|        null|    26.52|\n",
      "|    76|ALUMINIUM AND ART...| 1.31|        ALBANIA|2018|       742|        null|    27.83|\n",
      "|    76|ALUMINIUM AND ART...|17.81|        ALGERIA|2010|       241|        null|    17.81|\n",
      "|    76|ALUMINIUM AND ART...| 7.27|        ALGERIA|2011|       392|        null|    25.08|\n",
      "+------+--------------------+-----+---------------+----+----------+------------+---------+\n",
      "only showing top 20 rows\n",
      "\n"
     ]
    }
   ],
   "source": [
    "from pyspark.sql import Window\n",
    "column_acc_export = df_export.withColumn(\"acc_value\", F.sum(\"value\").over(Window.partitionBy(\"Commodity\", \"country\").orderBy(\"year\"))) \\\n",
    "                    .withColumn('acc_value', F.col(\"acc_value\").cast(\"decimal(38,2)\"))\n",
    "print(\"Accumulated export value in column format\")\n",
    "column_acc_export.show()"
   ]
  },
  {
   "cell_type": "markdown",
   "id": "b5d6760b",
   "metadata": {},
   "source": [
    "### Row format (Each year becomes a column name)"
   ]
  },
  {
   "cell_type": "code",
   "execution_count": 109,
   "id": "b3951254",
   "metadata": {},
   "outputs": [
    {
     "name": "stdout",
     "output_type": "stream",
     "text": [
      "Accumulated import value in row format\n",
      "+--------------------+---------------+----+-----+-----+-----+-----+-----+-----+-----+------+\n",
      "|           Commodity|        country|2010| 2011| 2012| 2013| 2014| 2015| 2016| 2017|  2018|\n",
      "+--------------------+---------------+----+-----+-----+-----+-----+-----+-----+-----+------+\n",
      "|ELECTRICAL MACHIN...|    BAHARAIN IS|1.08| 3.79| 5.97| 6.92|10.01|10.19|11.40|13.91| 16.17|\n",
      "|WOOD AND ARTICLES...|  NEW CALEDONIA| 0.0| 0.00| 0.20| 0.57| 0.57| 0.57| 0.57| 0.57|  0.57|\n",
      "|RAW HIDES AND SKI...|BOSNIA-HRZGOVIN|0.01| 0.38| 0.38| 0.48| 0.85| 0.87| 0.88| 0.96|  0.96|\n",
      "|            CEREALS.|VIETNAM SOC REP|0.05| 0.42| 0.43| 0.80| 0.80| 0.80| 0.80| 0.81|  0.89|\n",
      "|PAPER AND PAPERBO...|        GEORGIA|3.16| 3.16| 3.53| 3.56| 3.93| 3.93| 4.22| 4.59|  4.96|\n",
      "|TANNING OR DYEING...|         UGANDA| 0.0| 0.00| 0.00| 0.00| 0.00| 0.00| 0.00| 0.00|  0.37|\n",
      "|MANUFACTURES OF S...|BOSNIA-HRZGOVIN| 0.0| 0.00| 0.00| 0.00| 0.00| 0.00| 0.02| 0.04|  0.41|\n",
      "|ARTICLES OF STONE...|        LEBANON|0.01| 0.01| 0.02| 0.04| 0.05| 0.06| 0.06| 0.43|  0.43|\n",
      "|        FERTILISERS.|       PORTUGAL|0.37| 0.41| 0.68| 0.70| 1.07| 1.07| 1.07| 1.07|  1.07|\n",
      "|RESIDUES AND WAST...|      SINGAPORE|5.97|13.59|18.73|25.46|32.01|42.06|53.09|66.06|134.62|\n",
      "|PULP OF WOOD OR O...|     MARTINIQUE| 0.0| 0.00| 0.04| 0.13| 0.13| 0.50| 0.50| 0.50|  1.06|\n",
      "|MISCELLANEOUS EDI...|    BAHARAIN IS|0.38| 1.31| 2.08| 2.45| 3.40| 4.25| 5.66| 6.26|  6.54|\n",
      "|      IRON AND STEEL|       BULGARIA|0.45| 1.85| 3.10| 4.68| 7.66|10.07|13.07|20.41| 29.00|\n",
      "|OPTICAL, PHOTOGRA...|          NEPAL|0.14| 0.27| 0.30| 0.45| 0.73| 0.80| 1.09| 1.12|  2.06|\n",
      "|PROJECT GOODS; SO...|       BULGARIA| 0.0| 0.00| 0.37| 0.37| 0.74| 0.74| 0.76| 0.77|  1.14|\n",
      "|LEAD AND ARTICLES...|    CONGO P REP|0.04| 0.41| 0.67| 1.98| 2.64| 4.17| 7.07| 7.24|  7.69|\n",
      "|WOOD AND ARTICLES...|    UNSPECIFIED|16.5|19.24|19.68|21.00|21.02|21.13|21.13|21.49| 21.50|\n",
      "|PHARMACEUTICAL PR...|     KAZAKHSTAN| 0.0| 0.00| 0.37| 0.37| 0.38| 0.39| 0.76| 0.76|  0.81|\n",
      "| MAN-MADE FILAMENTS.|        ROMANIA|0.31| 0.50| 0.65| 0.84| 0.87| 0.94| 0.94| 0.94|  0.96|\n",
      "|ELECTRICAL MACHIN...|        BURUNDI| 0.0| 0.06| 0.09| 0.46| 0.49| 0.49| 0.86| 0.99|  1.36|\n",
      "+--------------------+---------------+----+-----+-----+-----+-----+-----+-----+-----+------+\n",
      "only showing top 20 rows\n",
      "\n"
     ]
    }
   ],
   "source": [
    "# Pivot function\n",
    "row_acc_import = df_import.groupBy(\"Commodity\", \"country\").pivot(\"year\").sum(\"value\").na.fill(0)\n",
    "\n",
    "for i in range(2011, 2019):\n",
    "        row_acc_import = row_acc_import.withColumn(str(i), F.col(str(i-1)) + F.col(str(i))) \\\n",
    "                        .withColumn(str(i), F.col(str(i)).cast(\"decimal(38,2)\"))                                                                                                                                                                                \n",
    "print(\"Accumulated import value in row format\")\n",
    "row_acc_import.show()"
   ]
  },
  {
   "cell_type": "code",
   "execution_count": 110,
   "id": "ccfe59fa",
   "metadata": {},
   "outputs": [
    {
     "name": "stdout",
     "output_type": "stream",
     "text": [
      "Accumulated export value in row format\n"
     ]
    },
    {
     "name": "stderr",
     "output_type": "stream",
     "text": [
      "[Stage 1224:=====================================>                  (2 + 1) / 3]\r"
     ]
    },
    {
     "name": "stdout",
     "output_type": "stream",
     "text": [
      "+--------------------+---------------+------+------+------+------+-------+-------+-------+-------+-------+\n",
      "|           Commodity|        country|  2010|  2011|  2012|  2013|   2014|   2015|   2016|   2017|   2018|\n",
      "+--------------------+---------------+------+------+------+------+-------+-------+-------+-------+-------+\n",
      "|INORGANIC CHEMICA...|       BARBADOS|  0.03|  0.07|  0.08|  0.09|   0.10|   0.11|   0.12|   0.13|   0.15|\n",
      "|FISH AND CRUSTACE...|        COMOROS|   0.0|  0.00|  0.00|  0.00|   0.00|   0.04|   0.26|   0.49|   0.67|\n",
      "|ARTICLES OF LEATH...|        CROATIA|   1.0|  2.16|  3.30|  4.23|   5.20|   5.83|   6.72|   7.68|   8.37|\n",
      "|ARTICLES OF LEATH...|   KIRIBATI REP|   0.0|  0.00|  0.00|  0.00|   0.00|   0.00|   0.00|   0.36|   0.36|\n",
      "|ELECTRICAL MACHIN...|    BAHARAIN IS| 24.56| 54.40| 87.21|116.62| 141.95| 165.67| 188.57| 225.65| 259.75|\n",
      "|TOOLS IMPLEMENTS,...|      MAURITIUS|  0.37|  0.64|  0.79|  0.91|   1.20|   1.56|   1.91|   2.53|   3.13|\n",
      "|             COTTON.|          SYRIA|  0.47|  1.22|  1.66|  1.91|   4.34|   5.26|   8.36|  17.76|  28.68|\n",
      "|            CEREALS.|VIETNAM SOC REP|156.99|369.09|730.88|960.41|1068.63|1074.32|1078.35|1086.73|1107.89|\n",
      "|ELECTRICAL MACHIN...|          NIGER|   3.3|  6.54|  9.58| 11.63|  16.30|  20.61|  22.73|  41.75|  47.14|\n",
      "|      IRON AND STEEL|       BULGARIA| 10.78| 30.71| 71.30| 81.39|  89.60|  95.76| 106.16| 119.73| 129.79|\n",
      "|WOOL, FINE OR COA...|        NIGERIA|  0.02|  0.09|  0.45|  0.46|   0.48|   0.50|   0.51|   0.55|   0.61|\n",
      "|        FERTILISERS.|    DOMINIC REP|  0.36|  0.37|  0.40|  0.42|   0.50|   0.50|   0.54|   0.65|   0.67|\n",
      "|ELECTRICAL MACHIN...|     MONTSERRAT|  0.17|  0.53|  0.57|  0.57|   0.90|   1.19|   1.35|   1.35|   1.71|\n",
      "|MINERAL FUELS, MI...|         GAMBIA|   0.0|  0.00|  0.00|  0.00|   0.04|   0.29|   0.52|   0.66|   1.00|\n",
      "|PRINTED BOOKDS, N...|         MONACO|  0.36|  0.36|  0.72|  0.72|   0.72|   0.72|   0.72|   0.72|   0.72|\n",
      "|PAPER AND PAPERBO...|        GEORGIA|  1.39|  3.63|  5.73|  7.77|  10.75|  13.00|  14.83|  16.38|  18.02|\n",
      "|FOOTWEAR, GAITERS...|     SEYCHELLES|   0.0|  0.03|  0.03|  0.05|   0.14|   0.28|   0.37|   0.43|   0.51|\n",
      "|KNITTED OR CROCHE...|       BARBADOS|   0.0|  0.00|  0.00|  0.00|   0.36|   0.72|   0.72|   1.08|   1.08|\n",
      "|TANNING OR DYEING...|         UGANDA|  2.13|  4.74|  6.38|  9.01|  11.92|  16.18|  21.88|  28.44|  38.44|\n",
      "|UMBRELLAS, SUN UM...|        NIGERIA|  0.01|  0.02|  0.02|  0.04|   0.04|   0.04|   0.04|   0.05|   0.13|\n",
      "+--------------------+---------------+------+------+------+------+-------+-------+-------+-------+-------+\n",
      "only showing top 20 rows\n",
      "\n"
     ]
    },
    {
     "name": "stderr",
     "output_type": "stream",
     "text": [
      "                                                                                \r"
     ]
    }
   ],
   "source": [
    "row_acc_export = df_export.groupBy(\"Commodity\", \"country\").pivot(\"year\").sum(\"value\").na.fill(0)\n",
    "\n",
    "for i in range(2011, 2019):\n",
    "        row_acc_export = row_acc_export.withColumn(str(i), F.col(str(i-1)) + F.col(str(i))) \\\n",
    "                        .withColumn(str(i), F.col(str(i)).cast(\"decimal(38,2)\"))\n",
    "print(\"Accumulated export value in row format\")\n",
    "row_acc_export.show()"
   ]
  },
  {
   "cell_type": "code",
   "execution_count": 111,
   "id": "b071c87c",
   "metadata": {},
   "outputs": [],
   "source": [
    "# Run main Spark UI at localhost:8081\n",
    "# Run Spark UI at localhost:4040 or localhost:4041 when running in a cluster\n",
    "spark.stop()"
   ]
  }
 ],
 "metadata": {
  "kernelspec": {
   "display_name": "Python 3.6.13 ('hello-spark')",
   "language": "python",
   "name": "python3"
  },
  "language_info": {
   "codemirror_mode": {
    "name": "ipython",
    "version": 3
   },
   "file_extension": ".py",
   "mimetype": "text/x-python",
   "name": "python",
   "nbconvert_exporter": "python",
   "pygments_lexer": "ipython3",
   "version": "3.8.10"
  },
  "vscode": {
   "interpreter": {
    "hash": "268fd730bccc959300f668ddd198a794da6371e4ca2054d9eba6d743054fab7f"
   }
  }
 },
 "nbformat": 4,
 "nbformat_minor": 5
}
